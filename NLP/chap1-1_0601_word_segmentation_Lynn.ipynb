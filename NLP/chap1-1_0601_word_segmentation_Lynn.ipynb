{
 "cells": [
  {
   "cell_type": "markdown",
   "metadata": {
    "id": "GtfgW_s_9R7j"
   },
   "source": [
    "# 分詞實作練習\n",
    "- Author: Lynn\n",
    "- Created: 2020/10/27"
   ]
  },
  {
   "cell_type": "markdown",
   "metadata": {
    "id": "8enlmsQ50Tr5"
   },
   "source": [
    "## 以結巴(Jieba)套件進行中文文本分詞\n",
    "- Reference：https://github.com/fxsjy/jieba"
   ]
  },
  {
   "cell_type": "markdown",
   "metadata": {
    "id": "iXo6ciU_0d62"
   },
   "source": [
    "### 安裝"
   ]
  },
  {
   "cell_type": "code",
   "execution_count": 11,
   "metadata": {
    "colab": {
     "base_uri": "https://localhost:8080/"
    },
    "executionInfo": {
     "elapsed": 4575,
     "status": "ok",
     "timestamp": 1619403836202,
     "user": {
      "displayName": "Lynn Lin",
      "photoUrl": "",
      "userId": "07165999200005709405"
     },
     "user_tz": -480
    },
    "id": "_pxsxJB80al9",
    "outputId": "8bb1c90a-a4e2-4e95-f9c0-d52c8fffa435"
   },
   "outputs": [
    {
     "name": "stdout",
     "output_type": "stream",
     "text": [
      "Requirement already satisfied: jieba in c:\\users\\leoshr\\appdata\\local\\programs\\python\\python39\\lib\\site-packages (0.42.1)"
     ]
    },
    {
     "name": "stderr",
     "output_type": "stream",
     "text": [
      "WARNING: You are using pip version 20.2.3; however, version 22.0.3 is available.\n",
      "You should consider upgrading via the 'c:\\users\\leoshr\\appdata\\local\\programs\\python\\python39\\python.exe -m pip install --upgrade pip' command.\n"
     ]
    },
    {
     "name": "stdout",
     "output_type": "stream",
     "text": [
      "\n",
      "Collecting paddlepaddle"
     ]
    },
    {
     "name": "stderr",
     "output_type": "stream",
     "text": [
      "WARNING: You are using pip version 20.2.3; however, version 22.0.3 is available.\n",
      "You should consider upgrading via the 'c:\\users\\leoshr\\appdata\\local\\programs\\python\\python39\\python.exe -m pip install --upgrade pip' command.\n"
     ]
    },
    {
     "name": "stdout",
     "output_type": "stream",
     "text": [
      "\n",
      "  Downloading paddlepaddle-2.2.2-cp39-cp39-win_amd64.whl (58.3 MB)\n",
      "Collecting numpy<=1.19.3,>=1.13; python_version >= \"3.5\" and platform_system == \"Windows\"\n",
      "  Downloading numpy-1.19.3-cp39-cp39-win_amd64.whl (13.3 MB)\n",
      "Requirement already satisfied: six in c:\\users\\leoshr\\appdata\\local\\programs\\python\\python39\\lib\\site-packages (from paddlepaddle) (1.11.0)\n",
      "Collecting requests>=2.20.0\n",
      "  Downloading requests-2.27.1-py2.py3-none-any.whl (63 kB)\n",
      "Collecting astor\n",
      "  Downloading astor-0.8.1-py2.py3-none-any.whl (27 kB)\n",
      "Requirement already satisfied: Pillow in c:\\users\\leoshr\\appdata\\local\\programs\\python\\python39\\lib\\site-packages (from paddlepaddle) (8.4.0)\n",
      "Collecting protobuf>=3.1.0\n",
      "  Downloading protobuf-3.19.4-cp39-cp39-win_amd64.whl (895 kB)\n",
      "Requirement already satisfied: decorator in c:\\users\\leoshr\\appdata\\local\\programs\\python\\python39\\lib\\site-packages (from paddlepaddle) (5.1.0)\n",
      "Collecting charset-normalizer~=2.0.0; python_version >= \"3\"\n",
      "  Downloading charset_normalizer-2.0.12-py3-none-any.whl (39 kB)\n",
      "Collecting urllib3<1.27,>=1.21.1\n",
      "  Downloading urllib3-1.26.8-py2.py3-none-any.whl (138 kB)\n",
      "Collecting certifi>=2017.4.17\n",
      "  Downloading certifi-2021.10.8-py2.py3-none-any.whl (149 kB)\n",
      "Collecting idna<4,>=2.5; python_version >= \"3\"\n",
      "  Downloading idna-3.3-py3-none-any.whl (61 kB)\n",
      "Installing collected packages: numpy, charset-normalizer, urllib3, certifi, idna, requests, astor, protobuf, paddlepaddle\n",
      "  Attempting uninstall: numpy\n",
      "    Found existing installation: numpy 1.21.2\n",
      "    Uninstalling numpy-1.21.2:\n",
      "      Successfully uninstalled numpy-1.21.2\n",
      "Successfully installed astor-0.8.1 certifi-2021.10.8 charset-normalizer-2.0.12 idna-3.3 numpy-1.19.3 paddlepaddle-2.2.2 protobuf-3.19.4 requests-2.27.1 urllib3-1.26.8\n"
     ]
    }
   ],
   "source": [
    "!pip install jieba  \n",
    "!pip install paddlepaddle"
   ]
  },
  {
   "cell_type": "markdown",
   "metadata": {
    "id": "4QDHyKjl0hPZ"
   },
   "source": [
    "### 載入"
   ]
  },
  {
   "cell_type": "code",
   "execution_count": 12,
   "metadata": {
    "id": "PXELl3Sd0b3f"
   },
   "outputs": [
    {
     "name": "stderr",
     "output_type": "stream",
     "text": [
      "c:\\users\\leoshr\\appdata\\local\\programs\\python\\python39\\lib\\site-packages\\setuptools\\distutils_patch.py:25: UserWarning: Distutils was imported before Setuptools. This usage is discouraged and may exhibit undesirable behaviors or errors. Please use Setuptools' objects directly or at least import Setuptools first.\n",
      "  warnings.warn(\n"
     ]
    }
   ],
   "source": [
    "import jieba\n",
    "import paddle"
   ]
  },
  {
   "cell_type": "markdown",
   "metadata": {},
   "source": [
    "## 啟動paddle mode "
   ]
  },
  {
   "cell_type": "markdown",
   "metadata": {
    "id": "GBxOYoVl00yd"
   },
   "source": [
    "### 分詞"
   ]
  },
  {
   "cell_type": "code",
   "execution_count": 3,
   "metadata": {
    "id": "E3uVDEU51A5C"
   },
   "outputs": [],
   "source": [
    "sentence = '土地公有政策，飛越太平洋。'\n",
    "#sentence = '我們在野生動物園玩'\n",
    "#sentence = '電子計算機是會計算題目的機器'"
   ]
  },
  {
   "cell_type": "code",
   "execution_count": null,
   "metadata": {
    "colab": {
     "base_uri": "https://localhost:8080/"
    },
    "executionInfo": {
     "elapsed": 899,
     "status": "ok",
     "timestamp": 1619404327919,
     "user": {
      "displayName": "Lynn Lin",
      "photoUrl": "",
      "userId": "07165999200005709405"
     },
     "user_tz": -480
    },
    "id": "XFFJ5L7228Kf",
    "outputId": "3d66988e-e479-49a0-ec1a-f981c0a86870"
   },
   "outputs": [
    {
     "name": "stdout",
     "output_type": "stream",
     "text": [
      "jieba.cut:  <generator object Tokenizer.cut at 0x0000000005970040>\n",
      "['土地', '公有', '政策', '，', '飛越', '太平洋', '。']\n"
     ]
    }
   ],
   "source": [
    "#method 1   jieba.cut\n",
    "# 回傳可迭代物件\n",
    "words = jieba.cut(sentence)  #function jieba.cut()\n",
    "print('jieba.cut: ',words)  #輸出可迭代物件object，非 List\n",
    "#<generator object Tokenizer.cut at 0x0000000007A1A970> \n",
    "\n",
    "\n",
    "\n",
    "\n",
    "print([word for word in words])\n",
    "# 取出並放入list\n",
    "#太慢!!!不優"
   ]
  },
  {
   "cell_type": "code",
   "execution_count": 9,
   "metadata": {
    "id": "qwQK5vrZkOWI",
    "outputId": "f27479ce-2baa-4ef8-cf80-ad77a8bdcde6"
   },
   "outputs": [
    {
     "name": "stdout",
     "output_type": "stream",
     "text": [
      "['土地', '公有', '政策', '，', '飛越', '太平洋', '。']\n"
     ]
    }
   ],
   "source": [
    "#method 2  jieba.lcut\n",
    "\n",
    "#直接用lcut function 得到 list\n",
    "print(jieba.lcut(sentence))\n",
    "# 直接回傳list"
   ]
  },
  {
   "cell_type": "code",
   "execution_count": 10,
   "metadata": {
    "colab": {
     "base_uri": "https://localhost:8080/"
    },
    "executionInfo": {
     "elapsed": 778,
     "status": "ok",
     "timestamp": 1619342065245,
     "user": {
      "displayName": "Lynn Lin",
      "photoUrl": "",
      "userId": "07165999200005709405"
     },
     "user_tz": -480
    },
    "id": "N9uR0qtH0o-f",
    "outputId": "949de683-1c10-4544-d8a0-838c8079c967"
   },
   "outputs": [
    {
     "name": "stdout",
     "output_type": "stream",
     "text": [
      "['土地', '公有', '政策', '，', '飛越', '太平洋', '。']\n",
      "['土地', '土地公', '公有', '政策', '，', '飛', '越', '太平', '太平洋', '。']\n",
      "['土地', '公有', '政策', '，', '飛', '越', '太平洋', '。']\n"
     ]
    },
    {
     "data": {
      "text/plain": [
       "'\\n隱馬可夫模型:\\n\\n詳情參閱:\\n李宏毅老師講HMM\\n\\nhttps://youtu.be/o9FPSqobMys?t=417\\n\\n李宏毅老師講CRF\\n\\nhttps://youtu.be/o9FPSqobMys?t=1975\\n\\n李琳山老師講HMM\\n\\nhttp://ocw.aca.ntu.edu.tw/ntu-ocw/ocw/cou/104S204/2 (44:20)\\n\\n徐亦達老師講HMM\\n\\nhttps://www.bilibili.com/video/BV1BW411P7gV?p=1\\n'"
      ]
     },
     "execution_count": 10,
     "metadata": {},
     "output_type": "execute_result"
    }
   ],
   "source": [
    "\"\"\"介紹 lcut()\"\"\"\n",
    "# 預設參數值：cut_all=False, HMM=True\n",
    "print(jieba.lcut(sentence, cut_all=False, HMM=True))  #HMM(隱馬可夫)=True，參閱註解\n",
    "\n",
    "?jieba.lcut\n",
    "print(jieba.lcut(sentence, cut_all=True, HMM=True))\n",
    "#cut_all= True時，會回傳所有分詞可能結果，但易造成詞的重疊，會干擾詞頻(frequencies)，若有必要，會default false\n",
    "\n",
    "\n",
    "print(jieba.lcut(sentence, cut_all=False, HMM=False))\n",
    "\n",
    "\"\"\"\n",
    "隱馬可夫模型:\n",
    "\n",
    "詳情參閱:\n",
    "李宏毅老師講HMM\n",
    "\n",
    "https://youtu.be/o9FPSqobMys?t=417\n",
    "\n",
    "李宏毅老師講CRF\n",
    "\n",
    "https://youtu.be/o9FPSqobMys?t=1975\n",
    "\n",
    "李琳山老師講HMM\n",
    "\n",
    "http://ocw.aca.ntu.edu.tw/ntu-ocw/ocw/cou/104S204/2 (44:20)\n",
    "\n",
    "徐亦達老師講HMM\n",
    "\n",
    "https://www.bilibili.com/video/BV1BW411P7gV?p=1\n",
    "\"\"\""
   ]
  },
  {
   "cell_type": "markdown",
   "metadata": {
    "id": "P7ABB-GD5nAX"
   },
   "source": [
    "### 添加/刪除詞典\n",
    "\n",
    "詞庫是需要更新的，好比火星文，時下流行詞，例如:['動森'] ，詞庫沒有，因此需要自己補充刪減\n",
    "\n",
    "利用function:\n",
    "\n",
    "單次:\n",
    "add_word()   增加\n",
    "\n",
    "del_word()   刪減\n",
    "\n",
    "批次:\n",
    "直接整理再一個文字檔中，\n",
    "load_userdict(filename)\n"
   ]
  },
  {
   "cell_type": "code",
   "execution_count": null,
   "metadata": {
    "colab": {
     "base_uri": "https://localhost:8080/"
    },
    "executionInfo": {
     "elapsed": 892,
     "status": "ok",
     "timestamp": 1619404734107,
     "user": {
      "displayName": "Lynn Lin",
      "photoUrl": "",
      "userId": "07165999200005709405"
     },
     "user_tz": -480
    },
    "id": "40SFpR5j2c00",
    "outputId": "acd96484-4f4c-4e23-f581-45a1927b5b88"
   },
   "outputs": [
    {
     "name": "stdout",
     "output_type": "stream",
     "text": [
      "['我們', '一起', '玩動', '森遊戲']\n"
     ]
    }
   ],
   "source": [
    "sentence = '我們一起玩動森遊戲'\n",
    "print(jieba.lcut(sentence))"
   ]
  },
  {
   "cell_type": "code",
   "execution_count": null,
   "metadata": {
    "colab": {
     "base_uri": "https://localhost:8080/"
    },
    "executionInfo": {
     "elapsed": 915,
     "status": "ok",
     "timestamp": 1619405005014,
     "user": {
      "displayName": "Lynn Lin",
      "photoUrl": "",
      "userId": "07165999200005709405"
     },
     "user_tz": -480
    },
    "id": "qJLmnE876JbL",
    "outputId": "23720214-bb17-41f7-ee4d-2b4800972c2a"
   },
   "outputs": [
    {
     "name": "stdout",
     "output_type": "stream",
     "text": [
      "['我們', '一起', '玩', '動森', '遊戲']\n"
     ]
    }
   ],
   "source": [
    "word = '動森'\n",
    "jieba.add_word(word)  #add_word() 單次輸入\n",
    "print(jieba.lcut(sentence))"
   ]
  },
  {
   "cell_type": "code",
   "execution_count": null,
   "metadata": {
    "colab": {
     "base_uri": "https://localhost:8080/"
    },
    "executionInfo": {
     "elapsed": 945,
     "status": "ok",
     "timestamp": 1619405043396,
     "user": {
      "displayName": "Lynn Lin",
      "photoUrl": "",
      "userId": "07165999200005709405"
     },
     "user_tz": -480
    },
    "id": "yjbR1Jxr6Yuz",
    "outputId": "82a55016-811a-42c9-d394-de41ae4b1659"
   },
   "outputs": [
    {
     "name": "stdout",
     "output_type": "stream",
     "text": [
      "['我們', '一起', '玩動', '森遊戲']\n"
     ]
    }
   ],
   "source": [
    "word = '動森'\n",
    "jieba.del_word(word)\n",
    "print(jieba.lcut(sentence))"
   ]
  },
  {
   "cell_type": "markdown",
   "metadata": {
    "id": "C6IJSkY_kOWW"
   },
   "source": [
    "## 英文分詞工具 \n",
    "\n",
    "1. split(' ')\n",
    "   自己import\n",
    "\n",
    "套件\n",
    "\n",
    "2. nltk\n",
    "3. gensim.utils"
   ]
  },
  {
   "cell_type": "markdown",
   "metadata": {
    "id": "I-_CLo5u6qWN"
   },
   "source": [
    "### 使用自訂辭典"
   ]
  },
  {
   "cell_type": "code",
   "execution_count": null,
   "metadata": {
    "colab": {
     "base_uri": "https://localhost:8080/"
    },
    "executionInfo": {
     "elapsed": 1501,
     "status": "ok",
     "timestamp": 1619405209025,
     "user": {
      "displayName": "Lynn Lin",
      "photoUrl": "",
      "userId": "07165999200005709405"
     },
     "user_tz": -480
    },
    "id": "8cYF40UX6szO",
    "outputId": "c56d3f4f-4397-4391-8384-4682b42eda9a"
   },
   "outputs": [
    {
     "name": "stdout",
     "output_type": "stream",
     "text": [
      "['我們', '一起', '玩', '動森', '遊戲']\n"
     ]
    }
   ],
   "source": [
    "# 先上傳到colab\n",
    "file_name = '/content/drive/MyDrive/shared_folder/jieba/jieba_user_dict.txt'\n",
    "jieba.load_userdict(file_name)\n",
    "print(jieba.lcut(sentence))"
   ]
  },
  {
   "cell_type": "markdown",
   "metadata": {
    "id": "at-l1As812bC"
   },
   "source": [
    "## 以NLTK套件進行英文分詞\n",
    "- Reference: https://www.nltk.org/"
   ]
  },
  {
   "cell_type": "code",
   "execution_count": null,
   "metadata": {
    "id": "f81thPAAV5hN"
   },
   "outputs": [],
   "source": [
    "### source: The Little Prince\n",
    "\n",
    "sentence = 'Once when I was six years old I saw a magnificent picture in a book, called True Stories from Nature, about the primeval forest.'\n",
    "#sentence = 'It was a picture of a boa constrictor in the act of swallowing an animal.'\n",
    "#sentence = 'Here is a copy of the drawing.'"
   ]
  },
  {
   "cell_type": "markdown",
   "metadata": {
    "id": "Wtn-uVYL2bU_"
   },
   "source": [
    "### 下載"
   ]
  },
  {
   "cell_type": "code",
   "execution_count": null,
   "metadata": {
    "colab": {
     "base_uri": "https://localhost:8080/"
    },
    "executionInfo": {
     "elapsed": 3287,
     "status": "ok",
     "timestamp": 1619405268972,
     "user": {
      "displayName": "Lynn Lin",
      "photoUrl": "",
      "userId": "07165999200005709405"
     },
     "user_tz": -480
    },
    "id": "CU8oNLlv2ap8",
    "outputId": "9d0692fc-3469-42bd-fe6e-8f0056cfc68b"
   },
   "outputs": [
    {
     "name": "stderr",
     "output_type": "stream",
     "text": [
      "[nltk_data] Downloading package punkt to\n",
      "[nltk_data]     C:\\Users\\User\\AppData\\Roaming\\nltk_data...\n",
      "[nltk_data]   Package punkt is already up-to-date!\n"
     ]
    },
    {
     "data": {
      "text/plain": [
       "True"
      ]
     },
     "execution_count": 16,
     "metadata": {},
     "output_type": "execute_result"
    }
   ],
   "source": [
    "import nltk\n",
    "nltk.download('punkt')"
   ]
  },
  {
   "cell_type": "markdown",
   "metadata": {
    "id": "BTFncc9rWED9"
   },
   "source": [
    "### 載入與分詞"
   ]
  },
  {
   "cell_type": "code",
   "execution_count": null,
   "metadata": {
    "colab": {
     "base_uri": "https://localhost:8080/"
    },
    "executionInfo": {
     "elapsed": 1091,
     "status": "ok",
     "timestamp": 1619405335278,
     "user": {
      "displayName": "Lynn Lin",
      "photoUrl": "",
      "userId": "07165999200005709405"
     },
     "user_tz": -480
    },
    "id": "aN18DLiz2M-p",
    "outputId": "ed49b636-1d5c-4354-80e4-b43659a4fed6"
   },
   "outputs": [
    {
     "name": "stdout",
     "output_type": "stream",
     "text": [
      "['Once', 'when', 'I', 'was', 'six', 'years', 'old', 'I', 'saw', 'a', 'magnificent', 'picture', 'in', 'a', 'book', ',', 'called', 'True', 'Stories', 'from', 'Nature', ',', 'about', 'the', 'primeval', 'forest', '.']\n"
     ]
    }
   ],
   "source": [
    "from nltk import word_tokenize\n",
    "\n",
    "print(word_tokenize(sentence))"
   ]
  },
  {
   "cell_type": "markdown",
   "metadata": {
    "id": "1okD5bBbVkOB"
   },
   "source": [
    "## 以gensim套件進行英文分詞\n",
    "- Ref: https://radimrehurek.com/gensim/utils.html\n"
   ]
  },
  {
   "cell_type": "markdown",
   "metadata": {
    "id": "h_gF9KcLWK8x"
   },
   "source": [
    "### 載入與分詞"
   ]
  },
  {
   "cell_type": "code",
   "execution_count": null,
   "metadata": {
    "id": "3w9uUPxWkOWm",
    "outputId": "c289c6fd-67fd-40a3-d050-1d3ae489190a"
   },
   "outputs": [
    {
     "name": "stdout",
     "output_type": "stream",
     "text": [
      "Requirement already satisfied: gensim in c:\\programdata\\anaconda3\\lib\\site-packages (4.0.1)\n",
      "Requirement already satisfied: Cython==0.29.21 in c:\\programdata\\anaconda3\\lib\\site-packages (from gensim) (0.29.21)\n",
      "Requirement already satisfied: smart-open>=1.8.1 in c:\\programdata\\anaconda3\\lib\\site-packages (from gensim) (5.1.0)\n",
      "Requirement already satisfied: scipy>=0.18.1 in c:\\programdata\\anaconda3\\lib\\site-packages (from gensim) (1.6.2)\n",
      "Requirement already satisfied: numpy>=1.11.3 in c:\\programdata\\anaconda3\\lib\\site-packages (from gensim) (1.20.2)\n"
     ]
    }
   ],
   "source": [
    "!pip install -U gensim #若用colab則不需要 jupyter notebook要"
   ]
  },
  {
   "cell_type": "code",
   "execution_count": null,
   "metadata": {
    "colab": {
     "base_uri": "https://localhost:8080/"
    },
    "executionInfo": {
     "elapsed": 1467,
     "status": "ok",
     "timestamp": 1619406664336,
     "user": {
      "displayName": "Lynn Lin",
      "photoUrl": "",
      "userId": "07165999200005709405"
     },
     "user_tz": -480
    },
    "id": "MWQckWir2Yjr",
    "outputId": "c2ee8801-6325-447b-835c-9bd2c762e8e8"
   },
   "outputs": [
    {
     "name": "stdout",
     "output_type": "stream",
     "text": [
      "['once', 'when', 'was', 'six', 'years', 'old', 'saw', 'magnificent', 'picture', 'in', 'book', 'called', 'true', 'stories', 'from', 'nature', 'about', 'the', 'primeval', 'forest']\n"
     ]
    },
    {
     "name": "stderr",
     "output_type": "stream",
     "text": [
      "C:\\ProgramData\\Anaconda3\\lib\\site-packages\\gensim\\similarities\\__init__.py:15: UserWarning: The gensim.similarities.levenshtein submodule is disabled, because the optional Levenshtein package <https://pypi.org/project/python-Levenshtein/> is unavailable. Install Levenhstein (e.g. `pip install python-Levenshtein`) to suppress this warning.\n",
      "  warnings.warn(msg)\n"
     ]
    }
   ],
   "source": [
    "import gensim\n",
    "from gensim.utils import simple_preprocess \n",
    "\n",
    "#simple preprocessing除了分詞外， 會產出小寫 \n",
    "\n",
    "print(simple_preprocess(sentence))\n"
   ]
  },
  {
   "cell_type": "markdown",
   "metadata": {
    "id": "IwCUQR3ykOWp"
   },
   "source": [
    "# 比較 from nltk import word_tokenize 與 from gensim.utils import simple_preprocess 差異\n",
    "\n",
    "1. 大小寫:   nltk結果只有把空白隔開，要記得的處理大小寫問題\n",
    "\n",
    "2. 標點符號: nltk中有標點符號，simple_preprocess會幫忙去標點符號\n",
    "\n",
    "3. 數字:     nltk保留數字， simple_preprocess會幫忙去數字\n",
    "\n",
    "4. 去除低頻詞: simple_preprocess有一參數 min_len 預設值是2，所以simple_preprocess有一參數長度只有1的詞拿掉了\n",
    "例如: i 消失\n",
    "\n",
    "\n",
    "\n"
   ]
  },
  {
   "cell_type": "code",
   "execution_count": null,
   "metadata": {
    "id": "Wd5I_PTfkOWs",
    "outputId": "8f5301ad-f313-4a47-d537-cae28ba637a7"
   },
   "outputs": [
    {
     "name": "stdout",
     "output_type": "stream",
     "text": [
      "nltk: \n",
      " ['Once', 'when', 'I', 'was', 'six', 'years', 'old', 'I', 'saw', 'a', 'magnificent', 'picture', 'in', 'a', 'book', ',', 'called', 'True', 'Stories', 'from', 'Nature', ',', 'about', 'the', 'primeval', 'forest', '.']\n",
      "\n",
      "\n",
      "simple_preprocess: \n",
      " ['once', 'when', 'was', 'six', 'years', 'old', 'saw', 'magnificent', 'picture', 'in', 'book', 'called', 'true', 'stories', 'from', 'nature', 'about', 'the', 'primeval', 'forest']\n"
     ]
    }
   ],
   "source": [
    "from nltk import word_tokenize\n",
    "print('nltk: \\n',word_tokenize(sentence))\n",
    "###########\n",
    "print('\\n')\n",
    "###########\n",
    "import gensim\n",
    "from gensim.utils import simple_preprocess \n",
    "print('simple_preprocess: \\n',simple_preprocess(sentence))"
   ]
  },
  {
   "cell_type": "code",
   "execution_count": null,
   "metadata": {
    "colab": {
     "base_uri": "https://localhost:8080/"
    },
    "executionInfo": {
     "elapsed": 511,
     "status": "ok",
     "timestamp": 1619343821888,
     "user": {
      "displayName": "Lynn Lin",
      "photoUrl": "",
      "userId": "07165999200005709405"
     },
     "user_tz": -480
    },
    "id": "iNweBPI3W6w_",
    "outputId": "c039aa50-70b7-4cee-e8b5-d053c9194507"
   },
   "outputs": [
    {
     "name": "stdout",
     "output_type": "stream",
     "text": [
      "['once', 'when', 'i', 'was', 'six', 'years', 'old', 'i', 'saw', 'a', 'magnificent', 'picture', 'in', 'a', 'book', 'called', 'true', 'stories', 'from', 'nature', 'about', 'the', 'primeval', 'forest']\n"
     ]
    }
   ],
   "source": [
    "#min_len 修改\n",
    "print(simple_preprocess(sentence,min_len=1))\n",
    "# 'i' 出現"
   ]
  },
  {
   "cell_type": "markdown",
   "metadata": {
    "id": "t2IlNEIGY8AJ"
   },
   "source": [
    "## 自行預處理\n",
    "- 去標點，轉小寫"
   ]
  },
  {
   "cell_type": "code",
   "execution_count": null,
   "metadata": {
    "id": "g1_foCBQkOWw",
    "outputId": "2fb06925-b054-4b71-ebb1-ce93980f0c7a"
   },
   "outputs": [
    {
     "data": {
      "text/plain": [
       "'!\"#$%&\\'()*+,-./:;<=>?@[\\\\]^_`{|}~'"
      ]
     },
     "execution_count": 34,
     "metadata": {},
     "output_type": "execute_result"
    }
   ],
   "source": [
    "import string\n",
    "string.punctuation \n",
    "#Remind:string.punctuation 為半形標點符號str (但中文處理時有大量全形標點符號，需要另外處理)"
   ]
  },
  {
   "cell_type": "code",
   "execution_count": null,
   "metadata": {
    "colab": {
     "base_uri": "https://localhost:8080/"
    },
    "executionInfo": {
     "elapsed": 947,
     "status": "ok",
     "timestamp": 1619407493364,
     "user": {
      "displayName": "Lynn Lin",
      "photoUrl": "",
      "userId": "07165999200005709405"
     },
     "user_tz": -480
    },
    "id": "Ti0ESBsmXPoz",
    "outputId": "5ac5c2d2-3a17-44f2-e6c3-0c03f10f8ae5"
   },
   "outputs": [
    {
     "name": "stdout",
     "output_type": "stream",
     "text": [
      "['once', 'when', 'i', 'was', 'six', 'years', 'old', 'i', 'saw', 'a', 'magnificent', 'picture', 'in', 'a', 'book', 'called', 'true', 'stories', 'from', 'nature', 'about', 'the', 'primeval', 'forest']\n"
     ]
    }
   ],
   "source": [
    "#去除標點符號並轉小寫\n",
    "print([token.lower() for token in word_tokenize(sentence) if token not in string.punctuation])"
   ]
  }
 ],
 "metadata": {
  "colab": {
   "collapsed_sections": [],
   "name": "chap1-1_0601_word_segmentation_Lynn.ipynb",
   "provenance": [
    {
     "file_id": "1rqSt6zwZgZNngon_tuapW2cTevlwckx-",
     "timestamp": 1622512185353
    }
   ]
  },
  "kernelspec": {
   "display_name": "Python 3 (ipykernel)",
   "language": "python",
   "name": "python3"
  },
  "language_info": {
   "codemirror_mode": {
    "name": "ipython",
    "version": 3
   },
   "file_extension": ".py",
   "mimetype": "text/x-python",
   "name": "python",
   "nbconvert_exporter": "python",
   "pygments_lexer": "ipython3",
   "version": "3.9.0"
  }
 },
 "nbformat": 4,
 "nbformat_minor": 1
}
