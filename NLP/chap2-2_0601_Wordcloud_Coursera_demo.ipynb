{
 "cells": [
  {
   "cell_type": "code",
   "execution_count": 1,
   "id": "53944f8e",
   "metadata": {},
   "outputs": [
    {
     "ename": "SyntaxError",
     "evalue": "invalid character in identifier (<ipython-input-1-e382cf7b55ec>, line 22)",
     "output_type": "error",
     "traceback": [
      "\u001b[1;36m  File \u001b[1;32m\"<ipython-input-1-e382cf7b55ec>\"\u001b[1;36m, line \u001b[1;32m22\u001b[0m\n\u001b[1;33m    decoded = io.StringIO(change[‘owner’].data.decode(‘utf-8’))\u001b[0m\n\u001b[1;37m                                       ^\u001b[0m\n\u001b[1;31mSyntaxError\u001b[0m\u001b[1;31m:\u001b[0m invalid character in identifier\n"
     ]
    }
   ],
   "source": [
    "!pip install wordcloud\n",
    "!pip install fileupload\n",
    "!pip install ipywidgets\n",
    "!jupyter nbextension install –py –user fileupload\n",
    "!jupyter nbextension enable –py fileupload\n",
    "\n",
    "import wordcloud\n",
    "import numpy as np\n",
    "from matplotlib import pyplot as plt\n",
    "from IPython.display import display\n",
    "import fileupload\n",
    "import io\n",
    "import sys\n",
    "\n",
    "# This is the uploader widget\n",
    "def _upload():\n",
    "\n",
    "    _upload_widget = fileupload.FileUploadWidget()\n",
    "\n",
    "def _cb(change):\n",
    "    global file_contents\n",
    "    decoded = io.StringIO(change[‘owner’].data.decode(‘utf-8’))\n",
    "    filename = change[‘owner’].filename\n",
    "    print(‘Uploaded {} ({:.2f} kB)’.format(\n",
    "    filename, len(decoded.read()) / 2 **10))\n",
    "    file_contents = decoded.getvalue()\n",
    "\n",
    "    _upload_widget.observe(_cb, names=’data’)\n",
    "    display(_upload_widget)\n",
    "\n",
    "    _upload()\n",
    "\n",
    "#FileUploadWidget(label=’Browse’, _dom_classes=(‘widget_item’, ‘btn-group’))\n",
    "\n",
    "# Here is a list of punctuations and uninteresting words you can use to process your text\n",
    "punctuations = ”’!()-[]{};:'”\\,<>./?@#$%^&*_~”’\n",
    "uninteresting_words = [“the”, “a”, “to”, “if”, “is”, “it”, “of”, “and”, “or”, “an”, “as”, “i”, “me”, “my”, \\\n",
    "“we”, “our”, “ours”, “you”, “your”, “yours”, “he”, “she”, “him”, “his”, “her”, “hers”, “its”, “they”, “them”, \\\n",
    "“their”, “what”, “which”, “who”, “whom”, “this”, “that”, “am”, “are”, “was”, “were”, “be”, “been”, “being”, \\\n",
    "“have”, “has”, “had”, “do”, “does”, “did”, “but”, “at”, “by”, “with”, “from”, “here”, “when”, “where”, “how”, \\\n",
    "“all”, “any”, “both”, “each”, “few”, “more”, “some”, “such”, “no”, “nor”, “too”, “very”, “can”, “will”, “just”]\n",
    "\n",
    "# LEARNER CODE START HERE\n",
    "newFile = “”\n",
    "for index, char in enumerate(file_contents):\n",
    "    if (char.isalpha() == True or char.isspace()):\n",
    "        newFile += char\n",
    "\n",
    "newFile = newFile.split()\n",
    "wordCloudFile = []\n",
    "\n",
    "for word in newFile:\n",
    "    if ((word.lower() not in uninteresting_words) and (word.isalpha() == True)):\n",
    "        wordCloudFile.append(word)\n",
    "\n",
    "frequencies = {}\n",
    "\n",
    "for word in wordCloudFile:\n",
    "    if (word.lower() not in frequencies):\n",
    "        frequencies[word.lower()] = 1\n",
    "    else:\n",
    "        frequencies[word.lower()] += 1\n",
    "\n",
    "#wordcloud\n",
    "    cloud = wordcloud.WordCloud()\n",
    "    cloud.generate_from_frequencies(frequencies)\n",
    "    return cloud.to_array()\n",
    "\n",
    "# Display your wordcloud image\n",
    "myimage = calculate_frequencies(file_contents)\n",
    "plt.imshow(myimage, interpolation = ‘nearest’)\n",
    "plt.axis(‘off’)\n",
    "plt.show()"
   ]
  },
  {
   "cell_type": "code",
   "execution_count": 3,
   "id": "37db4b1e",
   "metadata": {},
   "outputs": [
    {
     "name": "stdout",
     "output_type": "stream",
     "text": [
      "Requirement already satisfied: wordcloud in c:\\programdata\\anaconda3\\lib\\site-packages (1.8.1)\n",
      "Requirement already satisfied: numpy>=1.6.1 in c:\\programdata\\anaconda3\\lib\\site-packages (from wordcloud) (1.20.2)\n",
      "Requirement already satisfied: pillow in c:\\programdata\\anaconda3\\lib\\site-packages (from wordcloud) (8.2.0)\n",
      "Requirement already satisfied: matplotlib in c:\\programdata\\anaconda3\\lib\\site-packages (from wordcloud) (3.3.4)\n",
      "Requirement already satisfied: pyparsing!=2.0.4,!=2.1.2,!=2.1.6,>=2.0.3 in c:\\programdata\\anaconda3\\lib\\site-packages (from matplotlib->wordcloud) (2.4.7)\n",
      "Requirement already satisfied: cycler>=0.10 in c:\\programdata\\anaconda3\\lib\\site-packages (from matplotlib->wordcloud) (0.10.0)\n",
      "Requirement already satisfied: python-dateutil>=2.1 in c:\\programdata\\anaconda3\\lib\\site-packages (from matplotlib->wordcloud) (2.8.1)\n",
      "Requirement already satisfied: kiwisolver>=1.0.1 in c:\\programdata\\anaconda3\\lib\\site-packages (from matplotlib->wordcloud) (1.3.1)\n",
      "Requirement already satisfied: six in c:\\programdata\\anaconda3\\lib\\site-packages (from cycler>=0.10->matplotlib->wordcloud) (1.15.0)\n",
      "showing info https://raw.githubusercontent.com/nltk/nltk_data/gh-pages/index.xml\n"
     ]
    },
    {
     "data": {
      "text/plain": [
       "<wordcloud.wordcloud.WordCloud at 0x93e5e80>"
      ]
     },
     "execution_count": 3,
     "metadata": {},
     "output_type": "execute_result"
    }
   ],
   "source": [
    "!pip3 install wordcloud\n",
    "\n",
    "import nltk\n",
    "nltk.download()   \n",
    "from wordcloud import WordCloud\n",
    "\n",
    "text = open('data/t8.shakespeare.txt', 'r', encoding='utf-8').read() #string必須是\n",
    "text = ' '.join(nltk.word_tokenize(text))\n",
    "\n",
    "cloud = WordCloud().generate(text)\n",
    "cloud.to_file('output.png')"
   ]
  },
  {
   "cell_type": "code",
   "execution_count": 4,
   "id": "4da75e77",
   "metadata": {},
   "outputs": [
    {
     "data": {
      "text/plain": [
       "'\\n使用 generate() function 就可以將文字自動統計、製作文字雲。\\n\\n使用 to_file() 就可以將文字雲存成圖片。\\n\\n非常簡單，而且展示的效果非常好。\\n'"
      ]
     },
     "execution_count": 4,
     "metadata": {},
     "output_type": "execute_result"
    }
   ],
   "source": [
    "\"\"\"\n",
    "使用 generate() function 就可以將文字自動統計、製作文字雲。 #但不見得能實際反映詞頻變化，因此可用wc. generate_from_frequencies()\n",
    "\n",
    "使用 to_file() 就可以將文字雲存成圖片。\n",
    "\n",
    "非常簡單，而且展示的效果非常好。\n",
    "\"\"\""
   ]
  },
  {
   "cell_type": "code",
   "execution_count": null,
   "id": "03841a3b",
   "metadata": {},
   "outputs": [],
   "source": []
  }
 ],
 "metadata": {
  "kernelspec": {
   "display_name": "Python 3",
   "language": "python",
   "name": "python3"
  },
  "language_info": {
   "codemirror_mode": {
    "name": "ipython",
    "version": 3
   },
   "file_extension": ".py",
   "mimetype": "text/x-python",
   "name": "python",
   "nbconvert_exporter": "python",
   "pygments_lexer": "ipython3",
   "version": "3.8.8"
  }
 },
 "nbformat": 4,
 "nbformat_minor": 5
}
