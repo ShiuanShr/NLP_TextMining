{
 "cells": [
  {
   "cell_type": "markdown",
   "metadata": {
    "id": "hKuqhP4WLrZS"
   },
   "source": [
    "# 去停用詞練習\n",
    "- Author: Lynn\n",
    "- Created: 2020/10/27\n",
    "\n",
    "停用詞 (stop words)\n",
    "文本中，出現頻率高但無特殊統計意義的字，一般來說會要濾掉，通常利用人工建立的清單過濾掉\n",
    "ex, \n",
    "英文: a, the, is , in....\n",
    "\n",
    "中文:\n",
    "啦, 上, 下, 不僅....\n",
    "\n",
    "\n",
    "相反概念: 關鍵詞 (key words)"
   ]
  },
  {
   "cell_type": "markdown",
   "metadata": {
    "id": "C6HZioT-MwpH"
   },
   "source": [
    "### 下載套件"
   ]
  },
  {
   "cell_type": "code",
   "execution_count": 1,
   "metadata": {
    "colab": {
     "base_uri": "https://localhost:8080/"
    },
    "id": "Q8P9Vy4XMysH",
    "outputId": "f6ca34db-ca8a-4557-f6be-9676da488df1"
   },
   "outputs": [
    {
     "name": "stderr",
     "output_type": "stream",
     "text": [
      "[nltk_data] Downloading package stopwords to\n",
      "[nltk_data]     C:\\Users\\User\\AppData\\Roaming\\nltk_data...\n",
      "[nltk_data]   Package stopwords is already up-to-date!\n",
      "[nltk_data] Downloading package punkt to\n",
      "[nltk_data]     C:\\Users\\User\\AppData\\Roaming\\nltk_data...\n",
      "[nltk_data]   Package punkt is already up-to-date!\n"
     ]
    },
    {
     "data": {
      "text/plain": [
       "True"
      ]
     },
     "execution_count": 1,
     "metadata": {},
     "output_type": "execute_result"
    }
   ],
   "source": [
    "import nltk\n",
    "nltk.download('stopwords')\n",
    "nltk.download('punkt')"
   ]
  },
  {
   "cell_type": "markdown",
   "metadata": {
    "id": "63C0di5nMAkW"
   },
   "source": [
    "### 查看英文停用詞表\n",
    "- Ref: https://www.nltk.org/book/ch02.html"
   ]
  },
  {
   "cell_type": "code",
   "execution_count": 2,
   "metadata": {
    "colab": {
     "base_uri": "https://localhost:8080/"
    },
    "id": "1b6HicUGL3bb",
    "outputId": "b545066c-45b2-4f4c-e5cc-ea575e8784be"
   },
   "outputs": [
    {
     "name": "stdout",
     "output_type": "stream",
     "text": [
      "共179個停用詞\n",
      "\n",
      "列出前10個停用詞\n",
      "['i', 'me', 'my', 'myself', 'we', 'our', 'ours', 'ourselves', 'you', \"you're\"]\n"
     ]
    }
   ],
   "source": [
    "from nltk.corpus import stopwords\n",
    "\n",
    "stop_words = stopwords.words('english')\n",
    "print(f'共{len(stop_words)}個停用詞\\n')\n",
    "\n",
    "print('列出前10個停用詞')\n",
    "print(stop_words[:10])"
   ]
  },
  {
   "cell_type": "markdown",
   "metadata": {
    "id": "wA_bSttKNspO"
   },
   "source": [
    "### 過濾停用詞"
   ]
  },
  {
   "cell_type": "code",
   "execution_count": 3,
   "metadata": {
    "colab": {
     "base_uri": "https://localhost:8080/"
    },
    "id": "oNMmyypWLbwE",
    "outputId": "edaa2a2e-f247-46e9-9035-0c1c1c6e4910"
   },
   "outputs": [
    {
     "name": "stdout",
     "output_type": "stream",
     "text": [
      "含停用詞:\n",
      " ['Once', 'when', 'I', 'was', 'six', 'years', 'old', 'I', 'saw', 'a', 'magnificent', 'picture', 'in', 'a', 'book', ',', 'called', 'True', 'Stories', 'from', 'Nature', ',', 'about', 'the', 'primeval', 'forest', '.'] \n",
      "\n",
      "不含停用詞:\n",
      " ['six', 'years', 'old', 'saw', 'magnificent', 'picture', 'book', ',', 'called', 'True', 'Stories', 'Nature', ',', 'primeval', 'forest', '.'] \n",
      "\n"
     ]
    }
   ],
   "source": [
    "from nltk import word_tokenize\n",
    "\n",
    "sentence = 'Once when I was six years old I saw a magnificent picture in a book, called True Stories from Nature, about the primeval forest.'\n",
    "\n",
    "tokens = word_tokenize(sentence)\n",
    "print('含停用詞:\\n',tokens,'\\n')\n",
    "\n",
    "tokens = [token for token in word_tokenize(sentence) if token.lower() not in stop_words]\n",
    "print('不含停用詞:\\n',tokens,'\\n')\n"
   ]
  },
  {
   "cell_type": "markdown",
   "metadata": {
    "id": "gSPPuqUmRb8Y"
   },
   "source": [
    "### 去除標點符號"
   ]
  },
  {
   "cell_type": "code",
   "execution_count": null,
   "metadata": {
    "colab": {
     "base_uri": "https://localhost:8080/"
    },
    "id": "UATOzQyxO1mt",
    "outputId": "696a2aea-2fa6-475b-8fe1-aa69768f3b20"
   },
   "outputs": [
    {
     "name": "stdout",
     "output_type": "stream",
     "text": [
      "!\"#$%&'()*+,-./:;<=>?@[\\]^_`{|}~\n",
      "['Once', 'when', 'I', 'was', 'six', 'years', 'old', 'I', 'saw', 'a', 'magnificent', 'picture', 'in', 'a', 'book', 'called', 'True', 'Stories', 'from', 'Nature', 'about', 'the', 'primeval', 'forest']\n"
     ]
    }
   ],
   "source": [
    "from string import punctuation\n",
    "\n",
    "print(punctuation)\n",
    "\n",
    "tokens = [token for token in word_tokenize(sentence) if not token in punctuation]\n",
    "print(tokens)"
   ]
  },
  {
   "cell_type": "markdown",
   "metadata": {
    "id": "xbjHMjp_eycD"
   },
   "source": [
    "### 查看Jieba中文停用詞表\n",
    "- Ref: https://github.com/kdchang/python-jieba-chart/blob/master/stopwords.txt"
   ]
  },
  {
   "cell_type": "code",
   "execution_count": 11,
   "metadata": {
    "colab": {
     "base_uri": "https://localhost:8080/"
    },
    "id": "ZCk8qRMThZng",
    "outputId": "92823220-2b69-4eff-e71b-f4ce9681adf9"
   },
   "outputs": [
    {
     "name": "stdout",
     "output_type": "stream",
     "text": [
      "列出前10個停用詞\n",
      "['the', 'of', 'is', 'and', 'to', 'in', 'that', 'we', 'for', 'an']\n"
     ]
    }
   ],
   "source": [
    "import jieba\n",
    "\n",
    "#file_path = '/content/drive/MyDrive/shared_folder/jieba/jieba_stop_words.txt'\n",
    "#path 要重設\n",
    "#Python读取txt报错：'cp950' codec can't decode byte 0xb1 in position 5: illegal multibyte sequence\n",
    "#解法: 根本原因：files中含有excel文件，加入encoding='utf-8'\n",
    "\n",
    "#file_path = '../shared_folder/jieba/jieba_stop_words.txt'\n",
    "#error cp529! 問題不是資料檔，而是 Python 腳本的預設編碼，所以我們只要告訴 Python 我們要讀取的檔案是以 UTF-8 編碼即可解決。\n",
    "\n",
    "\n",
    "file_path = '../shared_folder/jieba/jieba_stop_words.txt'\n",
    "\n",
    "stop_words = [line.strip() for line in open(file_path, \"r\",encoding='utf-8').readlines()]\n",
    "\n",
    "\n",
    "print('列出前10個停用詞')\n",
    "print(stop_words[:10])"
   ]
  },
  {
   "cell_type": "markdown",
   "metadata": {
    "id": "KM13a-xIB0mr"
   },
   "source": [
    "### 過濾停用詞"
   ]
  },
  {
   "cell_type": "code",
   "execution_count": null,
   "metadata": {
    "colab": {
     "base_uri": "https://localhost:8080/"
    },
    "id": "1bAESbNbBxhA",
    "outputId": "1868a5b6-14b4-49b2-cb75-7130b48a0d9f"
   },
   "outputs": [
    {
     "name": "stdout",
     "output_type": "stream",
     "text": [
      "含停用詞:\n",
      " ['朋友', '們', '啊', '，', '讓', '我們', '一起', '加入', '動物', '森友會', '吧', '。'] \n",
      "\n",
      "不含停用詞:\n",
      " ['朋友', '們', '，', '讓', '我們', '一起', '加入', '動物', '森友會', '。'] \n",
      "\n"
     ]
    }
   ],
   "source": [
    "sentence = '朋友們啊，讓我們一起加入動物森友會吧。'\n",
    "\n",
    "tokens = [token for token in jieba.lcut(sentence)]\n",
    "print('含停用詞:\\n',tokens,'\\n')\n",
    "\n",
    "tokens = [token for token in jieba.lcut(sentence) if not token in stop_words]\n",
    "print('不含停用詞:\\n',tokens,'\\n')"
   ]
  },
  {
   "cell_type": "markdown",
   "metadata": {
    "id": "YME3xciDwLc2"
   },
   "source": [
    "# 小練習\n",
    "### 在停用詞列表加上全形標點符號"
   ]
  },
  {
   "cell_type": "code",
   "execution_count": null,
   "metadata": {
    "colab": {
     "base_uri": "https://localhost:8080/"
    },
    "id": "SQzvkDQjdWCX",
    "outputId": "ef2c6ffd-98c2-4306-dca6-d423879187bc"
   },
   "outputs": [
    {
     "name": "stdout",
     "output_type": "stream",
     "text": [
      "['the', 'of', 'is', 'and', 'to', 'in', 'that', 'we', 'for', 'an', 'are', 'by', 'be', 'as', 'on', 'with', 'can', 'if', 'from', 'which', 'you', 'it', 'this', 'then', 'at', 'have', 'all', 'not', 'one', 'has', 'or', 'that', '的', '了', '和', '是', '就', '都', '而', '及', '與', '一個', '沒有', '我們', '你們', '妳們', '他們', '她們', '是否', '一', '不', '在', '人', '有', '為', '以', '於', '上', '他', '後', '之', '來', '因', '下', '可', '到', '由', '這', '也', '此', '但', '並', '個', '其', '已', '無', '小', '我', '們', '起', '最', '再', '今', '去', '好', '只', '又', '或', '很', '亦', '某', '把', '那', '你', '乃', '它', '吧', '被', '比', '別', '趁', '當', '從', '到', '得', '打', '凡', '兒', '爾', '該', '各', '給', '跟', '何', '還', '即', '幾', '既', '看', '據', '距', '靠', '啦', '了', '另', '麼', '每', '們', '嘛', '拿', '哪', '那', '您', '憑', '且', '卻', '讓', '仍', '啥', '如', '若', '使', '誰', '雖', '隨', '同', '所', '她', '哇', '嗡', '往', '哪', '些', '向', '沿', '喲', '用', '於', '咱', '則', '怎', '曾', '至', '致', '著', '諸', '自', '，', '。', '；', '、', '」', '「', '！', '!', ',', '[', ']', '~', '`', ')', '(', '）', '（', '/', '？', '?']\n"
     ]
    }
   ],
   "source": [
    "stopwords = []\n",
    "\n",
    "file_path = '/content/drive/MyDrive/shared_folder/jieba/jieba_stop_words.txt'\n",
    "with open(file_path) as f:\n",
    "  for line in f.readlines():\n",
    "    line = line.strip()\n",
    "    stopwords.append(line)\n",
    "\n",
    "### TODO ###\n",
    "# 加上自訂的停用詞\n",
    "\n",
    "print(stopwords)"
   ]
  },
  {
   "cell_type": "markdown",
   "metadata": {
    "id": "-hsPvKAllQF6"
   },
   "source": [
    "# 中文文本範例\n",
    "\n",
    "### 經濟日報報導"
   ]
  },
  {
   "cell_type": "code",
   "execution_count": null,
   "metadata": {
    "colab": {
     "base_uri": "https://localhost:8080/"
    },
    "id": "Or0UJ7grODHL",
    "outputId": "678133fe-9f09-4ee9-ee53-510dc9f367c6"
   },
   "outputs": [
    {
     "data": {
      "text/plain": [
       "[('月', 13),\n",
       " ('疫情', 8),\n",
       " ('調減', 7),\n",
       " ('第', 7),\n",
       " ('日', 6),\n",
       " ('6', 5),\n",
       " ('查定', 4),\n",
       " ('商家', 4),\n",
       " ('行業', 4),\n",
       " ('3', 4),\n",
       " ('對', 3),\n",
       " ('2', 3),\n",
       " ('4', 3),\n",
       " ('營業', 3),\n",
       " ('5', 3),\n",
       " ('宣布', 3),\n",
       " ('警戒', 3),\n",
       " ('級', 3),\n",
       " ('嚴峻', 2),\n",
       " ('財政部', 2)]"
      ]
     },
     "execution_count": 14,
     "metadata": {
      "tags": []
     },
     "output_type": "execute_result"
    }
   ],
   "source": [
    "sent = '疫情嚴峻，財政部今（27）日表示，將針對受疫情影響的查定課徵營業人（小商家）主動調減第2季營業稅，4月至6月各月依據疫情嚴重程度進行調減，其中6月針對特定行業可100%調減，等於免稅，其他行業小商家6月也一律減半課徵，可說是雨露均霑，預計第2季全台共49萬家小商家受惠、調減營業稅合計約2.3億元。\\\n",
    "中央流行疫情指揮中心今年5月15日宣布自當日起至同年月28日提升雙北地區疫情警戒至第3級，並關閉休閒娛樂場所（包括歌廳、舞廳、夜總會、俱樂部等）及觀展觀賽場所（包括展覽場、電影片映演場所、體育館等），隨後在19日宣布全國進入第3級警戒，25日宣布全國第3級警戒延長至6月14日止。\\\n",
    "財政部表示，衡酌今年5月中旬起國內疫情日趨嚴峻，各地區國稅局將依營業稅特種稅額查定辦法第3條第1項規定，主動調減受疫情影響查定課徵營業人本年第2季（4月至6月）的銷售額及營業稅額，無論按月、按季查定課徵的小商家，都可受惠。\\\n",
    "其中，4月因為國內疫情尚屬穩定，各地國稅局僅針對特殊個案申請核實調減。\\\n",
    "而5月方面，針對前述指揮中心強制關閉營業的行業，以及營業性質屬與人近距離接觸的行業，例如理髮業、美容院等，這些特定行業則調減50%，等於是減半課徵；其他行業則一律調減30%。\\\n",
    "'\n",
    "\n",
    "### 去停用詞\n",
    "import jieba\n",
    "file_path = '/content/drive/MyDrive/shared_folder/jieba/jieba_stop_words.txt'\n",
    "stop_words = [line.strip() for line in open(file_path).readlines()]\n",
    "tokens = [token for token in jieba.lcut(sent) if token not in stop_words]\n",
    "\n",
    "### 詞頻排名\n",
    "from collections import Counter #Counter在幫忙計算重複次數並轉dict\n",
    "ct = Counter(tokens)\n",
    "ct.most_common(20)"
   ]
  },
  {
   "cell_type": "code",
   "execution_count": null,
   "metadata": {
    "id": "2khkVEeXlCBp"
   },
   "outputs": [],
   "source": []
  }
 ],
 "metadata": {
  "colab": {
   "collapsed_sections": [],
   "name": "「stop_words.ipynb」的副本",
   "provenance": []
  },
  "kernelspec": {
   "display_name": "Python 3",
   "language": "python",
   "name": "python3"
  },
  "language_info": {
   "codemirror_mode": {
    "name": "ipython",
    "version": 3
   },
   "file_extension": ".py",
   "mimetype": "text/x-python",
   "name": "python",
   "nbconvert_exporter": "python",
   "pygments_lexer": "ipython3",
   "version": "3.8.8"
  }
 },
 "nbformat": 4,
 "nbformat_minor": 1
}
