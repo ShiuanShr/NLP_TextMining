{
  "cells": [
    {
      "cell_type": "markdown",
      "source": [
        "# *HW3重點*:\n",
        "## *Tokenization via nltk:*\n",
        "### (1) nltk.word_tokenize: 單字斷詞\n",
        "### (2) Multi-Word Tokenizer: 合併專有名詞 (附上有改寫能批次寫入)\n",
        "### (3) Tokenization of Sentences: 依句斷詞，可以用split(\".\")取代\n",
        "## *Ngram:*\n",
        "### 詞彙每n個間的關聯性 > nltk.FreqDist 繪製圖表\n",
        "\n",
        "## *Stopwords 停用字:*\n",
        "### (1) mw_tokenizer.add_mwe 附上改寫程式，上週已經完成中文停用字寫入，這週用的collab drive匯入再與nltk的import stopword concate，使停用字更多元\n",
        "\n",
        "### *Stemming 詞幹提取* *Lemmatization詞形還原*\n",
        "去除單詞的前後綴得到詞根\n",
        "\n",
        "\n",
        "\n",
        "## *Lemmatization詞形還原*\n",
        "將單詞的複雜形態轉變成最基礎的形態\n",
        "依據aggrasive程度輕到重，分為Porter<-Snowball(porter2) <- Lancaster \n"
      ],
      "metadata": {
        "id": "xjPBtPELRA9U"
      }
    },
    {
      "cell_type": "code",
      "execution_count": 1,
      "metadata": {
        "id": "IraWA_-gTgcP"
      },
      "outputs": [],
      "source": [
        "## Initialize library and data\n",
        "\n",
        "#!pip install beautifulsoup4\n",
        "#!pip install urllib\n",
        "#!pip install requests\n",
        "\n",
        "from bs4 import BeautifulSoup\n",
        "from urllib.request import urlopen\n",
        "\n",
        "import requests"
      ]
    },
    {
      "cell_type": "code",
      "execution_count": 2,
      "metadata": {
        "id": "eQbLrbUiRQBB"
      },
      "outputs": [],
      "source": [
        "## Define our own function to scrape the data\n",
        "\n",
        "def getContent(url):\n",
        "  ## Initial variables\n",
        "  url_content=[]\n",
        "  p_content=[]\n",
        "\n",
        "  ## Get html by request \n",
        "  gC_res = requests.get(url)\n",
        "  gC_soup = BeautifulSoup(gC_res.content, 'html.parser')\n",
        "\n",
        "  ## Get news content from specific tag\n",
        "  url_content = gC_soup.find_all('div',{'class':'article-body__content'})\n",
        "  \n",
        "  for p in url_content[0].find_all_next('p'):\n",
        "    ## Remove unneccesary system characters\n",
        "    p_content.append(p.text.replace('\\\"','').replace('\\r','').replace('\\n','').replace('\\t','')) \n",
        "\n",
        "  ## merge data as one string \n",
        "  return \" \".join(p_content)\n"
      ]
    },
    {
      "cell_type": "code",
      "execution_count": 3,
      "metadata": {
        "colab": {
          "base_uri": "https://localhost:8080/"
        },
        "id": "ejEX_vYaEzuF",
        "outputId": "0f085bcb-5f9f-4639-e46a-c6dc60c5a11a"
      },
      "outputs": [
        {
          "output_type": "stream",
          "name": "stdout",
          "text": [
            "Health care workers, teachers and other essential personnel have been among the hardest hit by Covid-19 and should qualify for a vaccine booster shot — despite a lack of robust evidence that they need a third dose to protect them against severe disease, the head of the Centers for Disease Control and Prevention said Friday. “In a pandemic, we must often take steps with the intention to do the greatest good, even in an uncertain environment,” Dr. Rochelle Walensky said Friday during a White House Covid-19 task force briefing. Full coverage of the Covid-19 pandemic Walensky cited the disproportionate impact the pandemic has had on racial and ethnic minority communities as a reason she recommended a booster dose for people 18 and older at high risk of Covid because of occupational and institutional exposure against the guidance of the CDC's advisers. Withholding access for boosters for these people and communities only worsens the inequities that I have committed to fight against, she said. Walensky's decision to allow millions of Americans over the age of 18 the opportunity to get a booster was an unusual move. She overruled the agency's Advisory Committee on Immunization Practices, which voted to limit boosters to elderly people and older people with underlying health conditions. For two groups, the CDC was clear: People ages 65 and older and those in long-term care settings and people ages 50 to 64 with underlying medical conditions should get a third shot of Pfizer’s Covid-19 vaccine at least six months after their first two shots. Underlying medical conditions include cancer, diabetes, obesity, pregnancy and kidney disease.  The recommendations only apply to those who received the first two doses of Pfizer-BioNTech’s vaccine, the only vaccine booster authorized by the Food and Drug Administration. Booster shot data for those who got the Moderna or Johnson & Johnson shots are forthcoming, the CDC said. The guidance from the FDA and CDC comes after data from Pfizer found its vaccine’s immunity started to decline after six months. Evidence has been strongest for a booster dose in people ages 65 and older. There is little data about the risks of severe illness for younger people who are fully vaccinated and even less evidence showing the safety of a third dose. This was the sticking point for many experts during the CDC advisory panel's meeting. “What worried them was the younger age limit and the potential to do more harm than good,” said Dr. Paul Offit, director of the Vaccine Education Center at Children’s Hospital of Philadelphia, about the CDC group’s recommendation.   Researchers had previously reported a higher-than-usual number of cases of a type of heart inflammation called myocarditis among young people following their second dose of an mRNA vaccine.  This may be why there were gray areas in other CDC booster shot guidance.  The agency did not provide a strong recommendation for two other major groups. Adults under age 50 with underlying conditions as well as adults under age 65 whose jobs could put them at risk for Covid-19 exposure may get the booster if they want it. Those occupations include areas where people from a variety of backgrounds congregate: schools, health care settings, jails and homeless shelters.  The difference in language — “should” vs. “may” — has frustrated some physicians who are now faced with interpreting what to do with the CDC guidance. “The problem is, I don’t know how to implement a ‘may’ recommendation,” said Dr. Hugh Cassiere, director of critical care services for Sandra Atlas Bass Heart Hospital at North Shore University Hospital, part of Northwell Health, on Long Island, New York. “The reason why they said ‘may’ is because the data are weak,” he said. “Why even mention it?” The guidance, however, could be interpreted differently depending on the level of transmission within specific communities. You could be a teacher in a school district where there's very little Covid circulating, and you’re really not at risk as a result of your occupation, said Glen Nowak, co-director of the University of Georgia’s Center for Health and Risk Communication. Conversely, he said, educators in high-risk areas may fit the requirements for a third dose.  Your risk situation can change quickly and unpredictably, Nowak said. On Thursday alone, the agency had logged more than 120,000 daily cases, nearly 10,000 hospitalizations and almost 2,000 Covid-19-related deaths. Download the NBC News app for full coverage of the Covid-19 pandemic On Friday, Walensky said people should still consider themselves fully vaccinated after getting two doses of a Pfizer or Moderna vaccine or the one-dose Johnson & Johnson vaccine.  Outside experts stressed that fully vaccinated individuals are not at immediate risk of infection. Israeli data on the Pfizer shots showed that despite a drop in protection from overall infection, the vaccines remained 93 percent effective in preventing severe illness. This is not an emergency, said Dr. Jesse Goodman, infectious disease specialist at Georgetown University Medical Center and former chief scientist with the Food and Drug Administration. People who have received both Pfizer doses are still afforded significant protection. Indeed, it is the unvaccinated population that makes up the vast majority of severely ill Covid patients in hospitals and intensive care units. Infections among the unvaccinated continue to fuel this pandemic resulting in rising numbers of cases, hospitalizations and deaths, Walensky said Friday. The administration's focus, she added, will be on getting the vaccine to those who have not received a single shot.  We will not boost our way out of this pandemic, she said. As of Friday, the CDC reported that just 55.1 percent of the U.S. population had been fully vaccinated against Covid-19. Follow NBC HEALTH on Twitter & Facebook. Erika Edwards is a health and medical news writer and reporter for NBC News and TODAY. © 2022 NBC UNIVERSAL\n"
          ]
        }
      ],
      "source": [
        "my_url = \"https://www.nbcnews.com/health/health-news/covid-booster-shots-are-rolling-mean-rcna2254\"\n",
        "# news_text1 = getContent('https://www.nbcnews.com/news/world/russia-ukraine-meet-fighting-kyiv-sanctions-putin-economy-rcna17893')\n",
        "news_text1 = getContent(my_url)\n",
        "\n",
        "print(news_text1)"
      ]
    },
    {
      "cell_type": "markdown",
      "metadata": {
        "id": "fLmglKcSOMlt"
      },
      "source": [
        "## 1.Word Tokenization"
      ]
    },
    {
      "cell_type": "code",
      "execution_count": 4,
      "metadata": {
        "colab": {
          "base_uri": "https://localhost:8080/"
        },
        "id": "cgBR4ljwUVxW",
        "outputId": "44cef453-db84-40f9-d480-76e955b990f6"
      },
      "outputs": [
        {
          "output_type": "stream",
          "name": "stdout",
          "text": [
            "[nltk_data] Downloading package punkt to /root/nltk_data...\n",
            "[nltk_data]   Package punkt is already up-to-date!\n",
            "['Health', 'care', 'workers', ',', 'teachers', 'and', 'other', 'essential', 'personnel', 'have', 'been', 'among', 'the', 'hardest', 'hit', 'by', 'Covid-19', 'and', 'should', 'qualify', 'for', 'a', 'vaccine', 'booster', 'shot', '—', 'despite', 'a', 'lack', 'of', 'robust', 'evidence', 'that', 'they', 'need', 'a', 'third', 'dose', 'to', 'protect', 'them', 'against', 'severe', 'disease', ',', 'the', 'head', 'of', 'the', 'Centers', 'for', 'Disease', 'Control', 'and', 'Prevention', 'said', 'Friday', '.', '“', 'In', 'a', 'pandemic', ',', 'we', 'must', 'often', 'take', 'steps', 'with', 'the', 'intention', 'to', 'do', 'the', 'greatest', 'good', ',', 'even', 'in', 'an', 'uncertain', 'environment', ',', '”', 'Dr.', 'Rochelle', 'Walensky', 'said', 'Friday', 'during', 'a', 'White', 'House', 'Covid-19', 'task', 'force', 'briefing', '.', 'Full', 'coverage', 'of', 'the', 'Covid-19', 'pandemic', 'Walensky', 'cited', 'the', 'disproportionate', 'impact', 'the', 'pandemic', 'has', 'had', 'on', 'racial', 'and', 'ethnic', 'minority', 'communities', 'as', 'a', 'reason', 'she', 'recommended', 'a', 'booster', 'dose', 'for', 'people', '18', 'and', 'older', 'at', 'high', 'risk', 'of', 'Covid', 'because', 'of', 'occupational', 'and', 'institutional', 'exposure', 'against', 'the', 'guidance', 'of', 'the', 'CDC', \"'s\", 'advisers', '.', 'Withholding', 'access', 'for', 'boosters', 'for', 'these', 'people', 'and', 'communities', 'only', 'worsens', 'the', 'inequities', 'that', 'I', 'have', 'committed', 'to', 'fight', 'against', ',', 'she', 'said', '.', 'Walensky', \"'s\", 'decision', 'to', 'allow', 'millions', 'of', 'Americans', 'over', 'the', 'age', 'of', '18', 'the', 'opportunity', 'to', 'get', 'a', 'booster', 'was', 'an', 'unusual', 'move', '.', 'She', 'overruled', 'the', 'agency', \"'s\", 'Advisory', 'Committee', 'on', 'Immunization', 'Practices', ',', 'which', 'voted', 'to', 'limit', 'boosters', 'to', 'elderly', 'people', 'and', 'older', 'people', 'with', 'underlying', 'health', 'conditions', '.', 'For', 'two', 'groups', ',', 'the', 'CDC', 'was', 'clear', ':', 'People', 'ages', '65', 'and', 'older', 'and', 'those', 'in', 'long-term', 'care', 'settings', 'and', 'people', 'ages', '50', 'to', '64', 'with', 'underlying', 'medical', 'conditions', 'should', 'get', 'a', 'third', 'shot', 'of', 'Pfizer', '’', 's', 'Covid-19', 'vaccine', 'at', 'least', 'six', 'months', 'after', 'their', 'first', 'two', 'shots', '.', 'Underlying', 'medical', 'conditions', 'include', 'cancer', ',', 'diabetes', ',', 'obesity', ',', 'pregnancy', 'and', 'kidney', 'disease', '.', 'The', 'recommendations', 'only', 'apply', 'to', 'those', 'who', 'received', 'the', 'first', 'two', 'doses', 'of', 'Pfizer-BioNTech', '’', 's', 'vaccine', ',', 'the', 'only', 'vaccine', 'booster', 'authorized', 'by', 'the', 'Food', 'and', 'Drug', 'Administration', '.', 'Booster', 'shot', 'data', 'for', 'those', 'who', 'got', 'the', 'Moderna', 'or', 'Johnson', '&', 'Johnson', 'shots', 'are', 'forthcoming', ',', 'the', 'CDC', 'said', '.', 'The', 'guidance', 'from', 'the', 'FDA', 'and', 'CDC', 'comes', 'after', 'data', 'from', 'Pfizer', 'found', 'its', 'vaccine', '’', 's', 'immunity', 'started', 'to', 'decline', 'after', 'six', 'months', '.', 'Evidence', 'has', 'been', 'strongest', 'for', 'a', 'booster', 'dose', 'in', 'people', 'ages', '65', 'and', 'older', '.', 'There', 'is', 'little', 'data', 'about', 'the', 'risks', 'of', 'severe', 'illness', 'for', 'younger', 'people', 'who', 'are', 'fully', 'vaccinated', 'and', 'even', 'less', 'evidence', 'showing', 'the', 'safety', 'of', 'a', 'third', 'dose', '.', 'This', 'was', 'the', 'sticking', 'point', 'for', 'many', 'experts', 'during', 'the', 'CDC', 'advisory', 'panel', \"'s\", 'meeting', '.', '“', 'What', 'worried', 'them', 'was', 'the', 'younger', 'age', 'limit', 'and', 'the', 'potential', 'to', 'do', 'more', 'harm', 'than', 'good', ',', '”', 'said', 'Dr.', 'Paul', 'Offit', ',', 'director', 'of', 'the', 'Vaccine', 'Education', 'Center', 'at', 'Children', '’', 's', 'Hospital', 'of', 'Philadelphia', ',', 'about', 'the', 'CDC', 'group', '’', 's', 'recommendation', '.', 'Researchers', 'had', 'previously', 'reported', 'a', 'higher-than-usual', 'number', 'of', 'cases', 'of', 'a', 'type', 'of', 'heart', 'inflammation', 'called', 'myocarditis', 'among', 'young', 'people', 'following', 'their', 'second', 'dose', 'of', 'an', 'mRNA', 'vaccine', '.', 'This', 'may', 'be', 'why', 'there', 'were', 'gray', 'areas', 'in', 'other', 'CDC', 'booster', 'shot', 'guidance', '.', 'The', 'agency', 'did', 'not', 'provide', 'a', 'strong', 'recommendation', 'for', 'two', 'other', 'major', 'groups', '.', 'Adults', 'under', 'age', '50', 'with', 'underlying', 'conditions', 'as', 'well', 'as', 'adults', 'under', 'age', '65', 'whose', 'jobs', 'could', 'put', 'them', 'at', 'risk', 'for', 'Covid-19', 'exposure', 'may', 'get', 'the', 'booster', 'if', 'they', 'want', 'it', '.', 'Those', 'occupations', 'include', 'areas', 'where', 'people', 'from', 'a', 'variety', 'of', 'backgrounds', 'congregate', ':', 'schools', ',', 'health', 'care', 'settings', ',', 'jails', 'and', 'homeless', 'shelters', '.', 'The', 'difference', 'in', 'language', '—', '“', 'should', '”', 'vs.', '“', 'may', '”', '—', 'has', 'frustrated', 'some', 'physicians', 'who', 'are', 'now', 'faced', 'with', 'interpreting', 'what', 'to', 'do', 'with', 'the', 'CDC', 'guidance', '.', '“', 'The', 'problem', 'is', ',', 'I', 'don', '’', 't', 'know', 'how', 'to', 'implement', 'a', '‘', 'may', '’', 'recommendation', ',', '”', 'said', 'Dr.', 'Hugh', 'Cassiere', ',', 'director', 'of', 'critical', 'care', 'services', 'for', 'Sandra', 'Atlas', 'Bass', 'Heart', 'Hospital', 'at', 'North', 'Shore', 'University', 'Hospital', ',', 'part', 'of', 'Northwell', 'Health', ',', 'on', 'Long', 'Island', ',', 'New', 'York', '.', '“', 'The', 'reason', 'why', 'they', 'said', '‘', 'may', '’', 'is', 'because', 'the', 'data', 'are', 'weak', ',', '”', 'he', 'said', '.', '“', 'Why', 'even', 'mention', 'it', '?', '”', 'The', 'guidance', ',', 'however', ',', 'could', 'be', 'interpreted', 'differently', 'depending', 'on', 'the', 'level', 'of', 'transmission', 'within', 'specific', 'communities', '.', 'You', 'could', 'be', 'a', 'teacher', 'in', 'a', 'school', 'district', 'where', 'there', \"'s\", 'very', 'little', 'Covid', 'circulating', ',', 'and', 'you', '’', 're', 'really', 'not', 'at', 'risk', 'as', 'a', 'result', 'of', 'your', 'occupation', ',', 'said', 'Glen', 'Nowak', ',', 'co-director', 'of', 'the', 'University', 'of', 'Georgia', '’', 's', 'Center', 'for', 'Health', 'and', 'Risk', 'Communication', '.', 'Conversely', ',', 'he', 'said', ',', 'educators', 'in', 'high-risk', 'areas', 'may', 'fit', 'the', 'requirements', 'for', 'a', 'third', 'dose', '.', 'Your', 'risk', 'situation', 'can', 'change', 'quickly', 'and', 'unpredictably', ',', 'Nowak', 'said', '.', 'On', 'Thursday', 'alone', ',', 'the', 'agency', 'had', 'logged', 'more', 'than', '120,000', 'daily', 'cases', ',', 'nearly', '10,000', 'hospitalizations', 'and', 'almost', '2,000', 'Covid-19-related', 'deaths', '.', 'Download', 'the', 'NBC', 'News', 'app', 'for', 'full', 'coverage', 'of', 'the', 'Covid-19', 'pandemic', 'On', 'Friday', ',', 'Walensky', 'said', 'people', 'should', 'still', 'consider', 'themselves', 'fully', 'vaccinated', 'after', 'getting', 'two', 'doses', 'of', 'a', 'Pfizer', 'or', 'Moderna', 'vaccine', 'or', 'the', 'one-dose', 'Johnson', '&', 'Johnson', 'vaccine', '.', 'Outside', 'experts', 'stressed', 'that', 'fully', 'vaccinated', 'individuals', 'are', 'not', 'at', 'immediate', 'risk', 'of', 'infection', '.', 'Israeli', 'data', 'on', 'the', 'Pfizer', 'shots', 'showed', 'that', 'despite', 'a', 'drop', 'in', 'protection', 'from', 'overall', 'infection', ',', 'the', 'vaccines', 'remained', '93', 'percent', 'effective', 'in', 'preventing', 'severe', 'illness', '.', 'This', 'is', 'not', 'an', 'emergency', ',', 'said', 'Dr.', 'Jesse', 'Goodman', ',', 'infectious', 'disease', 'specialist', 'at', 'Georgetown', 'University', 'Medical', 'Center', 'and', 'former', 'chief', 'scientist', 'with', 'the', 'Food', 'and', 'Drug', 'Administration', '.', 'People', 'who', 'have', 'received', 'both', 'Pfizer', 'doses', 'are', 'still', 'afforded', 'significant', 'protection', '.', 'Indeed', ',', 'it', 'is', 'the', 'unvaccinated', 'population', 'that', 'makes', 'up', 'the', 'vast', 'majority', 'of', 'severely', 'ill', 'Covid', 'patients', 'in', 'hospitals', 'and', 'intensive', 'care', 'units', '.', 'Infections', 'among', 'the', 'unvaccinated', 'continue', 'to', 'fuel', 'this', 'pandemic', 'resulting', 'in', 'rising', 'numbers', 'of', 'cases', ',', 'hospitalizations', 'and', 'deaths', ',', 'Walensky', 'said', 'Friday', '.', 'The', 'administration', \"'s\", 'focus', ',', 'she', 'added', ',', 'will', 'be', 'on', 'getting', 'the', 'vaccine', 'to', 'those', 'who', 'have', 'not', 'received', 'a', 'single', 'shot', '.', 'We', 'will', 'not', 'boost', 'our', 'way', 'out', 'of', 'this', 'pandemic', ',', 'she', 'said', '.', 'As', 'of', 'Friday', ',', 'the', 'CDC', 'reported', 'that', 'just', '55.1', 'percent', 'of', 'the', 'U.S.', 'population', 'had', 'been', 'fully', 'vaccinated', 'against', 'Covid-19', '.', 'Follow', 'NBC', 'HEALTH', 'on', 'Twitter', '&', 'Facebook', '.', 'Erika', 'Edwards', 'is', 'a', 'health', 'and', 'medical', 'news', 'writer', 'and', 'reporter', 'for', 'NBC', 'News', 'and', 'TODAY', '.', '©', '2022', 'NBC', 'UNIVERSAL']\n"
          ]
        }
      ],
      "source": [
        "\n",
        "import nltk  \n",
        "# punct_token = nltk.wordpunct_tokenize(news_text1)\n",
        "# print(punct_token)\n",
        "\n",
        "# I choose to use nltk.word_tokenize instead nltk.wordpunct_tokenize in ths case to reach better performance.\n",
        "## tokenization using word_tokenize function\n",
        "nltk.download('punkt') ## donwload \"punkt\" dictionary resource\n",
        "text1_tokens = nltk.word_tokenize(news_text1)\n",
        "\n",
        "print(text1_tokens)"
      ]
    },
    {
      "cell_type": "markdown",
      "metadata": {
        "id": "LewPG9pfSoZh"
      },
      "source": [
        "## 2.Multi-Word Tokenizer"
      ]
    },
    {
      "cell_type": "code",
      "execution_count": 5,
      "metadata": {
        "id": "NUVKkOnn0bgB"
      },
      "outputs": [],
      "source": [
        "text1=news_text1"
      ]
    },
    {
      "cell_type": "code",
      "execution_count": 6,
      "metadata": {
        "colab": {
          "base_uri": "https://localhost:8080/"
        },
        "id": "pe-QAZh9Ta9_",
        "outputId": "8488def7-0fc6-4b65-90b8-b0c0985c74e8"
      },
      "outputs": [
        {
          "output_type": "stream",
          "name": "stdout",
          "text": [
            "['Health', 'care', 'workers', ',', 'teachers', 'and', 'other', 'essential', 'personnel', 'have', 'been', 'among', 'the', 'hardest', 'hit', 'by', 'Covid-19', 'and', 'should', 'qualify', 'for', 'a', 'vaccine', 'booster', 'shot', '—', 'despite', 'a', 'lack', 'of', 'robust', 'evidence', 'that', 'they', 'need', 'a', 'third', 'dose', 'to', 'protect', 'them', 'against', 'severe', 'disease', ',', 'the', 'head', 'of', 'the', 'Centers', 'for', 'Disease', 'Control', 'and', 'Prevention', 'said', 'Friday', '.', '“', 'In', 'a', 'pandemic', ',', 'we', 'must', 'often', 'take', 'steps', 'with', 'the', 'intention', 'to', 'do', 'the', 'greatest', 'good', ',', 'even', 'in', 'an', 'uncertain', 'environment', ',', '”', 'Dr.', 'Rochelle', 'Walensky', 'said', 'Friday', 'during', 'a', 'White', 'House', 'Covid-19', 'task', 'force', 'briefing', '.', 'Full', 'coverage', 'of', 'the', 'Covid-19', 'pandemic', 'Walensky', 'cited', 'the', 'disproportionate', 'impact', 'the', 'pandemic', 'has', 'had', 'on', 'racial', 'and', 'ethnic', 'minority', 'communities', 'as', 'a', 'reason', 'she', 'recommended', 'a', 'booster', 'dose', 'for', 'people', '18', 'and', 'older', 'at', 'high', 'risk', 'of', 'Covid', 'because', 'of', 'occupational', 'and', 'institutional', 'exposure', 'against', 'the', 'guidance', 'of', 'the', 'CDC', \"'s\", 'advisers', '.', 'Withholding', 'access', 'for', 'boosters', 'for', 'these', 'people', 'and', 'communities', 'only', 'worsens', 'the', 'inequities', 'that', 'I', 'have', 'committed', 'to', 'fight', 'against', ',', 'she', 'said', '.', 'Walensky', \"'s\", 'decision', 'to', 'allow', 'millions', 'of', 'Americans', 'over', 'the', 'age', 'of', '18', 'the', 'opportunity', 'to', 'get', 'a', 'booster', 'was', 'an', 'unusual', 'move', '.', 'She', 'overruled', 'the', 'agency', \"'s\", 'Advisory', 'Committee', 'on', 'Immunization', 'Practices', ',', 'which', 'voted', 'to', 'limit', 'boosters', 'to', 'elderly', 'people', 'and', 'older', 'people', 'with', 'underlying', 'health', 'conditions', '.', 'For', 'two', 'groups', ',', 'the', 'CDC', 'was', 'clear', ':', 'People', 'ages', '65', 'and', 'older', 'and', 'those', 'in', 'long-term', 'care', 'settings', 'and', 'people', 'ages', '50', 'to', '64', 'with', 'underlying', 'medical', 'conditions', 'should', 'get', 'a', 'third', 'shot', 'of', 'Pfizer', '’', 's', 'Covid-19', 'vaccine', 'at', 'least', 'six', 'months', 'after', 'their', 'first', 'two', 'shots', '.', 'Underlying', 'medical', 'conditions', 'include', 'cancer', ',', 'diabetes', ',', 'obesity', ',', 'pregnancy', 'and', 'kidney', 'disease', '.', 'The', 'recommendations', 'only', 'apply', 'to', 'those', 'who', 'received', 'the', 'first', 'two', 'doses', 'of', 'Pfizer-BioNTech', '’', 's', 'vaccine', ',', 'the', 'only', 'vaccine', 'booster', 'authorized', 'by', 'the', 'Food', 'and', 'Drug', 'Administration', '.', 'Booster', 'shot', 'data', 'for', 'those', 'who', 'got', 'the', 'Moderna', 'or', 'Johnson', '&', 'Johnson', 'shots', 'are', 'forthcoming', ',', 'the', 'CDC', 'said', '.', 'The', 'guidance', 'from', 'the', 'FDA', 'and', 'CDC', 'comes', 'after', 'data', 'from', 'Pfizer', 'found', 'its', 'vaccine', '’', 's', 'immunity', 'started', 'to', 'decline', 'after', 'six', 'months', '.', 'Evidence', 'has', 'been', 'strongest', 'for', 'a', 'booster', 'dose', 'in', 'people', 'ages', '65', 'and', 'older', '.', 'There', 'is', 'little', 'data', 'about', 'the', 'risks', 'of', 'severe', 'illness', 'for', 'younger', 'people', 'who', 'are', 'fully', 'vaccinated', 'and', 'even', 'less', 'evidence', 'showing', 'the', 'safety', 'of', 'a', 'third', 'dose', '.', 'This', 'was', 'the', 'sticking', 'point', 'for', 'many', 'experts', 'during', 'the', 'CDC', 'advisory', 'panel', \"'s\", 'meeting', '.', '“', 'What', 'worried', 'them', 'was', 'the', 'younger', 'age', 'limit', 'and', 'the', 'potential', 'to', 'do', 'more', 'harm', 'than', 'good', ',', '”', 'said', 'Dr.', 'Paul', 'Offit', ',', 'director', 'of', 'the', 'Vaccine', 'Education', 'Center', 'at', 'Children', '’', 's', 'Hospital', 'of', 'Philadelphia', ',', 'about', 'the', 'CDC', 'group', '’', 's', 'recommendation', '.', 'Researchers', 'had', 'previously', 'reported', 'a', 'higher-than-usual', 'number', 'of', 'cases', 'of', 'a', 'type', 'of', 'heart', 'inflammation', 'called', 'myocarditis', 'among', 'young', 'people', 'following', 'their', 'second', 'dose', 'of', 'an', 'mRNA', 'vaccine', '.', 'This', 'may', 'be', 'why', 'there', 'were', 'gray', 'areas', 'in', 'other', 'CDC', 'booster', 'shot', 'guidance', '.', 'The', 'agency', 'did', 'not', 'provide', 'a', 'strong', 'recommendation', 'for', 'two', 'other', 'major', 'groups', '.', 'Adults', 'under', 'age', '50', 'with', 'underlying', 'conditions', 'as', 'well', 'as', 'adults', 'under', 'age', '65', 'whose', 'jobs', 'could', 'put', 'them', 'at', 'risk', 'for', 'Covid-19', 'exposure', 'may', 'get', 'the', 'booster', 'if', 'they', 'want', 'it', '.', 'Those', 'occupations', 'include', 'areas', 'where', 'people', 'from', 'a', 'variety', 'of', 'backgrounds', 'congregate', ':', 'schools', ',', 'health', 'care', 'settings', ',', 'jails', 'and', 'homeless', 'shelters', '.', 'The', 'difference', 'in', 'language', '—', '“', 'should', '”', 'vs.', '“', 'may', '”', '—', 'has', 'frustrated', 'some', 'physicians', 'who', 'are', 'now', 'faced', 'with', 'interpreting', 'what', 'to', 'do', 'with', 'the', 'CDC', 'guidance', '.', '“', 'The', 'problem', 'is', ',', 'I', 'don', '’', 't', 'know', 'how', 'to', 'implement', 'a', '‘', 'may', '’', 'recommendation', ',', '”', 'said', 'Dr.', 'Hugh', 'Cassiere', ',', 'director', 'of', 'critical', 'care', 'services', 'for', 'Sandra', 'Atlas', 'Bass', 'Heart', 'Hospital', 'at', 'North', 'Shore', 'University', 'Hospital', ',', 'part', 'of', 'Northwell', 'Health', ',', 'on', 'Long_Island', ',', 'New', 'York', '.', '“', 'The', 'reason', 'why', 'they', 'said', '‘', 'may', '’', 'is', 'because', 'the', 'data', 'are', 'weak', ',', '”', 'he', 'said', '.', '“', 'Why', 'even', 'mention', 'it', '?', '”', 'The', 'guidance', ',', 'however', ',', 'could', 'be', 'interpreted', 'differently', 'depending', 'on', 'the', 'level', 'of', 'transmission', 'within', 'specific', 'communities', '.', 'You', 'could', 'be', 'a', 'teacher', 'in', 'a', 'school', 'district', 'where', 'there', \"'s\", 'very', 'little', 'Covid', 'circulating', ',', 'and', 'you', '’', 're', 'really', 'not', 'at', 'risk', 'as', 'a', 'result', 'of', 'your', 'occupation', ',', 'said', 'Glen', 'Nowak', ',', 'co-director', 'of', 'the', 'University', 'of', 'Georgia', '’', 's', 'Center', 'for', 'Health', 'and', 'Risk', 'Communication', '.', 'Conversely', ',', 'he', 'said', ',', 'educators', 'in', 'high-risk', 'areas', 'may', 'fit', 'the', 'requirements', 'for', 'a', 'third', 'dose', '.', 'Your', 'risk', 'situation', 'can', 'change', 'quickly', 'and', 'unpredictably', ',', 'Nowak', 'said', '.', 'On', 'Thursday', 'alone', ',', 'the', 'agency', 'had', 'logged', 'more', 'than', '120,000', 'daily', 'cases', ',', 'nearly', '10,000', 'hospitalizations', 'and', 'almost', '2,000', 'Covid-19-related', 'deaths', '.', 'Download', 'the', 'NBC', 'News', 'app', 'for', 'full', 'coverage', 'of', 'the', 'Covid-19', 'pandemic', 'On', 'Friday', ',', 'Walensky', 'said', 'people', 'should', 'still', 'consider', 'themselves', 'fully', 'vaccinated', 'after', 'getting', 'two', 'doses', 'of', 'a', 'Pfizer', 'or', 'Moderna', 'vaccine', 'or', 'the', 'one-dose', 'Johnson', '&', 'Johnson', 'vaccine', '.', 'Outside', 'experts', 'stressed', 'that', 'fully', 'vaccinated', 'individuals', 'are', 'not', 'at', 'immediate', 'risk', 'of', 'infection', '.', 'Israeli', 'data', 'on', 'the', 'Pfizer', 'shots', 'showed', 'that', 'despite', 'a', 'drop', 'in', 'protection', 'from', 'overall', 'infection', ',', 'the', 'vaccines', 'remained', '93', 'percent', 'effective', 'in', 'preventing', 'severe', 'illness', '.', 'This', 'is', 'not', 'an', 'emergency', ',', 'said', 'Dr.', 'Jesse', 'Goodman', ',', 'infectious', 'disease', 'specialist', 'at', 'Georgetown', 'University', 'Medical', 'Center', 'and', 'former', 'chief', 'scientist', 'with', 'the', 'Food', 'and', 'Drug', 'Administration', '.', 'People', 'who', 'have', 'received', 'both', 'Pfizer', 'doses', 'are', 'still', 'afforded', 'significant', 'protection', '.', 'Indeed', ',', 'it', 'is', 'the', 'unvaccinated', 'population', 'that', 'makes', 'up', 'the', 'vast', 'majority', 'of', 'severely', 'ill', 'Covid', 'patients', 'in', 'hospitals', 'and', 'intensive', 'care', 'units', '.', 'Infections', 'among', 'the', 'unvaccinated', 'continue', 'to', 'fuel', 'this', 'pandemic', 'resulting', 'in', 'rising', 'numbers', 'of', 'cases', ',', 'hospitalizations', 'and', 'deaths', ',', 'Walensky', 'said', 'Friday', '.', 'The', 'administration', \"'s\", 'focus', ',', 'she', 'added', ',', 'will', 'be', 'on', 'getting', 'the', 'vaccine', 'to', 'those', 'who', 'have', 'not', 'received', 'a', 'single', 'shot', '.', 'We', 'will', 'not', 'boost', 'our', 'way', 'out', 'of', 'this', 'pandemic', ',', 'she', 'said', '.', 'As', 'of', 'Friday', ',', 'the', 'CDC', 'reported', 'that', 'just', '55.1', 'percent', 'of', 'the', 'U.S.', 'population', 'had', 'been', 'fully', 'vaccinated', 'against', 'Covid-19', '.', 'Follow', 'NBC', 'HEALTH', 'on', 'Twitter', '&', 'Facebook', '.', 'Erika', 'Edwards', 'is', 'a', 'health', 'and', 'medical', 'news', 'writer', 'and', 'reporter', 'for', 'NBC', 'News', 'and', 'TODAY', '.', '©', '2022', 'NBC', 'UNIVERSAL']\n"
          ]
        }
      ],
      "source": [
        "#combine 2 word into 1 token\n",
        "import nltk\n",
        "from nltk.tokenize import MWETokenizer\n",
        "\n",
        "mw_tokenizer = nltk.tokenize.MWETokenizer()\n",
        "text1_tokens = nltk.word_tokenize(text1)\n",
        "\n",
        "mw_tokenizer.add_mwe(('Long', 'Island'))\n",
        "print(mw_tokenizer.tokenize(text1_tokens))"
      ]
    },
    {
      "cell_type": "code",
      "execution_count": 7,
      "metadata": {
        "colab": {
          "base_uri": "https://localhost:8080/"
        },
        "id": "CldGTr7jORuI",
        "outputId": "c8b03256-3a4e-4a0b-edf2-986a6f602dd8"
      },
      "outputs": [
        {
          "output_type": "stream",
          "name": "stdout",
          "text": [
            "['National', 'Tsing', 'Hua', 'University', 'was', 'established', 'in', 'Beijing', 'in', '1911', 'as', '“', 'Tsing', 'Hua', 'Academy', '”', '.', 'In', '1956', ',', 'National', 'Tsing', 'Hua', 'University', 'was', 're-established', 'at', 'its', 'present', 'location', 'in', 'Hsinchu', ',', 'Taiwan', '.', 'Since', 'its', 'relocation', ',', 'NTHU', 'has', 'developed', 'into', 'a', 'comprehensive', 'research', 'university', 'offering', 'a', 'full', 'range', 'of', 'degree', 'programs', 'in', 'science', ',', 'technology', ',', 'engineering', ',', 'humanities', ',', 'social', 'sciences', ',', 'and', 'management', '.']\n",
            "['National_Tsing_Hua_University', 'was', 'established', 'in', 'Beijing', 'in', '1911', 'as', '“', 'Tsing_Hua_Academy', '”', '.', 'In', '1956', ',', 'National_Tsing_Hua_University', 'was', 're-established', 'at', 'its', 'present', 'location', 'in', 'Hsinchu', ',', 'Taiwan', '.', 'Since', 'its', 'relocation', ',', 'NTHU', 'has', 'developed', 'into', 'a', 'comprehensive', 'research', 'university', 'offering', 'a', 'full', 'range', 'of', 'degree', 'programs', 'in', 'science', ',', 'technology', ',', 'engineering', ',', 'humanities', ',', 'social_sciences', ',', 'and', 'management', '.']\n"
          ]
        }
      ],
      "source": [
        "# #Another example\n",
        "text2=\"National Tsing Hua University was established in Beijing in 1911 as “Tsing Hua Academy”. \\\n",
        "In 1956, National Tsing Hua University was re-established at its present location in Hsinchu, Taiwan. \\\n",
        "Since its relocation, NTHU has developed into a comprehensive research university offering a full range \\\n",
        "of degree programs in science, technology, engineering, humanities, social sciences, and management.\"\n",
        "text2_tokens =nltk.word_tokenize(text2)\n",
        "print(text2_tokens)\n",
        "\n",
        "mw_tokenizer.add_mwe(('National', 'Tsing','Hua','University'))\n",
        "mw_tokenizer.add_mwe(('Tsing', 'Hua', 'Academy'))\n",
        "mw_tokenizer.add_mwe(('social','sciences'))\n",
        "print(mw_tokenizer.tokenize(text2_tokens))\n",
        "\n",
        "#testing data end here"
      ]
    },
    {
      "cell_type": "code",
      "source": [
        "#重寫程式\n",
        "from functools import reduce\n",
        "\n",
        "special_term = [['Johnson','&','Johnson'],['Long', 'Island'],['Hugh', 'Cassiere'],['North ', 'Shore', 'University'],\n",
        "        ['New', 'York'],['Glen', 'Nowak'],['Glen', 'Nowak'],['Georgetown', 'University', 'Medical', 'Center'],\n",
        "          ['Food', 'and', 'Drug', 'Administration']]\n",
        "map (lambda x: mw_tokenizer.add_mwe(x) , special_term) \n",
        "#看前20個結果就好\n",
        "mw_tokenizer.tokenize(text1_tokens)[1:20] "
      ],
      "metadata": {
        "colab": {
          "base_uri": "https://localhost:8080/"
        },
        "id": "hMlVDBVVF4Lg",
        "outputId": "745dd916-43e9-4ad8-fb4f-3ad9cd268d80"
      },
      "execution_count": 43,
      "outputs": [
        {
          "output_type": "execute_result",
          "data": {
            "text/plain": [
              "['care',\n",
              " 'workers',\n",
              " ',',\n",
              " 'teachers',\n",
              " 'and',\n",
              " 'other',\n",
              " 'essential',\n",
              " 'personnel',\n",
              " 'have',\n",
              " 'been',\n",
              " 'among',\n",
              " 'the',\n",
              " 'hardest',\n",
              " 'hit',\n",
              " 'by',\n",
              " 'Covid-19',\n",
              " 'and',\n",
              " 'should',\n",
              " 'qualify']"
            ]
          },
          "metadata": {},
          "execution_count": 43
        }
      ]
    },
    {
      "cell_type": "markdown",
      "metadata": {
        "id": "81opi3cP2M93"
      },
      "source": [
        "## 3.Use ngrams to discover multi-word token"
      ]
    },
    {
      "cell_type": "code",
      "execution_count": 44,
      "metadata": {
        "colab": {
          "base_uri": "https://localhost:8080/"
        },
        "id": "tfnoWvWJrIm5",
        "outputId": "a1be77cc-f281-4f12-ee07-492caab0da92"
      },
      "outputs": [
        {
          "output_type": "stream",
          "name": "stdout",
          "text": [
            "['Health', 'care', 'workers', ',', 'teachers', 'and', 'other', 'essential', 'personnel', 'have', 'been', 'among', 'the', 'hardest', 'hit', 'by', 'Covid-19', 'and', 'should', 'qualify', 'for', 'a', 'vaccine', 'booster', 'shot', '—', 'despite', 'a', 'lack', 'of', 'robust', 'evidence', 'that', 'they', 'need', 'a', 'third', 'dose', 'to', 'protect', 'them', 'against', 'severe', 'disease', ',', 'the', 'head', 'of', 'the', 'Centers', 'for', 'Disease', 'Control', 'and', 'Prevention', 'said', 'Friday', '.', '“', 'In', 'a', 'pandemic', ',', 'we', 'must', 'often', 'take', 'steps', 'with', 'the', 'intention', 'to', 'do', 'the', 'greatest', 'good', ',', 'even', 'in', 'an', 'uncertain', 'environment', ',', '”', 'Dr.', 'Rochelle', 'Walensky', 'said', 'Friday', 'during', 'a', 'White', 'House', 'Covid-19', 'task', 'force', 'briefing', '.', 'Full', 'coverage', 'of', 'the', 'Covid-19', 'pandemic', 'Walensky', 'cited', 'the', 'disproportionate', 'impact', 'the', 'pandemic', 'has', 'had', 'on', 'racial', 'and', 'ethnic', 'minority', 'communities', 'as', 'a', 'reason', 'she', 'recommended', 'a', 'booster', 'dose', 'for', 'people', '18', 'and', 'older', 'at', 'high', 'risk', 'of', 'Covid', 'because', 'of', 'occupational', 'and', 'institutional', 'exposure', 'against', 'the', 'guidance', 'of', 'the', 'CDC', \"'s\", 'advisers', '.', 'Withholding', 'access', 'for', 'boosters', 'for', 'these', 'people', 'and', 'communities', 'only', 'worsens', 'the', 'inequities', 'that', 'I', 'have', 'committed', 'to', 'fight', 'against', ',', 'she', 'said', '.', 'Walensky', \"'s\", 'decision', 'to', 'allow', 'millions', 'of', 'Americans', 'over', 'the', 'age', 'of', '18', 'the', 'opportunity', 'to', 'get', 'a', 'booster', 'was', 'an', 'unusual', 'move', '.', 'She', 'overruled', 'the', 'agency', \"'s\", 'Advisory', 'Committee', 'on', 'Immunization', 'Practices', ',', 'which', 'voted', 'to', 'limit', 'boosters', 'to', 'elderly', 'people', 'and', 'older', 'people', 'with', 'underlying', 'health', 'conditions', '.', 'For', 'two', 'groups', ',', 'the', 'CDC', 'was', 'clear', ':', 'People', 'ages', '65', 'and', 'older', 'and', 'those', 'in', 'long-term', 'care', 'settings', 'and', 'people', 'ages', '50', 'to', '64', 'with', 'underlying', 'medical', 'conditions', 'should', 'get', 'a', 'third', 'shot', 'of', 'Pfizer', '’', 's', 'Covid-19', 'vaccine', 'at', 'least', 'six', 'months', 'after', 'their', 'first', 'two', 'shots', '.', 'Underlying', 'medical', 'conditions', 'include', 'cancer', ',', 'diabetes', ',', 'obesity', ',', 'pregnancy', 'and', 'kidney', 'disease', '.', 'The', 'recommendations', 'only', 'apply', 'to', 'those', 'who', 'received', 'the', 'first', 'two', 'doses', 'of', 'Pfizer-BioNTech', '’', 's', 'vaccine', ',', 'the', 'only', 'vaccine', 'booster', 'authorized', 'by', 'the', 'Food', 'and', 'Drug', 'Administration', '.', 'Booster', 'shot', 'data', 'for', 'those', 'who', 'got', 'the', 'Moderna', 'or', 'Johnson', '&', 'Johnson', 'shots', 'are', 'forthcoming', ',', 'the', 'CDC', 'said', '.', 'The', 'guidance', 'from', 'the', 'FDA', 'and', 'CDC', 'comes', 'after', 'data', 'from', 'Pfizer', 'found', 'its', 'vaccine', '’', 's', 'immunity', 'started', 'to', 'decline', 'after', 'six', 'months', '.', 'Evidence', 'has', 'been', 'strongest', 'for', 'a', 'booster', 'dose', 'in', 'people', 'ages', '65', 'and', 'older', '.', 'There', 'is', 'little', 'data', 'about', 'the', 'risks', 'of', 'severe', 'illness', 'for', 'younger', 'people', 'who', 'are', 'fully', 'vaccinated', 'and', 'even', 'less', 'evidence', 'showing', 'the', 'safety', 'of', 'a', 'third', 'dose', '.', 'This', 'was', 'the', 'sticking', 'point', 'for', 'many', 'experts', 'during', 'the', 'CDC', 'advisory', 'panel', \"'s\", 'meeting', '.', '“', 'What', 'worried', 'them', 'was', 'the', 'younger', 'age', 'limit', 'and', 'the', 'potential', 'to', 'do', 'more', 'harm', 'than', 'good', ',', '”', 'said', 'Dr.', 'Paul', 'Offit', ',', 'director', 'of', 'the', 'Vaccine', 'Education', 'Center', 'at', 'Children', '’', 's', 'Hospital', 'of', 'Philadelphia', ',', 'about', 'the', 'CDC', 'group', '’', 's', 'recommendation', '.', 'Researchers', 'had', 'previously', 'reported', 'a', 'higher-than-usual', 'number', 'of', 'cases', 'of', 'a', 'type', 'of', 'heart', 'inflammation', 'called', 'myocarditis', 'among', 'young', 'people', 'following', 'their', 'second', 'dose', 'of', 'an', 'mRNA', 'vaccine', '.', 'This', 'may', 'be', 'why', 'there', 'were', 'gray', 'areas', 'in', 'other', 'CDC', 'booster', 'shot', 'guidance', '.', 'The', 'agency', 'did', 'not', 'provide', 'a', 'strong', 'recommendation', 'for', 'two', 'other', 'major', 'groups', '.', 'Adults', 'under', 'age', '50', 'with', 'underlying', 'conditions', 'as', 'well', 'as', 'adults', 'under', 'age', '65', 'whose', 'jobs', 'could', 'put', 'them', 'at', 'risk', 'for', 'Covid-19', 'exposure', 'may', 'get', 'the', 'booster', 'if', 'they', 'want', 'it', '.', 'Those', 'occupations', 'include', 'areas', 'where', 'people', 'from', 'a', 'variety', 'of', 'backgrounds', 'congregate', ':', 'schools', ',', 'health', 'care', 'settings', ',', 'jails', 'and', 'homeless', 'shelters', '.', 'The', 'difference', 'in', 'language', '—', '“', 'should', '”', 'vs.', '“', 'may', '”', '—', 'has', 'frustrated', 'some', 'physicians', 'who', 'are', 'now', 'faced', 'with', 'interpreting', 'what', 'to', 'do', 'with', 'the', 'CDC', 'guidance', '.', '“', 'The', 'problem', 'is', ',', 'I', 'don', '’', 't', 'know', 'how', 'to', 'implement', 'a', '‘', 'may', '’', 'recommendation', ',', '”', 'said', 'Dr.', 'Hugh', 'Cassiere', ',', 'director', 'of', 'critical', 'care', 'services', 'for', 'Sandra', 'Atlas', 'Bass', 'Heart', 'Hospital', 'at', 'North', 'Shore', 'University', 'Hospital', ',', 'part', 'of', 'Northwell', 'Health', ',', 'on', 'Long', 'Island', ',', 'New', 'York', '.', '“', 'The', 'reason', 'why', 'they', 'said', '‘', 'may', '’', 'is', 'because', 'the', 'data', 'are', 'weak', ',', '”', 'he', 'said', '.', '“', 'Why', 'even', 'mention', 'it', '?', '”', 'The', 'guidance', ',', 'however', ',', 'could', 'be', 'interpreted', 'differently', 'depending', 'on', 'the', 'level', 'of', 'transmission', 'within', 'specific', 'communities', '.', 'You', 'could', 'be', 'a', 'teacher', 'in', 'a', 'school', 'district', 'where', 'there', \"'s\", 'very', 'little', 'Covid', 'circulating', ',', 'and', 'you', '’', 're', 'really', 'not', 'at', 'risk', 'as', 'a', 'result', 'of', 'your', 'occupation', ',', 'said', 'Glen', 'Nowak', ',', 'co-director', 'of', 'the', 'University', 'of', 'Georgia', '’', 's', 'Center', 'for', 'Health', 'and', 'Risk', 'Communication', '.', 'Conversely', ',', 'he', 'said', ',', 'educators', 'in', 'high-risk', 'areas', 'may', 'fit', 'the', 'requirements', 'for', 'a', 'third', 'dose', '.', 'Your', 'risk', 'situation', 'can', 'change', 'quickly', 'and', 'unpredictably', ',', 'Nowak', 'said', '.', 'On', 'Thursday', 'alone', ',', 'the', 'agency', 'had', 'logged', 'more', 'than', '120,000', 'daily', 'cases', ',', 'nearly', '10,000', 'hospitalizations', 'and', 'almost', '2,000', 'Covid-19-related', 'deaths', '.', 'Download', 'the', 'NBC', 'News', 'app', 'for', 'full', 'coverage', 'of', 'the', 'Covid-19', 'pandemic', 'On', 'Friday', ',', 'Walensky', 'said', 'people', 'should', 'still', 'consider', 'themselves', 'fully', 'vaccinated', 'after', 'getting', 'two', 'doses', 'of', 'a', 'Pfizer', 'or', 'Moderna', 'vaccine', 'or', 'the', 'one-dose', 'Johnson', '&', 'Johnson', 'vaccine', '.', 'Outside', 'experts', 'stressed', 'that', 'fully', 'vaccinated', 'individuals', 'are', 'not', 'at', 'immediate', 'risk', 'of', 'infection', '.', 'Israeli', 'data', 'on', 'the', 'Pfizer', 'shots', 'showed', 'that', 'despite', 'a', 'drop', 'in', 'protection', 'from', 'overall', 'infection', ',', 'the', 'vaccines', 'remained', '93', 'percent', 'effective', 'in', 'preventing', 'severe', 'illness', '.', 'This', 'is', 'not', 'an', 'emergency', ',', 'said', 'Dr.', 'Jesse', 'Goodman', ',', 'infectious', 'disease', 'specialist', 'at', 'Georgetown', 'University', 'Medical', 'Center', 'and', 'former', 'chief', 'scientist', 'with', 'the', 'Food', 'and', 'Drug', 'Administration', '.', 'People', 'who', 'have', 'received', 'both', 'Pfizer', 'doses', 'are', 'still', 'afforded', 'significant', 'protection', '.', 'Indeed', ',', 'it', 'is', 'the', 'unvaccinated', 'population', 'that', 'makes', 'up', 'the', 'vast', 'majority', 'of', 'severely', 'ill', 'Covid', 'patients', 'in', 'hospitals', 'and', 'intensive', 'care', 'units', '.', 'Infections', 'among', 'the', 'unvaccinated', 'continue', 'to', 'fuel', 'this', 'pandemic', 'resulting', 'in', 'rising', 'numbers', 'of', 'cases', ',', 'hospitalizations', 'and', 'deaths', ',', 'Walensky', 'said', 'Friday', '.', 'The', 'administration', \"'s\", 'focus', ',', 'she', 'added', ',', 'will', 'be', 'on', 'getting', 'the', 'vaccine', 'to', 'those', 'who', 'have', 'not', 'received', 'a', 'single', 'shot', '.', 'We', 'will', 'not', 'boost', 'our', 'way', 'out', 'of', 'this', 'pandemic', ',', 'she', 'said', '.', 'As', 'of', 'Friday', ',', 'the', 'CDC', 'reported', 'that', 'just', '55.1', 'percent', 'of', 'the', 'U.S.', 'population', 'had', 'been', 'fully', 'vaccinated', 'against', 'Covid-19', '.', 'Follow', 'NBC', 'HEALTH', 'on', 'Twitter', '&', 'Facebook', '.', 'Erika', 'Edwards', 'is', 'a', 'health', 'and', 'medical', 'news', 'writer', 'and', 'reporter', 'for', 'NBC', 'News', 'and', 'TODAY', '.', '©', '2022', 'NBC', 'UNIVERSAL']\n"
          ]
        }
      ],
      "source": [
        "text3 = news_text1\n",
        "\n",
        "text3_token= nltk.word_tokenize(text3)\n",
        "print(text3_token)"
      ]
    },
    {
      "cell_type": "code",
      "execution_count": 10,
      "metadata": {
        "colab": {
          "base_uri": "https://localhost:8080/"
        },
        "id": "kcDJDIV8o5H7",
        "outputId": "e51805c2-6c87-4c78-dcb8-fe015b3a897f"
      },
      "outputs": [
        {
          "output_type": "stream",
          "name": "stdout",
          "text": [
            "[('Service', 'Science'), ('Science', 'is'), ('is', 'truly'), ('truly', 'an'), ('an', 'interdisciplinary'), ('interdisciplinary', 'field'), ('field', '.'), ('.', 'With'), ('With', 'the'), ('the', 'foundation'), ('foundation', 'of'), ('of', 'systems'), ('systems', 'theory'), ('theory', ','), (',', 'operations'), ('operations', 'research'), ('research', ','), (',', 'management'), ('management', 'science'), ('science', ','), (',', 'marketing'), ('marketing', 'science'), ('science', ','), (',', 'advanced'), ('advanced', 'computing'), ('computing', 'and'), ('and', 'communication'), ('communication', 'technology'), ('technology', ','), (',', 'network'), ('network', 'theory'), ('theory', ','), (',', 'social'), ('social', 'computing'), ('computing', ','), (',', 'and'), ('and', 'analytics'), ('analytics', ','), (',', 'Service'), ('Service', 'Science'), ('Science', 'can'), ('can', 'be'), ('be', 'rigorously'), ('rigorously', 'developed'), ('developed', ','), (',', 'involving'), ('involving', 'descriptive'), ('descriptive', ','), (',', 'predictive'), ('predictive', ','), (',', 'and'), ('and', 'prescriptive'), ('prescriptive', 'research'), ('research', 'of'), ('of', 'a'), ('a', 'service'), ('service', 'spanning'), ('spanning', 'its'), ('its', 'lifecycle')]\n"
          ]
        }
      ],
      "source": [
        "from nltk import ngrams\n",
        "n = 2\n",
        "ngrams = ngrams(text3_token, n)\n",
        "bigrams_list =[gram for gram in ngrams]\n",
        "print(bigrams_list)"
      ]
    },
    {
      "cell_type": "code",
      "execution_count": 45,
      "metadata": {
        "colab": {
          "base_uri": "https://localhost:8080/"
        },
        "id": "w1WH6Lzjtsbf",
        "outputId": "9da144f2-8d57-42aa-ab9d-c04eba2ff8c8"
      },
      "outputs": [
        {
          "output_type": "stream",
          "name": "stdout",
          "text": [
            "('Service', 'Science') 2\n",
            "('Science', 'is') 1\n",
            "('is', 'truly') 1\n",
            "('truly', 'an') 1\n",
            "('an', 'interdisciplinary') 1\n",
            "('interdisciplinary', 'field') 1\n",
            "('field', '.') 1\n",
            "('.', 'With') 1\n",
            "('With', 'the') 1\n",
            "('the', 'foundation') 1\n",
            "('foundation', 'of') 1\n",
            "('of', 'systems') 1\n",
            "('systems', 'theory') 1\n",
            "('theory', ',') 2\n",
            "(',', 'operations') 1\n",
            "('operations', 'research') 1\n",
            "('research', ',') 1\n",
            "(',', 'management') 1\n",
            "('management', 'science') 1\n",
            "('science', ',') 2\n",
            "(',', 'marketing') 1\n",
            "('marketing', 'science') 1\n",
            "(',', 'advanced') 1\n",
            "('advanced', 'computing') 1\n",
            "('computing', 'and') 1\n",
            "('and', 'communication') 1\n",
            "('communication', 'technology') 1\n",
            "('technology', ',') 1\n",
            "(',', 'network') 1\n",
            "('network', 'theory') 1\n",
            "(',', 'social') 1\n",
            "('social', 'computing') 1\n",
            "('computing', ',') 1\n",
            "(',', 'and') 2\n",
            "('and', 'analytics') 1\n",
            "('analytics', ',') 1\n",
            "(',', 'Service') 1\n",
            "('Science', 'can') 1\n",
            "('can', 'be') 1\n",
            "('be', 'rigorously') 1\n",
            "('rigorously', 'developed') 1\n",
            "('developed', ',') 1\n",
            "(',', 'involving') 1\n",
            "('involving', 'descriptive') 1\n",
            "('descriptive', ',') 1\n",
            "(',', 'predictive') 1\n",
            "('predictive', ',') 1\n",
            "('and', 'prescriptive') 1\n",
            "('prescriptive', 'research') 1\n",
            "('research', 'of') 1\n",
            "('of', 'a') 1\n",
            "('a', 'service') 1\n",
            "('service', 'spanning') 1\n",
            "('spanning', 'its') 1\n",
            "('its', 'lifecycle') 1\n"
          ]
        }
      ],
      "source": [
        "#compute frequency distribution for all the ngrams in the text\n",
        "fdist = nltk.FreqDist(bigrams_list)\n",
        "for term,value in fdist.items():\n",
        "    print(term,value)"
      ]
    },
    {
      "cell_type": "markdown",
      "metadata": {
        "id": "efdbM4O2hYMZ"
      },
      "source": [
        "## 4.Tokenization of Sentences\n",
        "\n",
        "疑問:為何不要直接split(\".\")就好?"
      ]
    },
    {
      "cell_type": "code",
      "execution_count": 48,
      "metadata": {
        "colab": {
          "base_uri": "https://localhost:8080/"
        },
        "id": "Zg6cJBQphact",
        "outputId": "d892d90e-8084-4498-a390-18f1965a157f"
      },
      "outputs": [
        {
          "output_type": "execute_result",
          "data": {
            "text/plain": [
              "['Health care workers, teachers and other essential personnel have been among the hardest hit by Covid-19 and should qualify for a vaccine booster shot — despite a lack of robust evidence that they need a third dose to protect them against severe disease, the head of the Centers for Disease Control and Prevention said Friday.',\n",
              " '“In a pandemic, we must often take steps with the intention to do the greatest good, even in an uncertain environment,” Dr. Rochelle Walensky said Friday during a White House Covid-19 task force briefing.',\n",
              " \"Full coverage of the Covid-19 pandemic Walensky cited the disproportionate impact the pandemic has had on racial and ethnic minority communities as a reason she recommended a booster dose for people 18 and older at high risk of Covid because of occupational and institutional exposure against the guidance of the CDC's advisers.\",\n",
              " 'Withholding access for boosters for these people and communities only worsens the inequities that I have committed to fight against, she said.',\n",
              " \"Walensky's decision to allow millions of Americans over the age of 18 the opportunity to get a booster was an unusual move.\",\n",
              " \"She overruled the agency's Advisory Committee on Immunization Practices, which voted to limit boosters to elderly people and older people with underlying health conditions.\",\n",
              " 'For two groups, the CDC was clear: People ages 65 and older and those in long-term care settings and people ages 50 to 64 with underlying medical conditions should get a third shot of Pfizer’s Covid-19 vaccine at least six months after their first two shots.',\n",
              " 'Underlying medical conditions include cancer, diabetes, obesity, pregnancy and kidney disease.',\n",
              " 'The recommendations only apply to those who received the first two doses of Pfizer-BioNTech’s vaccine, the only vaccine booster authorized by the Food and Drug Administration.',\n",
              " 'Booster shot data for those who got the Moderna or Johnson & Johnson shots are forthcoming, the CDC said.']"
            ]
          },
          "metadata": {},
          "execution_count": 48
        }
      ],
      "source": [
        "from nltk import sent_tokenize\n",
        "#sent_tokenize(text2)\n",
        "\n",
        "sent_tokenize(text1)[:10]"
      ]
    },
    {
      "cell_type": "markdown",
      "metadata": {
        "id": "2I7Lrwm20pSz"
      },
      "source": [
        "# Exercise Tokenization and question\n",
        "1. Remove the \"#\" mark within the line that has \"news_text1\" in all previous cells. 完成\n",
        "2. Re-run the code again 完成\n",
        "3. Tokenize the text 完成"
      ]
    },
    {
      "cell_type": "markdown",
      "metadata": {
        "id": "H0k6OrzkywFP"
      },
      "source": [
        "# 5.Stemming vs Lemmatization"
      ]
    },
    {
      "cell_type": "markdown",
      "metadata": {
        "id": "thw5WD5CzInh"
      },
      "source": [
        "## 5.1 Stemming"
      ]
    },
    {
      "cell_type": "code",
      "execution_count": 49,
      "metadata": {
        "colab": {
          "base_uri": "https://localhost:8080/"
        },
        "id": "LJtHfttZUpYE",
        "outputId": "08bd9a28-fbc3-443c-bd84-3dbfade3be4a"
      },
      "outputs": [
        {
          "output_type": "stream",
          "name": "stdout",
          "text": [
            "jump jump jump\n",
            "lie lie\n",
            "strang\n"
          ]
        }
      ],
      "source": [
        "#The Porter stemming algorithm\n",
        "from nltk import PorterStemmer\n",
        "ps = PorterStemmer()\n",
        "print (ps.stem('jumping'), ps.stem('jumps'), ps.stem('jumped'))\n",
        "print (ps.stem('lying'), ps.stem('lies'))\n",
        "print(ps.stem('strange'))"
      ]
    },
    {
      "cell_type": "code",
      "execution_count": 50,
      "metadata": {
        "colab": {
          "base_uri": "https://localhost:8080/"
        },
        "id": "_87hJjaeVhRL",
        "outputId": "ec5bf72b-26bd-4c33-ec4b-3160e6d10e30"
      },
      "outputs": [
        {
          "output_type": "stream",
          "name": "stdout",
          "text": [
            "jump jump jump\n",
            "lying lie\n",
            "strange\n"
          ]
        }
      ],
      "source": [
        "#The Lancaster stemming algorithm\n",
        "from nltk import LancasterStemmer\n",
        "ls = LancasterStemmer()\n",
        "print (ls.stem('jumping'), ls.stem('jumps'), ls.stem('jumped'))\n",
        "print (ls.stem('lying'),ls.stem('lies'))\n",
        "print(ls.stem('strange'))"
      ]
    },
    {
      "cell_type": "code",
      "execution_count": 52,
      "metadata": {
        "colab": {
          "base_uri": "https://localhost:8080/"
        },
        "id": "qppglj_1rcjV",
        "outputId": "4a48a27d-cbef-4657-e04c-3d3a3df5e169"
      },
      "outputs": [
        {
          "output_type": "stream",
          "name": "stdout",
          "text": [
            "['health', 'care', 'worker', ',', 'teacher', 'and', 'other', 'essenti', 'personnel', 'have', 'been', 'among', 'the', 'hardest', 'hit', 'by', 'covid-19', 'and', 'should', 'qualifi', 'for', 'a', 'vaccin', 'booster', 'shot', '—', 'despit', 'a', 'lack', 'of', 'robust', 'evid', 'that', 'they', 'need', 'a', 'third', 'dose', 'to', 'protect', 'them', 'against', 'sever', 'diseas', ',', 'the', 'head', 'of', 'the', 'center', 'for', 'diseas', 'control', 'and', 'prevent', 'said', 'friday', '.', '“', 'In', 'a', 'pandem', ',', 'we', 'must', 'often', 'take', 'step', 'with', 'the', 'intent', 'to', 'do', 'the', 'greatest', 'good', ',', 'even', 'in', 'an', 'uncertain', 'environ', ',', '”', 'dr.', 'rochel', 'walenski', 'said', 'friday', 'dure', 'a', 'white', 'hous', 'covid-19', 'task', 'forc', 'brief', '.', 'full', 'coverag', 'of', 'the', 'covid-19', 'pandem', 'walenski', 'cite', 'the', 'disproportion', 'impact', 'the', 'pandem', 'ha', 'had', 'on', 'racial', 'and', 'ethnic', 'minor', 'commun', 'as', 'a', 'reason', 'she', 'recommend', 'a', 'booster', 'dose', 'for', 'peopl', '18', 'and', 'older', 'at', 'high', 'risk', 'of', 'covid', 'becaus', 'of', 'occup', 'and', 'institut', 'exposur', 'against', 'the', 'guidanc', 'of', 'the', 'cdc', \"'s\", 'advis', '.', 'withhold', 'access', 'for', 'booster', 'for', 'these', 'peopl', 'and', 'commun', 'onli', 'worsen', 'the', 'inequ', 'that', 'I', 'have', 'commit', 'to', 'fight', 'against', ',', 'she', 'said', '.', 'walenski', \"'s\", 'decis', 'to', 'allow', 'million', 'of', 'american', 'over', 'the', 'age', 'of', '18', 'the', 'opportun', 'to', 'get', 'a', 'booster', 'wa', 'an', 'unusu', 'move', '.', 'she', 'overrul', 'the', 'agenc', \"'s\", 'advisori', 'committe', 'on', 'immun', 'practic', ',', 'which', 'vote', 'to', 'limit', 'booster', 'to', 'elderli', 'peopl', 'and', 'older', 'peopl', 'with', 'underli', 'health', 'condit', '.', 'for', 'two', 'group', ',', 'the', 'cdc', 'wa', 'clear', ':', 'peopl', 'age', '65', 'and', 'older', 'and', 'those', 'in', 'long-term', 'care', 'set', 'and', 'peopl', 'age', '50', 'to', '64', 'with', 'underli', 'medic', 'condit', 'should', 'get', 'a', 'third', 'shot', 'of', 'pfizer', '’', 's', 'covid-19', 'vaccin', 'at', 'least', 'six', 'month', 'after', 'their', 'first', 'two', 'shot', '.', 'underli', 'medic', 'condit', 'includ', 'cancer', ',', 'diabet', ',', 'obes', ',', 'pregnanc', 'and', 'kidney', 'diseas', '.', 'the', 'recommend', 'onli', 'appli', 'to', 'those', 'who', 'receiv', 'the', 'first', 'two', 'dose', 'of', 'pfizer-biontech', '’', 's', 'vaccin', ',', 'the', 'onli', 'vaccin', 'booster', 'author', 'by', 'the', 'food', 'and', 'drug', 'administr', '.', 'booster', 'shot', 'data', 'for', 'those', 'who', 'got', 'the', 'moderna', 'or', 'johnson', '&', 'johnson', 'shot', 'are', 'forthcom', ',', 'the', 'cdc', 'said', '.', 'the', 'guidanc', 'from', 'the', 'fda', 'and', 'cdc', 'come', 'after', 'data', 'from', 'pfizer', 'found', 'it', 'vaccin', '’', 's', 'immun', 'start', 'to', 'declin', 'after', 'six', 'month', '.', 'evid', 'ha', 'been', 'strongest', 'for', 'a', 'booster', 'dose', 'in', 'peopl', 'age', '65', 'and', 'older', '.', 'there', 'is', 'littl', 'data', 'about', 'the', 'risk', 'of', 'sever', 'ill', 'for', 'younger', 'peopl', 'who', 'are', 'fulli', 'vaccin', 'and', 'even', 'less', 'evid', 'show', 'the', 'safeti', 'of', 'a', 'third', 'dose', '.', 'thi', 'wa', 'the', 'stick', 'point', 'for', 'mani', 'expert', 'dure', 'the', 'cdc', 'advisori', 'panel', \"'s\", 'meet', '.', '“', 'what', 'worri', 'them', 'wa', 'the', 'younger', 'age', 'limit', 'and', 'the', 'potenti', 'to', 'do', 'more', 'harm', 'than', 'good', ',', '”', 'said', 'dr.', 'paul', 'offit', ',', 'director', 'of', 'the', 'vaccin', 'educ', 'center', 'at', 'children', '’', 's', 'hospit', 'of', 'philadelphia', ',', 'about', 'the', 'cdc', 'group', '’', 's', 'recommend', '.', 'research', 'had', 'previous', 'report', 'a', 'higher-than-usu', 'number', 'of', 'case', 'of', 'a', 'type', 'of', 'heart', 'inflamm', 'call', 'myocard', 'among', 'young', 'peopl', 'follow', 'their', 'second', 'dose', 'of', 'an', 'mrna', 'vaccin', '.', 'thi', 'may', 'be', 'whi', 'there', 'were', 'gray', 'area', 'in', 'other', 'cdc', 'booster', 'shot', 'guidanc', '.', 'the', 'agenc', 'did', 'not', 'provid', 'a', 'strong', 'recommend', 'for', 'two', 'other', 'major', 'group', '.', 'adult', 'under', 'age', '50', 'with', 'underli', 'condit', 'as', 'well', 'as', 'adult', 'under', 'age', '65', 'whose', 'job', 'could', 'put', 'them', 'at', 'risk', 'for', 'covid-19', 'exposur', 'may', 'get', 'the', 'booster', 'if', 'they', 'want', 'it', '.', 'those', 'occup', 'includ', 'area', 'where', 'peopl', 'from', 'a', 'varieti', 'of', 'background', 'congreg', ':', 'school', ',', 'health', 'care', 'set', ',', 'jail', 'and', 'homeless', 'shelter', '.', 'the', 'differ', 'in', 'languag', '—', '“', 'should', '”', 'vs.', '“', 'may', '”', '—', 'ha', 'frustrat', 'some', 'physician', 'who', 'are', 'now', 'face', 'with', 'interpret', 'what', 'to', 'do', 'with', 'the', 'cdc', 'guidanc', '.', '“', 'the', 'problem', 'is', ',', 'I', 'don', '’', 't', 'know', 'how', 'to', 'implement', 'a', '‘', 'may', '’', 'recommend', ',', '”', 'said', 'dr.', 'hugh', 'cassier', ',', 'director', 'of', 'critic', 'care', 'servic', 'for', 'sandra', 'atla', 'bass', 'heart', 'hospit', 'at', 'north', 'shore', 'univers', 'hospit', ',', 'part', 'of', 'northwel', 'health', ',', 'on', 'long', 'island', ',', 'new', 'york', '.', '“', 'the', 'reason', 'whi', 'they', 'said', '‘', 'may', '’', 'is', 'becaus', 'the', 'data', 'are', 'weak', ',', '”', 'he', 'said', '.', '“', 'whi', 'even', 'mention', 'it', '?', '”', 'the', 'guidanc', ',', 'howev', ',', 'could', 'be', 'interpret', 'differ', 'depend', 'on', 'the', 'level', 'of', 'transmiss', 'within', 'specif', 'commun', '.', 'you', 'could', 'be', 'a', 'teacher', 'in', 'a', 'school', 'district', 'where', 'there', \"'s\", 'veri', 'littl', 'covid', 'circul', ',', 'and', 'you', '’', 're', 'realli', 'not', 'at', 'risk', 'as', 'a', 'result', 'of', 'your', 'occup', ',', 'said', 'glen', 'nowak', ',', 'co-director', 'of', 'the', 'univers', 'of', 'georgia', '’', 's', 'center', 'for', 'health', 'and', 'risk', 'commun', '.', 'convers', ',', 'he', 'said', ',', 'educ', 'in', 'high-risk', 'area', 'may', 'fit', 'the', 'requir', 'for', 'a', 'third', 'dose', '.', 'your', 'risk', 'situat', 'can', 'chang', 'quickli', 'and', 'unpredict', ',', 'nowak', 'said', '.', 'On', 'thursday', 'alon', ',', 'the', 'agenc', 'had', 'log', 'more', 'than', '120,000', 'daili', 'case', ',', 'nearli', '10,000', 'hospit', 'and', 'almost', '2,000', 'covid-19-rel', 'death', '.', 'download', 'the', 'nbc', 'new', 'app', 'for', 'full', 'coverag', 'of', 'the', 'covid-19', 'pandem', 'On', 'friday', ',', 'walenski', 'said', 'peopl', 'should', 'still', 'consid', 'themselv', 'fulli', 'vaccin', 'after', 'get', 'two', 'dose', 'of', 'a', 'pfizer', 'or', 'moderna', 'vaccin', 'or', 'the', 'one-dos', 'johnson', '&', 'johnson', 'vaccin', '.', 'outsid', 'expert', 'stress', 'that', 'fulli', 'vaccin', 'individu', 'are', 'not', 'at', 'immedi', 'risk', 'of', 'infect', '.', 'isra', 'data', 'on', 'the', 'pfizer', 'shot', 'show', 'that', 'despit', 'a', 'drop', 'in', 'protect', 'from', 'overal', 'infect', ',', 'the', 'vaccin', 'remain', '93', 'percent', 'effect', 'in', 'prevent', 'sever', 'ill', '.', 'thi', 'is', 'not', 'an', 'emerg', ',', 'said', 'dr.', 'jess', 'goodman', ',', 'infecti', 'diseas', 'specialist', 'at', 'georgetown', 'univers', 'medic', 'center', 'and', 'former', 'chief', 'scientist', 'with', 'the', 'food', 'and', 'drug', 'administr', '.', 'peopl', 'who', 'have', 'receiv', 'both', 'pfizer', 'dose', 'are', 'still', 'afford', 'signific', 'protect', '.', 'inde', ',', 'it', 'is', 'the', 'unvaccin', 'popul', 'that', 'make', 'up', 'the', 'vast', 'major', 'of', 'sever', 'ill', 'covid', 'patient', 'in', 'hospit', 'and', 'intens', 'care', 'unit', '.', 'infect', 'among', 'the', 'unvaccin', 'continu', 'to', 'fuel', 'thi', 'pandem', 'result', 'in', 'rise', 'number', 'of', 'case', ',', 'hospit', 'and', 'death', ',', 'walenski', 'said', 'friday', '.', 'the', 'administr', \"'s\", 'focu', ',', 'she', 'ad', ',', 'will', 'be', 'on', 'get', 'the', 'vaccin', 'to', 'those', 'who', 'have', 'not', 'receiv', 'a', 'singl', 'shot', '.', 'We', 'will', 'not', 'boost', 'our', 'way', 'out', 'of', 'thi', 'pandem', ',', 'she', 'said', '.', 'As', 'of', 'friday', ',', 'the', 'cdc', 'report', 'that', 'just', '55.1', 'percent', 'of', 'the', 'u.s.', 'popul', 'had', 'been', 'fulli', 'vaccin', 'against', 'covid-19', '.', 'follow', 'nbc', 'health', 'on', 'twitter', '&', 'facebook', '.', 'erika', 'edward', 'is', 'a', 'health', 'and', 'medic', 'news', 'writer', 'and', 'report', 'for', 'nbc', 'new', 'and', 'today', '.', '©', '2022', 'nbc', 'univers']\n"
          ]
        }
      ],
      "source": [
        "#stemming an tokenize word list\n",
        "#token_psstem = [ps.stem(word) for word in text2_tokens]\n",
        "token_psstem = [ps.stem(word) for word in text1_tokens]\n",
        "\n",
        "print(token_psstem)"
      ]
    },
    {
      "cell_type": "code",
      "execution_count": 53,
      "metadata": {
        "colab": {
          "base_uri": "https://localhost:8080/"
        },
        "id": "clwVV48klfa5",
        "outputId": "6cdfc4dc-8f63-4727-dc98-b73df26bb573"
      },
      "outputs": [
        {
          "output_type": "stream",
          "name": "stdout",
          "text": [
            "['heal', 'car', 'work', ',', 'teach', 'and', 'oth', 'ess', 'personnel', 'hav', 'been', 'among', 'the', 'hardest', 'hit', 'by', 'covid-19', 'and', 'should', 'qual', 'for', 'a', 'vaccin', 'boost', 'shot', '—', 'despit', 'a', 'lack', 'of', 'robust', 'evid', 'that', 'they', 'nee', 'a', 'third', 'dos', 'to', 'protect', 'them', 'against', 'sev', 'diseas', ',', 'the', 'head', 'of', 'the', 'cent', 'for', 'diseas', 'control', 'and', 'prev', 'said', 'friday', '.', '“', 'in', 'a', 'pandem', ',', 'we', 'must', 'oft', 'tak', 'step', 'with', 'the', 'int', 'to', 'do', 'the', 'greatest', 'good', ',', 'ev', 'in', 'an', 'uncertain', 'environ', ',', '”', 'dr.', 'rochel', 'walensky', 'said', 'friday', 'dur', 'a', 'whit', 'hous', 'covid-19', 'task', 'forc', 'brief', '.', 'ful', 'cov', 'of', 'the', 'covid-19', 'pandem', 'walensky', 'cit', 'the', 'disproport', 'impact', 'the', 'pandem', 'has', 'had', 'on', 'rac', 'and', 'ethn', 'min', 'commun', 'as', 'a', 'reason', 'she', 'recommend', 'a', 'boost', 'dos', 'for', 'peopl', '18', 'and', 'old', 'at', 'high', 'risk', 'of', 'covid', 'becaus', 'of', 'occup', 'and', 'institut', 'expos', 'against', 'the', 'guid', 'of', 'the', 'cdc', \"'s\", 'adv', '.', 'withhold', 'access', 'for', 'boost', 'for', 'thes', 'peopl', 'and', 'commun', 'on', 'wors', 'the', 'inequ', 'that', 'i', 'hav', 'commit', 'to', 'fight', 'against', ',', 'she', 'said', '.', 'walensky', \"'s\", 'decid', 'to', 'allow', 'mil', 'of', 'am', 'ov', 'the', 'ag', 'of', '18', 'the', 'opportun', 'to', 'get', 'a', 'boost', 'was', 'an', 'unus', 'mov', '.', 'she', 'overr', 'the', 'ag', \"'s\", 'adv', 'commit', 'on', 'immun', 'pract', ',', 'which', 'vot', 'to', 'limit', 'boost', 'to', 'eld', 'peopl', 'and', 'old', 'peopl', 'with', 'und', 'heal', 'condit', '.', 'for', 'two', 'group', ',', 'the', 'cdc', 'was', 'clear', ':', 'peopl', 'ag', '65', 'and', 'old', 'and', 'thos', 'in', 'long-term', 'car', 'set', 'and', 'peopl', 'ag', '50', 'to', '64', 'with', 'und', 'med', 'condit', 'should', 'get', 'a', 'third', 'shot', 'of', 'pfiz', '’', 's', 'covid-19', 'vaccin', 'at', 'least', 'six', 'month', 'aft', 'their', 'first', 'two', 'shot', '.', 'und', 'med', 'condit', 'includ', 'cant', ',', 'diabet', ',', 'obes', ',', 'pregn', 'and', 'kidney', 'diseas', '.', 'the', 'recommend', 'on', 'apply', 'to', 'thos', 'who', 'receiv', 'the', 'first', 'two', 'dos', 'of', 'pfizer-biontech', '’', 's', 'vaccin', ',', 'the', 'on', 'vaccin', 'boost', 'auth', 'by', 'the', 'food', 'and', 'drug', 'admin', '.', 'boost', 'shot', 'dat', 'for', 'thos', 'who', 'got', 'the', 'modern', 'or', 'johnson', '&', 'johnson', 'shot', 'ar', 'forthcom', ',', 'the', 'cdc', 'said', '.', 'the', 'guid', 'from', 'the', 'fda', 'and', 'cdc', 'com', 'aft', 'dat', 'from', 'pfiz', 'found', 'it', 'vaccin', '’', 's', 'immun', 'start', 'to', 'declin', 'aft', 'six', 'month', '.', 'evid', 'has', 'been', 'strongest', 'for', 'a', 'boost', 'dos', 'in', 'peopl', 'ag', '65', 'and', 'old', '.', 'ther', 'is', 'littl', 'dat', 'about', 'the', 'risk', 'of', 'sev', 'il', 'for', 'young', 'peopl', 'who', 'ar', 'ful', 'vaccin', 'and', 'ev', 'less', 'evid', 'show', 'the', 'saf', 'of', 'a', 'third', 'dos', '.', 'thi', 'was', 'the', 'stick', 'point', 'for', 'many', 'expert', 'dur', 'the', 'cdc', 'adv', 'panel', \"'s\", 'meet', '.', '“', 'what', 'worry', 'them', 'was', 'the', 'young', 'ag', 'limit', 'and', 'the', 'pot', 'to', 'do', 'mor', 'harm', 'than', 'good', ',', '”', 'said', 'dr.', 'paul', 'offit', ',', 'direct', 'of', 'the', 'vaccin', 'educ', 'cent', 'at', 'childr', '’', 's', 'hospit', 'of', 'philadelph', ',', 'about', 'the', 'cdc', 'group', '’', 's', 'recommend', '.', 'research', 'had', 'prevy', 'report', 'a', 'higher-than-usual', 'numb', 'of', 'cas', 'of', 'a', 'typ', 'of', 'heart', 'inflam', 'cal', 'myocardit', 'among', 'young', 'peopl', 'follow', 'their', 'second', 'dos', 'of', 'an', 'mrna', 'vaccin', '.', 'thi', 'may', 'be', 'why', 'ther', 'wer', 'gray', 'area', 'in', 'oth', 'cdc', 'boost', 'shot', 'guid', '.', 'the', 'ag', 'did', 'not', 'provid', 'a', 'strong', 'recommend', 'for', 'two', 'oth', 'maj', 'group', '.', 'adult', 'und', 'ag', '50', 'with', 'und', 'condit', 'as', 'wel', 'as', 'adult', 'und', 'ag', '65', 'whos', 'job', 'could', 'put', 'them', 'at', 'risk', 'for', 'covid-19', 'expos', 'may', 'get', 'the', 'boost', 'if', 'they', 'want', 'it', '.', 'thos', 'occup', 'includ', 'area', 'wher', 'peopl', 'from', 'a', 'vary', 'of', 'background', 'congreg', ':', 'schools', ',', 'heal', 'car', 'set', ',', 'jail', 'and', 'homeless', 'shelt', '.', 'the', 'diff', 'in', 'langu', '—', '“', 'should', '”', 'vs.', '“', 'may', '”', '—', 'has', 'frust', 'som', 'phys', 'who', 'ar', 'now', 'fac', 'with', 'interpret', 'what', 'to', 'do', 'with', 'the', 'cdc', 'guid', '.', '“', 'the', 'problem', 'is', ',', 'i', 'don', '’', 't', 'know', 'how', 'to', 'impl', 'a', '‘', 'may', '’', 'recommend', ',', '”', 'said', 'dr.', 'hugh', 'cassy', ',', 'direct', 'of', 'crit', 'car', 'serv', 'for', 'sandr', 'atla', 'bass', 'heart', 'hospit', 'at', 'nor', 'shor', 'univers', 'hospit', ',', 'part', 'of', 'northwel', 'heal', ',', 'on', 'long', 'island', ',', 'new', 'york', '.', '“', 'the', 'reason', 'why', 'they', 'said', '‘', 'may', '’', 'is', 'becaus', 'the', 'dat', 'ar', 'weak', ',', '”', 'he', 'said', '.', '“', 'why', 'ev', 'ment', 'it', '?', '”', 'the', 'guid', ',', 'howev', ',', 'could', 'be', 'interpret', 'diff', 'depend', 'on', 'the', 'level', 'of', 'transmit', 'within', 'spec', 'commun', '.', 'you', 'could', 'be', 'a', 'teach', 'in', 'a', 'school', 'district', 'wher', 'ther', \"'s\", 'very', 'littl', 'covid', 'circ', ',', 'and', 'you', '’', 're', 'real', 'not', 'at', 'risk', 'as', 'a', 'result', 'of', 'yo', 'occup', ',', 'said', 'glen', 'nowak', ',', 'co-director', 'of', 'the', 'univers', 'of', 'georg', '’', 's', 'cent', 'for', 'heal', 'and', 'risk', 'commun', '.', 'convers', ',', 'he', 'said', ',', 'educ', 'in', 'high-risk', 'area', 'may', 'fit', 'the', 'requir', 'for', 'a', 'third', 'dos', '.', 'yo', 'risk', 'situ', 'can', 'chang', 'quick', 'and', 'unpredict', ',', 'nowak', 'said', '.', 'on', 'thursday', 'alon', ',', 'the', 'ag', 'had', 'log', 'mor', 'than', '120,000', 'dai', 'cas', ',', 'near', '10,000', 'hospit', 'and', 'almost', '2,000', 'covid-19-relat', 'death', '.', 'download', 'the', 'nbc', 'new', 'ap', 'for', 'ful', 'cov', 'of', 'the', 'covid-19', 'pandem', 'on', 'friday', ',', 'walensky', 'said', 'peopl', 'should', 'stil', 'consid', 'themselv', 'ful', 'vaccin', 'aft', 'get', 'two', 'dos', 'of', 'a', 'pfiz', 'or', 'modern', 'vaccin', 'or', 'the', 'one-dos', 'johnson', '&', 'johnson', 'vaccin', '.', 'outsid', 'expert', 'stressed', 'that', 'ful', 'vaccin', 'individ', 'ar', 'not', 'at', 'immedy', 'risk', 'of', 'infect', '.', 'israel', 'dat', 'on', 'the', 'pfiz', 'shot', 'show', 'that', 'despit', 'a', 'drop', 'in', 'protect', 'from', 'overal', 'infect', ',', 'the', 'vaccin', 'remain', '93', 'perc', 'effect', 'in', 'prev', 'sev', 'il', '.', 'thi', 'is', 'not', 'an', 'emerg', ',', 'said', 'dr.', 'jess', 'goodm', ',', 'infecty', 'diseas', 'spec', 'at', 'georgetown', 'univers', 'med', 'cent', 'and', 'form', 'chief', 'sci', 'with', 'the', 'food', 'and', 'drug', 'admin', '.', 'peopl', 'who', 'hav', 'receiv', 'both', 'pfiz', 'dos', 'ar', 'stil', 'afford', 'sign', 'protect', '.', 'indee', ',', 'it', 'is', 'the', 'unvaccin', 'pop', 'that', 'mak', 'up', 'the', 'vast', 'maj', 'of', 'sev', 'il', 'covid', 'paty', 'in', 'hospit', 'and', 'intend', 'car', 'unit', '.', 'infect', 'among', 'the', 'unvaccin', 'continu', 'to', 'fuel', 'thi', 'pandem', 'result', 'in', 'ris', 'numb', 'of', 'cas', ',', 'hospit', 'and', 'death', ',', 'walensky', 'said', 'friday', '.', 'the', 'admin', \"'s\", 'foc', ',', 'she', 'ad', ',', 'wil', 'be', 'on', 'get', 'the', 'vaccin', 'to', 'thos', 'who', 'hav', 'not', 'receiv', 'a', 'singl', 'shot', '.', 'we', 'wil', 'not', 'boost', 'our', 'way', 'out', 'of', 'thi', 'pandem', ',', 'she', 'said', '.', 'as', 'of', 'friday', ',', 'the', 'cdc', 'report', 'that', 'just', '55.1', 'perc', 'of', 'the', 'u.s.', 'pop', 'had', 'been', 'ful', 'vaccin', 'against', 'covid-19', '.', 'follow', 'nbc', 'heal', 'on', 'twit', '&', 'facebook', '.', 'erik', 'edward', 'is', 'a', 'heal', 'and', 'med', 'new', 'writ', 'and', 'report', 'for', 'nbc', 'new', 'and', 'today', '.', '©', '2022', 'nbc', 'univers']\n"
          ]
        }
      ],
      "source": [
        "#stemming an tokenize word list\n",
        "#token_lsstem = [ls.stem(word) for word in text2_tokens]\n",
        "token_lsstem = [ls.stem(word) for word in text1_tokens]\n",
        "\n",
        "print(token_lsstem)"
      ]
    },
    {
      "cell_type": "markdown",
      "metadata": {
        "id": "h9vu2fVYm9xo"
      },
      "source": [
        "## 5.2.Lemmatization"
      ]
    },
    {
      "cell_type": "code",
      "execution_count": 54,
      "metadata": {
        "colab": {
          "base_uri": "https://localhost:8080/"
        },
        "id": "iVcw5b5Sm7Lr",
        "outputId": "a373e6ce-6c7a-42c1-da99-2bff765069a2"
      },
      "outputs": [
        {
          "output_type": "stream",
          "name": "stdout",
          "text": [
            "[nltk_data] Downloading package wordnet to /root/nltk_data...\n",
            "[nltk_data]   Package wordnet is already up-to-date!\n",
            "lie\n",
            "lying\n",
            "lying\n",
            "sad\n",
            "wa\n",
            "be\n"
          ]
        }
      ],
      "source": [
        "nltk.download('wordnet')\n",
        "from nltk.stem import WordNetLemmatizer\n",
        "wnl = WordNetLemmatizer()\n",
        "# lemmatize verb/nouns\n",
        "print (wnl.lemmatize('lying', \"v\"))\n",
        "print (wnl.lemmatize('lying', \"n\"))\n",
        "print (wnl.lemmatize('lying')) # with out Part of Speed (POS), noun is default\n",
        "print (wnl.lemmatize('saddest', 'a'))\n",
        "print (wnl.lemmatize('was'))\n",
        "print (wnl.lemmatize('was', 'v'))"
      ]
    },
    {
      "cell_type": "code",
      "execution_count": 56,
      "metadata": {
        "colab": {
          "base_uri": "https://localhost:8080/"
        },
        "id": "bQzqR3j4msEh",
        "outputId": "ce58fc04-ba41-4850-bc50-288a2965cbca"
      },
      "outputs": [
        {
          "output_type": "stream",
          "name": "stdout",
          "text": [
            "['Health', 'care', 'worker', ',', 'teacher', 'and', 'other', 'essential', 'personnel', 'have', 'been', 'among', 'the', 'hardest', 'hit', 'by', 'Covid-19', 'and', 'should', 'qualify', 'for', 'a', 'vaccine', 'booster', 'shot', '—', 'despite', 'a', 'lack', 'of', 'robust', 'evidence', 'that', 'they', 'need', 'a', 'third', 'dose', 'to', 'protect', 'them', 'against', 'severe', 'disease', ',', 'the', 'head', 'of', 'the', 'Centers', 'for', 'Disease', 'Control', 'and', 'Prevention', 'said', 'Friday', '.', '“', 'In', 'a', 'pandemic', ',', 'we', 'must', 'often', 'take', 'step', 'with', 'the', 'intention', 'to', 'do', 'the', 'greatest', 'good', ',', 'even', 'in', 'an', 'uncertain', 'environment', ',', '”', 'Dr.', 'Rochelle', 'Walensky', 'said', 'Friday', 'during', 'a', 'White', 'House', 'Covid-19', 'task', 'force', 'briefing', '.', 'Full', 'coverage', 'of', 'the', 'Covid-19', 'pandemic', 'Walensky', 'cited', 'the', 'disproportionate', 'impact', 'the', 'pandemic', 'ha', 'had', 'on', 'racial', 'and', 'ethnic', 'minority', 'community', 'a', 'a', 'reason', 'she', 'recommended', 'a', 'booster', 'dose', 'for', 'people', '18', 'and', 'older', 'at', 'high', 'risk', 'of', 'Covid', 'because', 'of', 'occupational', 'and', 'institutional', 'exposure', 'against', 'the', 'guidance', 'of', 'the', 'CDC', \"'s\", 'adviser', '.', 'Withholding', 'access', 'for', 'booster', 'for', 'these', 'people', 'and', 'community', 'only', 'worsens', 'the', 'inequity', 'that', 'I', 'have', 'committed', 'to', 'fight', 'against', ',', 'she', 'said', '.', 'Walensky', \"'s\", 'decision', 'to', 'allow', 'million', 'of', 'Americans', 'over', 'the', 'age', 'of', '18', 'the', 'opportunity', 'to', 'get', 'a', 'booster', 'wa', 'an', 'unusual', 'move', '.', 'She', 'overruled', 'the', 'agency', \"'s\", 'Advisory', 'Committee', 'on', 'Immunization', 'Practices', ',', 'which', 'voted', 'to', 'limit', 'booster', 'to', 'elderly', 'people', 'and', 'older', 'people', 'with', 'underlying', 'health', 'condition', '.', 'For', 'two', 'group', ',', 'the', 'CDC', 'wa', 'clear', ':', 'People', 'age', '65', 'and', 'older', 'and', 'those', 'in', 'long-term', 'care', 'setting', 'and', 'people', 'age', '50', 'to', '64', 'with', 'underlying', 'medical', 'condition', 'should', 'get', 'a', 'third', 'shot', 'of', 'Pfizer', '’', 's', 'Covid-19', 'vaccine', 'at', 'least', 'six', 'month', 'after', 'their', 'first', 'two', 'shot', '.', 'Underlying', 'medical', 'condition', 'include', 'cancer', ',', 'diabetes', ',', 'obesity', ',', 'pregnancy', 'and', 'kidney', 'disease', '.', 'The', 'recommendation', 'only', 'apply', 'to', 'those', 'who', 'received', 'the', 'first', 'two', 'dos', 'of', 'Pfizer-BioNTech', '’', 's', 'vaccine', ',', 'the', 'only', 'vaccine', 'booster', 'authorized', 'by', 'the', 'Food', 'and', 'Drug', 'Administration', '.', 'Booster', 'shot', 'data', 'for', 'those', 'who', 'got', 'the', 'Moderna', 'or', 'Johnson', '&', 'Johnson', 'shot', 'are', 'forthcoming', ',', 'the', 'CDC', 'said', '.', 'The', 'guidance', 'from', 'the', 'FDA', 'and', 'CDC', 'come', 'after', 'data', 'from', 'Pfizer', 'found', 'it', 'vaccine', '’', 's', 'immunity', 'started', 'to', 'decline', 'after', 'six', 'month', '.', 'Evidence', 'ha', 'been', 'strongest', 'for', 'a', 'booster', 'dose', 'in', 'people', 'age', '65', 'and', 'older', '.', 'There', 'is', 'little', 'data', 'about', 'the', 'risk', 'of', 'severe', 'illness', 'for', 'younger', 'people', 'who', 'are', 'fully', 'vaccinated', 'and', 'even', 'le', 'evidence', 'showing', 'the', 'safety', 'of', 'a', 'third', 'dose', '.', 'This', 'wa', 'the', 'sticking', 'point', 'for', 'many', 'expert', 'during', 'the', 'CDC', 'advisory', 'panel', \"'s\", 'meeting', '.', '“', 'What', 'worried', 'them', 'wa', 'the', 'younger', 'age', 'limit', 'and', 'the', 'potential', 'to', 'do', 'more', 'harm', 'than', 'good', ',', '”', 'said', 'Dr.', 'Paul', 'Offit', ',', 'director', 'of', 'the', 'Vaccine', 'Education', 'Center', 'at', 'Children', '’', 's', 'Hospital', 'of', 'Philadelphia', ',', 'about', 'the', 'CDC', 'group', '’', 's', 'recommendation', '.', 'Researchers', 'had', 'previously', 'reported', 'a', 'higher-than-usual', 'number', 'of', 'case', 'of', 'a', 'type', 'of', 'heart', 'inflammation', 'called', 'myocarditis', 'among', 'young', 'people', 'following', 'their', 'second', 'dose', 'of', 'an', 'mRNA', 'vaccine', '.', 'This', 'may', 'be', 'why', 'there', 'were', 'gray', 'area', 'in', 'other', 'CDC', 'booster', 'shot', 'guidance', '.', 'The', 'agency', 'did', 'not', 'provide', 'a', 'strong', 'recommendation', 'for', 'two', 'other', 'major', 'group', '.', 'Adults', 'under', 'age', '50', 'with', 'underlying', 'condition', 'a', 'well', 'a', 'adult', 'under', 'age', '65', 'whose', 'job', 'could', 'put', 'them', 'at', 'risk', 'for', 'Covid-19', 'exposure', 'may', 'get', 'the', 'booster', 'if', 'they', 'want', 'it', '.', 'Those', 'occupation', 'include', 'area', 'where', 'people', 'from', 'a', 'variety', 'of', 'background', 'congregate', ':', 'school', ',', 'health', 'care', 'setting', ',', 'jail', 'and', 'homeless', 'shelter', '.', 'The', 'difference', 'in', 'language', '—', '“', 'should', '”', 'vs.', '“', 'may', '”', '—', 'ha', 'frustrated', 'some', 'physician', 'who', 'are', 'now', 'faced', 'with', 'interpreting', 'what', 'to', 'do', 'with', 'the', 'CDC', 'guidance', '.', '“', 'The', 'problem', 'is', ',', 'I', 'don', '’', 't', 'know', 'how', 'to', 'implement', 'a', '‘', 'may', '’', 'recommendation', ',', '”', 'said', 'Dr.', 'Hugh', 'Cassiere', ',', 'director', 'of', 'critical', 'care', 'service', 'for', 'Sandra', 'Atlas', 'Bass', 'Heart', 'Hospital', 'at', 'North', 'Shore', 'University', 'Hospital', ',', 'part', 'of', 'Northwell', 'Health', ',', 'on', 'Long', 'Island', ',', 'New', 'York', '.', '“', 'The', 'reason', 'why', 'they', 'said', '‘', 'may', '’', 'is', 'because', 'the', 'data', 'are', 'weak', ',', '”', 'he', 'said', '.', '“', 'Why', 'even', 'mention', 'it', '?', '”', 'The', 'guidance', ',', 'however', ',', 'could', 'be', 'interpreted', 'differently', 'depending', 'on', 'the', 'level', 'of', 'transmission', 'within', 'specific', 'community', '.', 'You', 'could', 'be', 'a', 'teacher', 'in', 'a', 'school', 'district', 'where', 'there', \"'s\", 'very', 'little', 'Covid', 'circulating', ',', 'and', 'you', '’', 're', 'really', 'not', 'at', 'risk', 'a', 'a', 'result', 'of', 'your', 'occupation', ',', 'said', 'Glen', 'Nowak', ',', 'co-director', 'of', 'the', 'University', 'of', 'Georgia', '’', 's', 'Center', 'for', 'Health', 'and', 'Risk', 'Communication', '.', 'Conversely', ',', 'he', 'said', ',', 'educator', 'in', 'high-risk', 'area', 'may', 'fit', 'the', 'requirement', 'for', 'a', 'third', 'dose', '.', 'Your', 'risk', 'situation', 'can', 'change', 'quickly', 'and', 'unpredictably', ',', 'Nowak', 'said', '.', 'On', 'Thursday', 'alone', ',', 'the', 'agency', 'had', 'logged', 'more', 'than', '120,000', 'daily', 'case', ',', 'nearly', '10,000', 'hospitalization', 'and', 'almost', '2,000', 'Covid-19-related', 'death', '.', 'Download', 'the', 'NBC', 'News', 'app', 'for', 'full', 'coverage', 'of', 'the', 'Covid-19', 'pandemic', 'On', 'Friday', ',', 'Walensky', 'said', 'people', 'should', 'still', 'consider', 'themselves', 'fully', 'vaccinated', 'after', 'getting', 'two', 'dos', 'of', 'a', 'Pfizer', 'or', 'Moderna', 'vaccine', 'or', 'the', 'one-dose', 'Johnson', '&', 'Johnson', 'vaccine', '.', 'Outside', 'expert', 'stressed', 'that', 'fully', 'vaccinated', 'individual', 'are', 'not', 'at', 'immediate', 'risk', 'of', 'infection', '.', 'Israeli', 'data', 'on', 'the', 'Pfizer', 'shot', 'showed', 'that', 'despite', 'a', 'drop', 'in', 'protection', 'from', 'overall', 'infection', ',', 'the', 'vaccine', 'remained', '93', 'percent', 'effective', 'in', 'preventing', 'severe', 'illness', '.', 'This', 'is', 'not', 'an', 'emergency', ',', 'said', 'Dr.', 'Jesse', 'Goodman', ',', 'infectious', 'disease', 'specialist', 'at', 'Georgetown', 'University', 'Medical', 'Center', 'and', 'former', 'chief', 'scientist', 'with', 'the', 'Food', 'and', 'Drug', 'Administration', '.', 'People', 'who', 'have', 'received', 'both', 'Pfizer', 'dos', 'are', 'still', 'afforded', 'significant', 'protection', '.', 'Indeed', ',', 'it', 'is', 'the', 'unvaccinated', 'population', 'that', 'make', 'up', 'the', 'vast', 'majority', 'of', 'severely', 'ill', 'Covid', 'patient', 'in', 'hospital', 'and', 'intensive', 'care', 'unit', '.', 'Infections', 'among', 'the', 'unvaccinated', 'continue', 'to', 'fuel', 'this', 'pandemic', 'resulting', 'in', 'rising', 'number', 'of', 'case', ',', 'hospitalization', 'and', 'death', ',', 'Walensky', 'said', 'Friday', '.', 'The', 'administration', \"'s\", 'focus', ',', 'she', 'added', ',', 'will', 'be', 'on', 'getting', 'the', 'vaccine', 'to', 'those', 'who', 'have', 'not', 'received', 'a', 'single', 'shot', '.', 'We', 'will', 'not', 'boost', 'our', 'way', 'out', 'of', 'this', 'pandemic', ',', 'she', 'said', '.', 'As', 'of', 'Friday', ',', 'the', 'CDC', 'reported', 'that', 'just', '55.1', 'percent', 'of', 'the', 'U.S.', 'population', 'had', 'been', 'fully', 'vaccinated', 'against', 'Covid-19', '.', 'Follow', 'NBC', 'HEALTH', 'on', 'Twitter', '&', 'Facebook', '.', 'Erika', 'Edwards', 'is', 'a', 'health', 'and', 'medical', 'news', 'writer', 'and', 'reporter', 'for', 'NBC', 'News', 'and', 'TODAY', '.', '©', '2022', 'NBC', 'UNIVERSAL']\n"
          ]
        }
      ],
      "source": [
        "#stemming an tokenize word list\n",
        "#token_lem = [wnl.lemmatize(word) for word in text2_tokens]\n",
        "\n",
        "token_lem = [wnl.lemmatize(word) for word in text1_tokens]\n",
        "\n",
        "print(token_lem)"
      ]
    },
    {
      "cell_type": "code",
      "execution_count": 58,
      "metadata": {
        "colab": {
          "base_uri": "https://localhost:8080/"
        },
        "id": "e5JRz5SJnqeV",
        "outputId": "6826c23b-b6ad-4272-cec7-ad08c33ee07f"
      },
      "outputs": [
        {
          "output_type": "stream",
          "name": "stdout",
          "text": [
            "['health', 'care', 'worker', ',', 'teacher', 'and', 'other', 'essential', 'personnel', 'have', 'be', 'among', 'the', 'hardest', 'hit', 'by', 'Covid-19', 'and', 'should', 'qualify', 'for', 'a', 'vaccine', 'booster', 'shot', '—', 'despite', 'a', 'lack', 'of', 'robust', 'evidence', 'that', '-PRON-', 'need', 'a', 'third', 'dose', 'to', 'protect', '-PRON-', 'against', 'severe', 'disease', ',', 'the', 'head', 'of', 'the', 'Centers', 'for', 'Disease', 'Control', 'and', 'Prevention', 'say', 'Friday', '.', '\"', 'in', 'a', 'pandemic', ',', '-PRON-', 'must', 'often', 'take', 'step', 'with', 'the', 'intention', 'to', 'do', 'the', 'great', 'good', ',', 'even', 'in', 'an', 'uncertain', 'environment', ',', '\"', 'Dr.', 'Rochelle', 'Walensky', 'say', 'Friday', 'during', 'a', 'White', 'House', 'Covid-19', 'task', 'force', 'briefing', '.', 'full', 'coverage', 'of', 'the', 'Covid-19', 'pandemic', 'Walensky', 'cite', 'the', 'disproportionate', 'impact', 'the', 'pandemic', 'have', 'have', 'on', 'racial', 'and', 'ethnic', 'minority', 'community', 'as', 'a', 'reason', '-PRON-', 'recommend', 'a', 'booster', 'dose', 'for', 'people', '18', 'and', 'old', 'at', 'high', 'risk', 'of', 'Covid', 'because', 'of', 'occupational', 'and', 'institutional', 'exposure', 'against', 'the', 'guidance', 'of', 'the', 'CDC', \"'s\", 'adviser', '.', 'withholding', 'access', 'for', 'booster', 'for', 'these', 'people', 'and', 'community', 'only', 'worsen', 'the', 'inequity', 'that', '-PRON-', 'have', 'commit', 'to', 'fight', 'against', ',', '-PRON-', 'say', '.', 'Walensky', \"'s\", 'decision', 'to', 'allow', 'million', 'of', 'Americans', 'over', 'the', 'age', 'of', '18', 'the', 'opportunity', 'to', 'get', 'a', 'booster', 'be', 'an', 'unusual', 'move', '.', '-PRON-', 'overrule', 'the', 'agency', \"'s\", 'Advisory', 'Committee', 'on', 'Immunization', 'Practices', ',', 'which', 'vote', 'to', 'limit', 'booster', 'to', 'elderly', 'people', 'and', 'old', 'people', 'with', 'underlying', 'health', 'condition', '.', 'for', 'two', 'group', ',', 'the', 'CDC', 'be', 'clear', ':', 'People', 'age', '65', 'and', 'old', 'and', 'those', 'in', 'long', '-', 'term', 'care', 'setting', 'and', 'people', 'age', '50', 'to', '64', 'with', 'underlying', 'medical', 'condition', 'should', 'get', 'a', 'third', 'shot', 'of', 'Pfizer', '’s', 'Covid-19', 'vaccine', 'at', 'least', 'six', 'month', 'after', '-PRON-', 'first', 'two', 'shot', '.', 'underlie', 'medical', 'condition', 'include', 'cancer', ',', 'diabetes', ',', 'obesity', ',', 'pregnancy', 'and', 'kidney', 'disease', '.', ' ', 'the', 'recommendation', 'only', 'apply', 'to', 'those', 'who', 'receive', 'the', 'first', 'two', 'dose', 'of', 'Pfizer', '-', 'BioNTech', '’s', 'vaccine', ',', 'the', 'only', 'vaccine', 'booster', 'authorize', 'by', 'the', 'Food', 'and', 'Drug', 'Administration', '.', 'Booster', 'shoot', 'datum', 'for', 'those', 'who', 'get', 'the', 'Moderna', 'or', 'Johnson', '&', 'Johnson', 'shot', 'be', 'forthcoming', ',', 'the', 'CDC', 'say', '.', 'the', 'guidance', 'from', 'the', 'FDA', 'and', 'CDC', 'come', 'after', 'datum', 'from', 'Pfizer', 'find', '-PRON-', 'vaccine', '’s', 'immunity', 'start', 'to', 'decline', 'after', 'six', 'month', '.', 'evidence', 'have', 'be', 'strong', 'for', 'a', 'booster', 'dose', 'in', 'people', 'age', '65', 'and', 'old', '.', 'there', 'be', 'little', 'datum', 'about', 'the', 'risk', 'of', 'severe', 'illness', 'for', 'young', 'people', 'who', 'be', 'fully', 'vaccinate', 'and', 'even', 'less', 'evidence', 'show', 'the', 'safety', 'of', 'a', 'third', 'dose', '.', 'this', 'be', 'the', 'sticking', 'point', 'for', 'many', 'expert', 'during', 'the', 'CDC', 'advisory', 'panel', \"'s\", 'meeting', '.', '\"', 'what', 'worry', '-PRON-', 'be', 'the', 'young', 'age', 'limit', 'and', 'the', 'potential', 'to', 'do', 'more', 'harm', 'than', 'good', ',', '\"', 'say', 'Dr.', 'Paul', 'Offit', ',', 'director', 'of', 'the', 'Vaccine', 'Education', 'Center', 'at', 'Children', '’s', 'Hospital', 'of', 'Philadelphia', ',', 'about', 'the', 'CDC', 'group', '’s', 'recommendation', '.', '\\xa0 ', 'Researchers', 'have', 'previously', 'report', 'a', 'high', '-', 'than', '-', 'usual', 'number', 'of', 'case', 'of', 'a', 'type', 'of', '  ', 'heart', 'inflammation', '  ', 'call', 'myocarditis', 'among', 'young', 'people', 'follow', '-PRON-', 'second', 'dose', 'of', 'an', 'mRNA', 'vaccine', '.', ' ', 'this', 'may', 'be', 'why', 'there', 'be', 'gray', 'area', 'in', 'other', 'CDC', 'booster', 'shot', 'guidance', '.', ' ', 'the', 'agency', 'do', 'not', 'provide', 'a', 'strong', 'recommendation', 'for', 'two', 'other', 'major', 'group', '.', 'adult', 'under', 'age', '50', 'with', 'underlie', 'condition', 'as', 'well', 'as', 'adult', 'under', 'age', '65', 'whose', 'job', 'could', 'put', '-PRON-', 'at', 'risk', 'for', 'covid-19', 'exposure', 'may', 'get', 'the', 'booster', 'if', '-PRON-', 'want', '-PRON-', '.', 'those', 'occupation', 'include', 'area', 'where', 'people', 'from', 'a', 'variety', 'of', 'background', 'congregate', ':', 'school', ',', 'health', 'care', 'setting', ',', 'jail', 'and', 'homeless', 'shelter', '.', ' ', 'the', 'difference', 'in', 'language', '—', '\"', 'should', '\"', 'vs.', '\"', 'may', '\"', '—', 'have', 'frustrate', 'some', 'physician', 'who', 'be', 'now', 'face', 'with', 'interpret', 'what', 'to', 'do', 'with', 'the', 'CDC', 'guidance', '.', '\"', 'the', 'problem', 'be', ',', '-PRON-', 'do', 'not', 'know', 'how', 'to', 'implement', 'a', \"'\", 'may', \"'\", 'recommendation', ',', '\"', 'say', 'Dr.', 'Hugh', 'Cassiere', ',', 'director', 'of', 'critical', 'care', 'service', 'for', 'Sandra', 'Atlas', 'Bass', 'Heart', 'Hospital', 'at', 'North', 'Shore', 'University', 'Hospital', ',', 'part', 'of', 'Northwell', 'Health', ',', 'on', 'Long', 'Island', ',', 'New', 'York', '.', '\"', 'the', 'reason', 'why', '-PRON-', 'say', \"'\", 'may', \"'\", 'be', 'because', 'the', 'datum', 'be', 'weak', ',', '\"', '-PRON-', 'say', '.', '\"', 'why', 'even', 'mention', '-PRON-', '?', '\"', 'the', 'guidance', ',', 'however', ',', 'could', 'be', 'interpret', 'differently', 'depend', 'on', 'the', 'level', 'of', 'transmission', 'within', 'specific', 'community', '.', '-PRON-', 'could', 'be', 'a', 'teacher', 'in', 'a', 'school', 'district', 'where', 'there', 'be', 'very', 'little', 'Covid', 'circulate', ',', 'and', '-PRON-', 'be', 'really', 'not', 'at', 'risk', 'as', 'a', 'result', 'of', '-PRON-', 'occupation', ',', 'say', 'Glen', 'Nowak', ',', 'co', '-', 'director', 'of', 'the', 'University', 'of', 'Georgia', '’s', 'Center', 'for', 'Health', 'and', 'Risk', 'Communication', '.', 'conversely', ',', '-PRON-', 'say', ',', 'educator', 'in', 'high', '-', 'risk', 'area', 'may', 'fit', 'the', 'requirement', 'for', 'a', 'third', 'dose', '.', ' ', '-PRON-', 'risk', 'situation', 'can', 'change', 'quickly', 'and', 'unpredictably', ',', 'Nowak', 'say', '.', 'on', 'Thursday', 'alone', ',', 'the', 'agency', 'have', 'log', 'more', 'than', '120,000', 'daily', 'case', ',', 'nearly', '10,000', 'hospitalization', 'and', 'almost', '2,000', 'covid-19-related', 'death', '.', 'download', 'the', '  ', 'NBC', 'News', 'app', '  ', 'for', 'full', 'coverage', 'of', 'the', 'Covid-19', 'pandemic', 'on', 'Friday', ',', 'Walensky', 'say', 'people', 'should', 'still', 'consider', '-PRON-', 'fully', 'vaccinate', 'after', 'get', 'two', 'dose', 'of', 'a', 'Pfizer', 'or', 'Moderna', 'vaccine', 'or', 'the', 'one', '-', 'dose', 'Johnson', '&', 'Johnson', 'vaccine', '.', ' ', 'outside', 'expert', 'stress', 'that', 'fully', 'vaccinate', 'individual', 'be', 'not', 'at', 'immediate', 'risk', 'of', 'infection', '.', 'israeli', 'datum', 'on', 'the', 'Pfizer', 'shot', 'show', 'that', 'despite', 'a', 'drop', 'in', 'protection', 'from', 'overall', 'infection', ',', 'the', 'vaccine', 'remain', '93', 'percent', 'effective', 'in', 'prevent', 'severe', 'illness', '.', 'this', 'be', 'not', 'an', 'emergency', ',', 'say', 'Dr.', 'Jesse', 'Goodman', ',', 'infectious', 'disease', 'specialist', 'at', 'Georgetown', 'University', 'Medical', 'Center', 'and', 'former', 'chief', 'scientist', 'with', 'the', 'Food', 'and', 'Drug', 'Administration', '.', 'People', 'who', 'have', 'receive', 'both', 'Pfizer', 'dose', 'be', 'still', 'afford', 'significant', 'protection', '.', 'indeed', ',', '-PRON-', 'be', 'the', 'unvaccinated', 'population', 'that', 'make', 'up', 'the', 'vast', 'majority', 'of', 'severely', 'ill', 'Covid', 'patient', 'in', 'hospital', 'and', 'intensive', 'care', 'unit', '.', 'infection', 'among', 'the', 'unvaccinated', 'continue', 'to', 'fuel', 'this', 'pandemic', 'result', 'in', 'rise', 'number', 'of', 'case', ',', 'hospitalization', 'and', 'death', ',', 'Walensky', 'say', 'Friday', '.', 'the', 'administration', \"'s\", 'focus', ',', '-PRON-', 'add', ',', 'will', 'be', 'on', 'get', 'the', 'vaccine', 'to', 'those', 'who', 'have', 'not', 'receive', 'a', 'single', 'shot', '.', ' ', '-PRON-', 'will', 'not', 'boost', '-PRON-', 'way', 'out', 'of', 'this', 'pandemic', ',', '-PRON-', 'say', '.', 'as', 'of', 'Friday', ',', 'the', 'CDC', 'report', 'that', 'just', '55.1', 'percent', 'of', 'the', 'U.S.', 'population', 'have', 'be', 'fully', 'vaccinate', 'against', 'Covid-19', '.', 'follow', '  ', 'NBC', 'HEALTH', '  ', 'on', '  ', 'Twitter', '  ', '&', '  ', 'Facebook', '.', 'Erika', 'Edwards', 'be', 'a', 'health', 'and', 'medical', 'news', 'writer', 'and', 'reporter', 'for', 'NBC', 'News', 'and', 'TODAY', '.', '©', '  ', '2022', 'NBC', 'UNIVERSAL']\n"
          ]
        }
      ],
      "source": [
        "# spacy is another python package to for Lemmatization\n",
        "import spacy\n",
        "nlp = spacy.load('en')\n",
        "#doc = nlp(text2)\n",
        "doc = nlp(text1)\n",
        "\n",
        "print([token.lemma_ for token in doc])"
      ]
    },
    {
      "cell_type": "markdown",
      "source": [
        "# SnowballStemmer  (Porter 2)  自己寫的"
      ],
      "metadata": {
        "id": "zjRGeLZWT-To"
      }
    },
    {
      "cell_type": "code",
      "source": [
        "from nltk.stem.snowball import SnowballStemmer"
      ],
      "metadata": {
        "id": "jMKFiw4jT9rx"
      },
      "execution_count": null,
      "outputs": []
    },
    {
      "cell_type": "markdown",
      "metadata": {
        "id": "rumDew-zLk-L"
      },
      "source": [
        "# 6.Text Normalization"
      ]
    },
    {
      "cell_type": "code",
      "execution_count": 59,
      "metadata": {
        "colab": {
          "base_uri": "https://localhost:8080/"
        },
        "id": "ZS9af_J4z9r4",
        "outputId": "b2abdfcd-8252-40ce-a78a-b9f1df1b6462"
      },
      "outputs": [
        {
          "output_type": "stream",
          "name": "stdout",
          "text": [
            "I go to the woods because I wished to live deliberately, to front only the essential facts of life...\n"
          ]
        }
      ],
      "source": [
        "#取代字\n",
        "\n",
        "import re\n",
        "sentence=\"I went to the woods because I wished to live deliberately, to front only the essential facts of life...\"\n",
        "text_replace= re.sub(r'went','go',sentence)\n",
        "print(text_replace)"
      ]
    },
    {
      "cell_type": "code",
      "execution_count": 60,
      "metadata": {
        "colab": {
          "base_uri": "https://localhost:8080/"
        },
        "id": "dSDBrY89Vjh7",
        "outputId": "a029c065-aeab-4ab0-eb73-ed08dee7ce27"
      },
      "outputs": [
        {
          "output_type": "stream",
          "name": "stdout",
          "text": [
            "I went to the woods because I wished to live deliberately  to front only the essential facts of life   \n"
          ]
        }
      ],
      "source": [
        "#取代空格\n",
        "import re\n",
        "sentence=\"I went to the woods because I wished to live deliberately, to front only the essential facts of life...\"\n",
        "text_removed_pun=re.sub(r'[^\\w]',' ',sentence) \n",
        "print(text_removed_pun)"
      ]
    },
    {
      "cell_type": "code",
      "execution_count": 61,
      "metadata": {
        "id": "RwPoadlxLgn6"
      },
      "outputs": [],
      "source": [
        "sentence=\"I went to the woods because I wished to live deliberately, to front only the essential facts of life...\""
      ]
    },
    {
      "cell_type": "code",
      "execution_count": 62,
      "metadata": {
        "colab": {
          "base_uri": "https://localhost:8080/"
        },
        "id": "vTnJ7BeGQbMe",
        "outputId": "320d6028-e07d-4358-e376-59db48c7710f"
      },
      "outputs": [
        {
          "output_type": "stream",
          "name": "stdout",
          "text": [
            "Lower: i went to the woods because i wished to live deliberately, to front only the essential facts of life...\n",
            "upper: I WENT TO THE WOODS BECAUSE I WISHED TO LIVE DELIBERATELY, TO FRONT ONLY THE ESSENTIAL FACTS OF LIFE...\n",
            "capitalize: I went to the woods because i wished to live deliberately, to front only the essential facts of life...\n",
            "True\n",
            "True\n",
            "True\n",
            "True\n",
            "True\n"
          ]
        }
      ],
      "source": [
        "print(f\"Lower: {sentence.lower()}\")\n",
        "\n",
        "print(f\"upper: {sentence.upper()}\")\n",
        "\n",
        "print(f\"capitalize: {sentence.capitalize()}\")\n",
        "\n",
        "print(\"A\".isupper())\n",
        "print('20'.isdigit())\n",
        "print('woods'.isalpha())\n",
        "print('20'.isdecimal())\n",
        "print('12ab'.isalnum() )"
      ]
    },
    {
      "cell_type": "markdown",
      "metadata": {
        "id": "Jt51YTnvuj6z"
      },
      "source": [
        "# 7.Remove stopwords\n",
        "\n",
        "我上週自行定義停用詞，這次直接使用NLTK_english_stopwords放於google.drive來導入dictionary\n",
        "\n",
        "Link as here: \n",
        "https://drive.google.com/file/d/1iEri54FJPgtV7YBYLl5UGmOUqwQLKWFE/view?usp=sharing"
      ]
    },
    {
      "cell_type": "code",
      "source": [
        "import os\n",
        "\n",
        "from google.colab import drive\n",
        "drive.mount('/content/drive')\n",
        "\n"
      ],
      "metadata": {
        "colab": {
          "base_uri": "https://localhost:8080/"
        },
        "id": "Vsuw33GcMf9z",
        "outputId": "8e7cfb34-f08a-4732-8a1e-1676c4762928"
      },
      "execution_count": 74,
      "outputs": [
        {
          "output_type": "stream",
          "name": "stdout",
          "text": [
            "Mounted at /content/drive\n"
          ]
        }
      ]
    },
    {
      "cell_type": "code",
      "source": [
        "#確認資料夾東西 (根目錄)\n",
        "os.listdir()"
      ],
      "metadata": {
        "colab": {
          "base_uri": "https://localhost:8080/"
        },
        "id": "vJCj8pwzNCYH",
        "outputId": "a3a58a1e-ab50-4c84-ccbc-07e89db00642"
      },
      "execution_count": 78,
      "outputs": [
        {
          "output_type": "execute_result",
          "data": {
            "text/plain": [
              "['.config', 'drive', 'sample_data']"
            ]
          },
          "metadata": {},
          "execution_count": 78
        }
      ]
    },
    {
      "cell_type": "code",
      "source": [
        "import os\n",
        "os.chdir('/content/drive/MyDrive/NTHU/TextMining/') "
      ],
      "metadata": {
        "id": "eP03tAnwNJMw"
      },
      "execution_count": 81,
      "outputs": []
    },
    {
      "cell_type": "code",
      "source": [
        "#import the stopword file from my drive\n",
        "\n",
        "path_sw = \"/content/drive/MyDrive/NTHU/TextMining/NLTK_english_stopwords.txt\"\n",
        "with open(path_sw, \"r\") as file1:\n",
        "    nltk.stop_word = file1.read().split(\"\\n\")\n",
        "    print(nltk.stop_word)"
      ],
      "metadata": {
        "colab": {
          "base_uri": "https://localhost:8080/"
        },
        "id": "7PTxetDJMnLu",
        "outputId": "9b3213fa-a8e4-4712-9782-080735d27870"
      },
      "execution_count": 89,
      "outputs": [
        {
          "output_type": "stream",
          "name": "stdout",
          "text": [
            "['i', 'me', 'my', 'myself', 'we', 'our', 'ours', 'ourselves', 'you', 'your', 'yours', 'yourself', 'yourselves', 'he', 'him', 'his', 'himself', 'she', 'her', 'hers', 'herself', 'it', 'its', 'itself', 'they', 'them', 'their', 'theirs', 'themselves', 'what', 'which', 'who', 'whom', 'this', 'that', 'these', 'those', 'am', 'is', 'are', 'was', 'were', 'be', 'been', 'being', 'have', 'has', 'had', 'having', 'do', 'does', 'did', 'doing', 'a', 'an', 'the', 'and', 'but', 'if', 'or', 'because', 'as', 'until', 'while', 'of', 'at', 'by', 'for', 'with', 'about', 'against', 'between', 'into', 'through', 'during', 'before', 'after', 'above', 'below', 'to', 'from', 'up', 'down', 'in', 'out', 'on', 'off', 'over', 'under', 'again', 'further', 'then', 'once', 'here', 'there', 'when', 'where', 'why', 'how', 'all', 'any', 'both', 'each', 'few', 'more', 'most', 'other', 'some', 'such', 'no', 'nor', 'not', 'only', 'own', 'same', 'so', 'than', 'too', 'very', 's', 't', 'can', 'will', 'just', 'don', 'should', 'now', '']\n"
          ]
        }
      ]
    },
    {
      "cell_type": "code",
      "execution_count": 90,
      "metadata": {
        "colab": {
          "base_uri": "https://localhost:8080/"
        },
        "id": "xBCqJ069oCi6",
        "outputId": "ec13644b-53cc-4a77-dc3f-da4d539a6690"
      },
      "outputs": [
        {
          "output_type": "stream",
          "name": "stdout",
          "text": [
            "[nltk_data] Downloading package stopwords to /root/nltk_data...\n",
            "[nltk_data]   Package stopwords is already up-to-date!\n",
            "{'under', 'only', 'll', \"weren't\", \"wouldn't\", 'out', 'doesn', \"should've\", 'having', 'hadn', 'couldn', 'and', 'same', 'can', \"mustn't\", 'such', 'o', 'down', 'own', \"you're\", 'or', 'off', 'until', 'as', 'what', \"needn't\", 'it', 'is', 'ours', 'why', 'few', 'by', 're', 'them', 'very', 'you', \"doesn't\", 'did', 'being', \"couldn't\", 'we', 'the', 'will', \"haven't\", 'ma', 'but', 'not', 's', 'was', 'nor', 'which', 'my', 'whom', 'yourselves', 'theirs', 'into', 't', 'how', 'that', 'so', \"shan't\", 'each', 'this', 'hasn', 'below', \"didn't\", 'isn', 'shouldn', 'had', 'y', 'other', 'they', 'for', 'during', 'most', 'd', 'weren', 'has', 'shan', 'didn', 'there', 'your', 'on', 'again', 'than', 'her', 'aren', 'herself', 'him', 'about', 'were', 'won', 'above', 'ourselves', 'an', 'yourself', 'does', 'doing', 'where', 'don', 'in', 'are', 'over', 'me', 'do', 'of', \"it's\", 'he', 'a', \"you've\", 'through', 'between', 'some', 'those', 'haven', \"isn't\", 'with', 'be', 've', 'himself', 'too', 'both', 'wasn', 'been', 'mightn', \"aren't\", \"you'll\", 'all', 'now', 'while', 'before', \"that'll\", 'if', 'our', \"hasn't\", 'she', 'up', 'then', 'ain', 'any', 'at', 'more', 'wouldn', 'when', 'these', 'further', 'no', 'themselves', 'm', \"mightn't\", 'should', 'am', \"don't\", 'who', 'needn', 'just', 'to', \"you'd\", 'here', 'yours', 'after', \"wasn't\", 'his', \"she's\", 'itself', 'mustn', \"hadn't\", \"shouldn't\", \"won't\", 'myself', 'because', 'their', 'have', 'its', 'from', 'against', 'hers', 'once', 'i'}\n"
          ]
        }
      ],
      "source": [
        "nltk.download('stopwords')\n",
        "from nltk.corpus import stopwords\n",
        "stopwords = set(stopwords.words('english'))\n",
        "print(stopwords)"
      ]
    },
    {
      "cell_type": "code",
      "source": [
        "super_sw = stopwords.union(nltk.stop_word)"
      ],
      "metadata": {
        "id": "MpLujAOYPpEa"
      },
      "execution_count": 105,
      "outputs": []
    },
    {
      "cell_type": "markdown",
      "source": [
        "結合這兩組stopword，合併成一組unique的stopword"
      ],
      "metadata": {
        "id": "_giuc7kaPMy6"
      }
    },
    {
      "cell_type": "code",
      "execution_count": 106,
      "metadata": {
        "colab": {
          "base_uri": "https://localhost:8080/"
        },
        "id": "H3z7n-GZqYxY",
        "outputId": "b6b0a8e2-53a0-4dc9-be99-5667201138e0"
      },
      "outputs": [
        {
          "output_type": "stream",
          "name": "stdout",
          "text": [
            "['Health', 'care', 'workers', ',', 'teachers', 'and', 'other', 'essential', 'personnel', 'have', 'been', 'among', 'the', 'hardest', 'hit', 'by', 'Covid-19', 'and', 'should', 'qualify', 'for', 'a', 'vaccine', 'booster', 'shot', '—', 'despite', 'a', 'lack', 'of', 'robust', 'evidence', 'that', 'they', 'need', 'a', 'third', 'dose', 'to', 'protect', 'them', 'against', 'severe', 'disease', ',', 'the', 'head', 'of', 'the', 'Centers', 'for', 'Disease', 'Control', 'and', 'Prevention', 'said', 'Friday', '.', '“', 'In', 'a', 'pandemic', ',', 'we', 'must', 'often', 'take', 'steps', 'with', 'the', 'intention', 'to', 'do', 'the', 'greatest', 'good', ',', 'even', 'in', 'an', 'uncertain', 'environment', ',', '”', 'Dr.', 'Rochelle', 'Walensky', 'said', 'Friday', 'during', 'a', 'White', 'House', 'Covid-19', 'task', 'force', 'briefing', '.', 'Full', 'coverage', 'of', 'the', 'Covid-19', 'pandemic', 'Walensky', 'cited', 'the', 'disproportionate', 'impact', 'the', 'pandemic', 'has', 'had', 'on', 'racial', 'and', 'ethnic', 'minority', 'communities', 'as', 'a', 'reason', 'she', 'recommended', 'a', 'booster', 'dose', 'for', 'people', '18', 'and', 'older', 'at', 'high', 'risk', 'of', 'Covid', 'because', 'of', 'occupational', 'and', 'institutional', 'exposure', 'against', 'the', 'guidance', 'of', 'the', 'CDC', \"'s\", 'advisers', '.', 'Withholding', 'access', 'for', 'boosters', 'for', 'these', 'people', 'and', 'communities', 'only', 'worsens', 'the', 'inequities', 'that', 'I', 'have', 'committed', 'to', 'fight', 'against', ',', 'she', 'said', '.', 'Walensky', \"'s\", 'decision', 'to', 'allow', 'millions', 'of', 'Americans', 'over', 'the', 'age', 'of', '18', 'the', 'opportunity', 'to', 'get', 'a', 'booster', 'was', 'an', 'unusual', 'move', '.', 'She', 'overruled', 'the', 'agency', \"'s\", 'Advisory', 'Committee', 'on', 'Immunization', 'Practices', ',', 'which', 'voted', 'to', 'limit', 'boosters', 'to', 'elderly', 'people', 'and', 'older', 'people', 'with', 'underlying', 'health', 'conditions', '.', 'For', 'two', 'groups', ',', 'the', 'CDC', 'was', 'clear', ':', 'People', 'ages', '65', 'and', 'older', 'and', 'those', 'in', 'long-term', 'care', 'settings', 'and', 'people', 'ages', '50', 'to', '64', 'with', 'underlying', 'medical', 'conditions', 'should', 'get', 'a', 'third', 'shot', 'of', 'Pfizer', '’', 's', 'Covid-19', 'vaccine', 'at', 'least', 'six', 'months', 'after', 'their', 'first', 'two', 'shots', '.', 'Underlying', 'medical', 'conditions', 'include', 'cancer', ',', 'diabetes', ',', 'obesity', ',', 'pregnancy', 'and', 'kidney', 'disease', '.', 'The', 'recommendations', 'only', 'apply', 'to', 'those', 'who', 'received', 'the', 'first', 'two', 'doses', 'of', 'Pfizer-BioNTech', '’', 's', 'vaccine', ',', 'the', 'only', 'vaccine', 'booster', 'authorized', 'by', 'the', 'Food', 'and', 'Drug', 'Administration', '.', 'Booster', 'shot', 'data', 'for', 'those', 'who', 'got', 'the', 'Moderna', 'or', 'Johnson', '&', 'Johnson', 'shots', 'are', 'forthcoming', ',', 'the', 'CDC', 'said', '.', 'The', 'guidance', 'from', 'the', 'FDA', 'and', 'CDC', 'comes', 'after', 'data', 'from', 'Pfizer', 'found', 'its', 'vaccine', '’', 's', 'immunity', 'started', 'to', 'decline', 'after', 'six', 'months', '.', 'Evidence', 'has', 'been', 'strongest', 'for', 'a', 'booster', 'dose', 'in', 'people', 'ages', '65', 'and', 'older', '.', 'There', 'is', 'little', 'data', 'about', 'the', 'risks', 'of', 'severe', 'illness', 'for', 'younger', 'people', 'who', 'are', 'fully', 'vaccinated', 'and', 'even', 'less', 'evidence', 'showing', 'the', 'safety', 'of', 'a', 'third', 'dose', '.', 'This', 'was', 'the', 'sticking', 'point', 'for', 'many', 'experts', 'during', 'the', 'CDC', 'advisory', 'panel', \"'s\", 'meeting', '.', '“', 'What', 'worried', 'them', 'was', 'the', 'younger', 'age', 'limit', 'and', 'the', 'potential', 'to', 'do', 'more', 'harm', 'than', 'good', ',', '”', 'said', 'Dr.', 'Paul', 'Offit', ',', 'director', 'of', 'the', 'Vaccine', 'Education', 'Center', 'at', 'Children', '’', 's', 'Hospital', 'of', 'Philadelphia', ',', 'about', 'the', 'CDC', 'group', '’', 's', 'recommendation', '.', 'Researchers', 'had', 'previously', 'reported', 'a', 'higher-than-usual', 'number', 'of', 'cases', 'of', 'a', 'type', 'of', 'heart', 'inflammation', 'called', 'myocarditis', 'among', 'young', 'people', 'following', 'their', 'second', 'dose', 'of', 'an', 'mRNA', 'vaccine', '.', 'This', 'may', 'be', 'why', 'there', 'were', 'gray', 'areas', 'in', 'other', 'CDC', 'booster', 'shot', 'guidance', '.', 'The', 'agency', 'did', 'not', 'provide', 'a', 'strong', 'recommendation', 'for', 'two', 'other', 'major', 'groups', '.', 'Adults', 'under', 'age', '50', 'with', 'underlying', 'conditions', 'as', 'well', 'as', 'adults', 'under', 'age', '65', 'whose', 'jobs', 'could', 'put', 'them', 'at', 'risk', 'for', 'Covid-19', 'exposure', 'may', 'get', 'the', 'booster', 'if', 'they', 'want', 'it', '.', 'Those', 'occupations', 'include', 'areas', 'where', 'people', 'from', 'a', 'variety', 'of', 'backgrounds', 'congregate', ':', 'schools', ',', 'health', 'care', 'settings', ',', 'jails', 'and', 'homeless', 'shelters', '.', 'The', 'difference', 'in', 'language', '—', '“', 'should', '”', 'vs.', '“', 'may', '”', '—', 'has', 'frustrated', 'some', 'physicians', 'who', 'are', 'now', 'faced', 'with', 'interpreting', 'what', 'to', 'do', 'with', 'the', 'CDC', 'guidance', '.', '“', 'The', 'problem', 'is', ',', 'I', 'don', '’', 't', 'know', 'how', 'to', 'implement', 'a', '‘', 'may', '’', 'recommendation', ',', '”', 'said', 'Dr.', 'Hugh', 'Cassiere', ',', 'director', 'of', 'critical', 'care', 'services', 'for', 'Sandra', 'Atlas', 'Bass', 'Heart', 'Hospital', 'at', 'North', 'Shore', 'University', 'Hospital', ',', 'part', 'of', 'Northwell', 'Health', ',', 'on', 'Long', 'Island', ',', 'New', 'York', '.', '“', 'The', 'reason', 'why', 'they', 'said', '‘', 'may', '’', 'is', 'because', 'the', 'data', 'are', 'weak', ',', '”', 'he', 'said', '.', '“', 'Why', 'even', 'mention', 'it', '?', '”', 'The', 'guidance', ',', 'however', ',', 'could', 'be', 'interpreted', 'differently', 'depending', 'on', 'the', 'level', 'of', 'transmission', 'within', 'specific', 'communities', '.', 'You', 'could', 'be', 'a', 'teacher', 'in', 'a', 'school', 'district', 'where', 'there', \"'s\", 'very', 'little', 'Covid', 'circulating', ',', 'and', 'you', '’', 're', 'really', 'not', 'at', 'risk', 'as', 'a', 'result', 'of', 'your', 'occupation', ',', 'said', 'Glen', 'Nowak', ',', 'co-director', 'of', 'the', 'University', 'of', 'Georgia', '’', 's', 'Center', 'for', 'Health', 'and', 'Risk', 'Communication', '.', 'Conversely', ',', 'he', 'said', ',', 'educators', 'in', 'high-risk', 'areas', 'may', 'fit', 'the', 'requirements', 'for', 'a', 'third', 'dose', '.', 'Your', 'risk', 'situation', 'can', 'change', 'quickly', 'and', 'unpredictably', ',', 'Nowak', 'said', '.', 'On', 'Thursday', 'alone', ',', 'the', 'agency', 'had', 'logged', 'more', 'than', '120,000', 'daily', 'cases', ',', 'nearly', '10,000', 'hospitalizations', 'and', 'almost', '2,000', 'Covid-19-related', 'deaths', '.', 'Download', 'the', 'NBC', 'News', 'app', 'for', 'full', 'coverage', 'of', 'the', 'Covid-19', 'pandemic', 'On', 'Friday', ',', 'Walensky', 'said', 'people', 'should', 'still', 'consider', 'themselves', 'fully', 'vaccinated', 'after', 'getting', 'two', 'doses', 'of', 'a', 'Pfizer', 'or', 'Moderna', 'vaccine', 'or', 'the', 'one-dose', 'Johnson', '&', 'Johnson', 'vaccine', '.', 'Outside', 'experts', 'stressed', 'that', 'fully', 'vaccinated', 'individuals', 'are', 'not', 'at', 'immediate', 'risk', 'of', 'infection', '.', 'Israeli', 'data', 'on', 'the', 'Pfizer', 'shots', 'showed', 'that', 'despite', 'a', 'drop', 'in', 'protection', 'from', 'overall', 'infection', ',', 'the', 'vaccines', 'remained', '93', 'percent', 'effective', 'in', 'preventing', 'severe', 'illness', '.', 'This', 'is', 'not', 'an', 'emergency', ',', 'said', 'Dr.', 'Jesse', 'Goodman', ',', 'infectious', 'disease', 'specialist', 'at', 'Georgetown', 'University', 'Medical', 'Center', 'and', 'former', 'chief', 'scientist', 'with', 'the', 'Food', 'and', 'Drug', 'Administration', '.', 'People', 'who', 'have', 'received', 'both', 'Pfizer', 'doses', 'are', 'still', 'afforded', 'significant', 'protection', '.', 'Indeed', ',', 'it', 'is', 'the', 'unvaccinated', 'population', 'that', 'makes', 'up', 'the', 'vast', 'majority', 'of', 'severely', 'ill', 'Covid', 'patients', 'in', 'hospitals', 'and', 'intensive', 'care', 'units', '.', 'Infections', 'among', 'the', 'unvaccinated', 'continue', 'to', 'fuel', 'this', 'pandemic', 'resulting', 'in', 'rising', 'numbers', 'of', 'cases', ',', 'hospitalizations', 'and', 'deaths', ',', 'Walensky', 'said', 'Friday', '.', 'The', 'administration', \"'s\", 'focus', ',', 'she', 'added', ',', 'will', 'be', 'on', 'getting', 'the', 'vaccine', 'to', 'those', 'who', 'have', 'not', 'received', 'a', 'single', 'shot', '.', 'We', 'will', 'not', 'boost', 'our', 'way', 'out', 'of', 'this', 'pandemic', ',', 'she', 'said', '.', 'As', 'of', 'Friday', ',', 'the', 'CDC', 'reported', 'that', 'just', '55.1', 'percent', 'of', 'the', 'U.S.', 'population', 'had', 'been', 'fully', 'vaccinated', 'against', 'Covid-19', '.', 'Follow', 'NBC', 'HEALTH', 'on', 'Twitter', '&', 'Facebook', '.', 'Erika', 'Edwards', 'is', 'a', 'health', 'and', 'medical', 'news', 'writer', 'and', 'reporter', 'for', 'NBC', 'News', 'and', 'TODAY', '.', '©', '2022', 'NBC', 'UNIVERSAL']\n",
            "['Health', 'care', 'workers', ',', 'teachers', 'essential', 'personnel', 'among', 'hardest', 'hit', 'Covid-19', 'qualify', 'vaccine', 'booster', 'shot', '—', 'despite', 'lack', 'robust', 'evidence', 'need', 'third', 'dose', 'protect', 'severe', 'disease', ',', 'head', 'Centers', 'Disease', 'Control', 'Prevention', 'said', 'Friday', '.', '“', 'In', 'pandemic', ',', 'must', 'often', 'take', 'steps', 'intention', 'greatest', 'good', ',', 'even', 'uncertain', 'environment', ',', '”', 'Dr.', 'Rochelle', 'Walensky', 'said', 'Friday', 'White', 'House', 'Covid-19', 'task', 'force', 'briefing', '.', 'Full', 'coverage', 'Covid-19', 'pandemic', 'Walensky', 'cited', 'disproportionate', 'impact', 'pandemic', 'racial', 'ethnic', 'minority', 'communities', 'reason', 'recommended', 'booster', 'dose', 'people', '18', 'older', 'high', 'risk', 'Covid', 'occupational', 'institutional', 'exposure', 'guidance', 'CDC', \"'s\", 'advisers', '.', 'Withholding', 'access', 'boosters', 'people', 'communities', 'worsens', 'inequities', 'I', 'committed', 'fight', ',', 'said', '.', 'Walensky', \"'s\", 'decision', 'allow', 'millions', 'Americans', 'age', '18', 'opportunity', 'get', 'booster', 'unusual', 'move', '.', 'She', 'overruled', 'agency', \"'s\", 'Advisory', 'Committee', 'Immunization', 'Practices', ',', 'voted', 'limit', 'boosters', 'elderly', 'people', 'older', 'people', 'underlying', 'health', 'conditions', '.', 'For', 'two', 'groups', ',', 'CDC', 'clear', ':', 'People', 'ages', '65', 'older', 'long-term', 'care', 'settings', 'people', 'ages', '50', '64', 'underlying', 'medical', 'conditions', 'get', 'third', 'shot', 'Pfizer', '’', 'Covid-19', 'vaccine', 'least', 'six', 'months', 'first', 'two', 'shots', '.', 'Underlying', 'medical', 'conditions', 'include', 'cancer', ',', 'diabetes', ',', 'obesity', ',', 'pregnancy', 'kidney', 'disease', '.', 'The', 'recommendations', 'apply', 'received', 'first', 'two', 'doses', 'Pfizer-BioNTech', '’', 'vaccine', ',', 'vaccine', 'booster', 'authorized', 'Food', 'Drug', 'Administration', '.', 'Booster', 'shot', 'data', 'got', 'Moderna', 'Johnson', '&', 'Johnson', 'shots', 'forthcoming', ',', 'CDC', 'said', '.', 'The', 'guidance', 'FDA', 'CDC', 'comes', 'data', 'Pfizer', 'found', 'vaccine', '’', 'immunity', 'started', 'decline', 'six', 'months', '.', 'Evidence', 'strongest', 'booster', 'dose', 'people', 'ages', '65', 'older', '.', 'There', 'little', 'data', 'risks', 'severe', 'illness', 'younger', 'people', 'fully', 'vaccinated', 'even', 'less', 'evidence', 'showing', 'safety', 'third', 'dose', '.', 'This', 'sticking', 'point', 'many', 'experts', 'CDC', 'advisory', 'panel', \"'s\", 'meeting', '.', '“', 'What', 'worried', 'younger', 'age', 'limit', 'potential', 'harm', 'good', ',', '”', 'said', 'Dr.', 'Paul', 'Offit', ',', 'director', 'Vaccine', 'Education', 'Center', 'Children', '’', 'Hospital', 'Philadelphia', ',', 'CDC', 'group', '’', 'recommendation', '.', 'Researchers', 'previously', 'reported', 'higher-than-usual', 'number', 'cases', 'type', 'heart', 'inflammation', 'called', 'myocarditis', 'among', 'young', 'people', 'following', 'second', 'dose', 'mRNA', 'vaccine', '.', 'This', 'may', 'gray', 'areas', 'CDC', 'booster', 'shot', 'guidance', '.', 'The', 'agency', 'provide', 'strong', 'recommendation', 'two', 'major', 'groups', '.', 'Adults', 'age', '50', 'underlying', 'conditions', 'well', 'adults', 'age', '65', 'whose', 'jobs', 'could', 'put', 'risk', 'Covid-19', 'exposure', 'may', 'get', 'booster', 'want', '.', 'Those', 'occupations', 'include', 'areas', 'people', 'variety', 'backgrounds', 'congregate', ':', 'schools', ',', 'health', 'care', 'settings', ',', 'jails', 'homeless', 'shelters', '.', 'The', 'difference', 'language', '—', '“', '”', 'vs.', '“', 'may', '”', '—', 'frustrated', 'physicians', 'faced', 'interpreting', 'CDC', 'guidance', '.', '“', 'The', 'problem', ',', 'I', '’', 'know', 'implement', '‘', 'may', '’', 'recommendation', ',', '”', 'said', 'Dr.', 'Hugh', 'Cassiere', ',', 'director', 'critical', 'care', 'services', 'Sandra', 'Atlas', 'Bass', 'Heart', 'Hospital', 'North', 'Shore', 'University', 'Hospital', ',', 'part', 'Northwell', 'Health', ',', 'Long', 'Island', ',', 'New', 'York', '.', '“', 'The', 'reason', 'said', '‘', 'may', '’', 'data', 'weak', ',', '”', 'said', '.', '“', 'Why', 'even', 'mention', '?', '”', 'The', 'guidance', ',', 'however', ',', 'could', 'interpreted', 'differently', 'depending', 'level', 'transmission', 'within', 'specific', 'communities', '.', 'You', 'could', 'teacher', 'school', 'district', \"'s\", 'little', 'Covid', 'circulating', ',', '’', 'really', 'risk', 'result', 'occupation', ',', 'said', 'Glen', 'Nowak', ',', 'co-director', 'University', 'Georgia', '’', 'Center', 'Health', 'Risk', 'Communication', '.', 'Conversely', ',', 'said', ',', 'educators', 'high-risk', 'areas', 'may', 'fit', 'requirements', 'third', 'dose', '.', 'Your', 'risk', 'situation', 'change', 'quickly', 'unpredictably', ',', 'Nowak', 'said', '.', 'On', 'Thursday', 'alone', ',', 'agency', 'logged', '120,000', 'daily', 'cases', ',', 'nearly', '10,000', 'hospitalizations', 'almost', '2,000', 'Covid-19-related', 'deaths', '.', 'Download', 'NBC', 'News', 'app', 'full', 'coverage', 'Covid-19', 'pandemic', 'On', 'Friday', ',', 'Walensky', 'said', 'people', 'still', 'consider', 'fully', 'vaccinated', 'getting', 'two', 'doses', 'Pfizer', 'Moderna', 'vaccine', 'one-dose', 'Johnson', '&', 'Johnson', 'vaccine', '.', 'Outside', 'experts', 'stressed', 'fully', 'vaccinated', 'individuals', 'immediate', 'risk', 'infection', '.', 'Israeli', 'data', 'Pfizer', 'shots', 'showed', 'despite', 'drop', 'protection', 'overall', 'infection', ',', 'vaccines', 'remained', '93', 'percent', 'effective', 'preventing', 'severe', 'illness', '.', 'This', 'emergency', ',', 'said', 'Dr.', 'Jesse', 'Goodman', ',', 'infectious', 'disease', 'specialist', 'Georgetown', 'University', 'Medical', 'Center', 'former', 'chief', 'scientist', 'Food', 'Drug', 'Administration', '.', 'People', 'received', 'Pfizer', 'doses', 'still', 'afforded', 'significant', 'protection', '.', 'Indeed', ',', 'unvaccinated', 'population', 'makes', 'vast', 'majority', 'severely', 'ill', 'Covid', 'patients', 'hospitals', 'intensive', 'care', 'units', '.', 'Infections', 'among', 'unvaccinated', 'continue', 'fuel', 'pandemic', 'resulting', 'rising', 'numbers', 'cases', ',', 'hospitalizations', 'deaths', ',', 'Walensky', 'said', 'Friday', '.', 'The', 'administration', \"'s\", 'focus', ',', 'added', ',', 'getting', 'vaccine', 'received', 'single', 'shot', '.', 'We', 'boost', 'way', 'pandemic', ',', 'said', '.', 'As', 'Friday', ',', 'CDC', 'reported', '55.1', 'percent', 'U.S.', 'population', 'fully', 'vaccinated', 'Covid-19', '.', 'Follow', 'NBC', 'HEALTH', 'Twitter', '&', 'Facebook', '.', 'Erika', 'Edwards', 'health', 'medical', 'news', 'writer', 'reporter', 'NBC', 'News', 'TODAY', '.', '©', '2022', 'NBC', 'UNIVERSAL']\n"
          ]
        }
      ],
      "source": [
        "filtered_tokens = [word for word in text1_tokens if not word in super_sw]\n",
        "print(text1_tokens)\n",
        "print(filtered_tokens)"
      ]
    },
    {
      "cell_type": "code",
      "execution_count": 107,
      "metadata": {
        "colab": {
          "base_uri": "https://localhost:8080/"
        },
        "id": "u90ZS0cu5ak2",
        "outputId": "29610aeb-a191-4c0c-a201-d50bb787c77a"
      },
      "outputs": [
        {
          "output_type": "stream",
          "name": "stdout",
          "text": [
            "['Health', 'care', 'workers', ',', 'teachers', 'and', 'other', 'essential', 'personnel', 'have', 'been', 'among', 'the', 'hardest', 'hit', 'by', 'Covid-19', 'and', 'should', 'qualify', 'for', 'a', 'vaccine', 'booster', 'shot', '—', 'despite', 'a', 'lack', 'of', 'robust', 'evidence', 'that', 'they', 'need', 'a', 'third', 'dose', 'to', 'protect', 'them', 'against', 'severe', 'disease', ',', 'the', 'head', 'of', 'the', 'Centers', 'for', 'Disease', 'Control', 'and', 'Prevention', 'said', 'Friday', '.', '“', 'In', 'a', 'pandemic', ',', 'we', 'must', 'often', 'take', 'steps', 'with', 'the', 'intention', 'to', 'do', 'the', 'greatest', 'good', ',', 'even', 'in', 'an', 'uncertain', 'environment', ',', '”', 'Dr.', 'Rochelle', 'Walensky', 'said', 'Friday', 'during', 'a', 'White', 'House', 'Covid-19', 'task', 'force', 'briefing', '.', 'Full', 'coverage', 'of', 'the', 'Covid-19', 'pandemic', 'Walensky', 'cited', 'the', 'disproportionate', 'impact', 'the', 'pandemic', 'has', 'had', 'on', 'racial', 'and', 'ethnic', 'minority', 'communities', 'as', 'a', 'reason', 'she', 'recommended', 'a', 'booster', 'dose', 'for', 'people', '18', 'and', 'older', 'at', 'high', 'risk', 'of', 'Covid', 'because', 'of', 'occupational', 'and', 'institutional', 'exposure', 'against', 'the', 'guidance', 'of', 'the', 'CDC', \"'s\", 'advisers', '.', 'Withholding', 'access', 'for', 'boosters', 'for', 'these', 'people', 'and', 'communities', 'only', 'worsens', 'the', 'inequities', 'that', 'I', 'have', 'committed', 'to', 'fight', 'against', ',', 'she', 'said', '.', 'Walensky', \"'s\", 'decision', 'to', 'allow', 'millions', 'of', 'Americans', 'over', 'the', 'age', 'of', '18', 'the', 'opportunity', 'to', 'get', 'a', 'booster', 'was', 'an', 'unusual', 'move', '.', 'She', 'overruled', 'the', 'agency', \"'s\", 'Advisory', 'Committee', 'on', 'Immunization', 'Practices', ',', 'which', 'voted', 'to', 'limit', 'boosters', 'to', 'elderly', 'people', 'and', 'older', 'people', 'with', 'underlying', 'health', 'conditions', '.', 'For', 'two', 'groups', ',', 'the', 'CDC', 'was', 'clear', ':', 'People', 'ages', '65', 'and', 'older', 'and', 'those', 'in', 'long-term', 'care', 'settings', 'and', 'people', 'ages', '50', 'to', '64', 'with', 'underlying', 'medical', 'conditions', 'should', 'get', 'a', 'third', 'shot', 'of', 'Pfizer', '’', 's', 'Covid-19', 'vaccine', 'at', 'least', 'six', 'months', 'after', 'their', 'first', 'two', 'shots', '.', 'Underlying', 'medical', 'conditions', 'include', 'cancer', ',', 'diabetes', ',', 'obesity', ',', 'pregnancy', 'and', 'kidney', 'disease', '.', 'The', 'recommendations', 'only', 'apply', 'to', 'those', 'who', 'received', 'the', 'first', 'two', 'doses', 'of', 'Pfizer-BioNTech', '’', 's', 'vaccine', ',', 'the', 'only', 'vaccine', 'booster', 'authorized', 'by', 'the', 'Food', 'and', 'Drug', 'Administration', '.', 'Booster', 'shot', 'data', 'for', 'those', 'who', 'got', 'the', 'Moderna', 'or', 'Johnson', '&', 'Johnson', 'shots', 'are', 'forthcoming', ',', 'the', 'CDC', 'said', '.', 'The', 'guidance', 'from', 'the', 'FDA', 'and', 'CDC', 'comes', 'after', 'data', 'from', 'Pfizer', 'found', 'its', 'vaccine', '’', 's', 'immunity', 'started', 'to', 'decline', 'after', 'six', 'months', '.', 'Evidence', 'has', 'been', 'strongest', 'for', 'a', 'booster', 'dose', 'in', 'people', 'ages', '65', 'and', 'older', '.', 'There', 'is', 'little', 'data', 'about', 'the', 'risks', 'of', 'severe', 'illness', 'for', 'younger', 'people', 'who', 'are', 'fully', 'vaccinated', 'and', 'even', 'less', 'evidence', 'showing', 'the', 'safety', 'of', 'a', 'third', 'dose', '.', 'This', 'was', 'the', 'sticking', 'point', 'for', 'many', 'experts', 'during', 'the', 'CDC', 'advisory', 'panel', \"'s\", 'meeting', '.', '“', 'What', 'worried', 'them', 'was', 'the', 'younger', 'age', 'limit', 'and', 'the', 'potential', 'to', 'do', 'more', 'harm', 'than', 'good', ',', '”', 'said', 'Dr.', 'Paul', 'Offit', ',', 'director', 'of', 'the', 'Vaccine', 'Education', 'Center', 'at', 'Children', '’', 's', 'Hospital', 'of', 'Philadelphia', ',', 'about', 'the', 'CDC', 'group', '’', 's', 'recommendation', '.', 'Researchers', 'had', 'previously', 'reported', 'a', 'higher-than-usual', 'number', 'of', 'cases', 'of', 'a', 'type', 'of', 'heart', 'inflammation', 'called', 'myocarditis', 'among', 'young', 'people', 'following', 'their', 'second', 'dose', 'of', 'an', 'mRNA', 'vaccine', '.', 'This', 'may', 'be', 'why', 'there', 'were', 'gray', 'areas', 'in', 'other', 'CDC', 'booster', 'shot', 'guidance', '.', 'The', 'agency', 'did', 'not', 'provide', 'a', 'strong', 'recommendation', 'for', 'two', 'other', 'major', 'groups', '.', 'Adults', 'under', 'age', '50', 'with', 'underlying', 'conditions', 'as', 'well', 'as', 'adults', 'under', 'age', '65', 'whose', 'jobs', 'could', 'put', 'them', 'at', 'risk', 'for', 'Covid-19', 'exposure', 'may', 'get', 'the', 'booster', 'if', 'they', 'want', 'it', '.', 'Those', 'occupations', 'include', 'areas', 'where', 'people', 'from', 'a', 'variety', 'of', 'backgrounds', 'congregate', ':', 'schools', ',', 'health', 'care', 'settings', ',', 'jails', 'and', 'homeless', 'shelters', '.', 'The', 'difference', 'in', 'language', '—', '“', 'should', '”', 'vs.', '“', 'may', '”', '—', 'has', 'frustrated', 'some', 'physicians', 'who', 'are', 'now', 'faced', 'with', 'interpreting', 'what', 'to', 'do', 'with', 'the', 'CDC', 'guidance', '.', '“', 'The', 'problem', 'is', ',', 'I', 'don', '’', 't', 'know', 'how', 'to', 'implement', 'a', '‘', 'may', '’', 'recommendation', ',', '”', 'said', 'Dr.', 'Hugh', 'Cassiere', ',', 'director', 'of', 'critical', 'care', 'services', 'for', 'Sandra', 'Atlas', 'Bass', 'Heart', 'Hospital', 'at', 'North', 'Shore', 'University', 'Hospital', ',', 'part', 'of', 'Northwell', 'Health', ',', 'on', 'Long', 'Island', ',', 'New', 'York', '.', '“', 'The', 'reason', 'why', 'they', 'said', '‘', 'may', '’', 'is', 'because', 'the', 'data', 'are', 'weak', ',', '”', 'he', 'said', '.', '“', 'Why', 'even', 'mention', 'it', '?', '”', 'The', 'guidance', ',', 'however', ',', 'could', 'be', 'interpreted', 'differently', 'depending', 'on', 'the', 'level', 'of', 'transmission', 'within', 'specific', 'communities', '.', 'You', 'could', 'be', 'a', 'teacher', 'in', 'a', 'school', 'district', 'where', 'there', \"'s\", 'very', 'little', 'Covid', 'circulating', ',', 'and', 'you', '’', 're', 'really', 'not', 'at', 'risk', 'as', 'a', 'result', 'of', 'your', 'occupation', ',', 'said', 'Glen', 'Nowak', ',', 'co-director', 'of', 'the', 'University', 'of', 'Georgia', '’', 's', 'Center', 'for', 'Health', 'and', 'Risk', 'Communication', '.', 'Conversely', ',', 'he', 'said', ',', 'educators', 'in', 'high-risk', 'areas', 'may', 'fit', 'the', 'requirements', 'for', 'a', 'third', 'dose', '.', 'Your', 'risk', 'situation', 'can', 'change', 'quickly', 'and', 'unpredictably', ',', 'Nowak', 'said', '.', 'On', 'Thursday', 'alone', ',', 'the', 'agency', 'had', 'logged', 'more', 'than', '120,000', 'daily', 'cases', ',', 'nearly', '10,000', 'hospitalizations', 'and', 'almost', '2,000', 'Covid-19-related', 'deaths', '.', 'Download', 'the', 'NBC', 'News', 'app', 'for', 'full', 'coverage', 'of', 'the', 'Covid-19', 'pandemic', 'On', 'Friday', ',', 'Walensky', 'said', 'people', 'should', 'still', 'consider', 'themselves', 'fully', 'vaccinated', 'after', 'getting', 'two', 'doses', 'of', 'a', 'Pfizer', 'or', 'Moderna', 'vaccine', 'or', 'the', 'one-dose', 'Johnson', '&', 'Johnson', 'vaccine', '.', 'Outside', 'experts', 'stressed', 'that', 'fully', 'vaccinated', 'individuals', 'are', 'not', 'at', 'immediate', 'risk', 'of', 'infection', '.', 'Israeli', 'data', 'on', 'the', 'Pfizer', 'shots', 'showed', 'that', 'despite', 'a', 'drop', 'in', 'protection', 'from', 'overall', 'infection', ',', 'the', 'vaccines', 'remained', '93', 'percent', 'effective', 'in', 'preventing', 'severe', 'illness', '.', 'This', 'is', 'not', 'an', 'emergency', ',', 'said', 'Dr.', 'Jesse', 'Goodman', ',', 'infectious', 'disease', 'specialist', 'at', 'Georgetown', 'University', 'Medical', 'Center', 'and', 'former', 'chief', 'scientist', 'with', 'the', 'Food', 'and', 'Drug', 'Administration', '.', 'People', 'who', 'have', 'received', 'both', 'Pfizer', 'doses', 'are', 'still', 'afforded', 'significant', 'protection', '.', 'Indeed', ',', 'it', 'is', 'the', 'unvaccinated', 'population', 'that', 'makes', 'up', 'the', 'vast', 'majority', 'of', 'severely', 'ill', 'Covid', 'patients', 'in', 'hospitals', 'and', 'intensive', 'care', 'units', '.', 'Infections', 'among', 'the', 'unvaccinated', 'continue', 'to', 'fuel', 'this', 'pandemic', 'resulting', 'in', 'rising', 'numbers', 'of', 'cases', ',', 'hospitalizations', 'and', 'deaths', ',', 'Walensky', 'said', 'Friday', '.', 'The', 'administration', \"'s\", 'focus', ',', 'she', 'added', ',', 'will', 'be', 'on', 'getting', 'the', 'vaccine', 'to', 'those', 'who', 'have', 'not', 'received', 'a', 'single', 'shot', '.', 'We', 'will', 'not', 'boost', 'our', 'way', 'out', 'of', 'this', 'pandemic', ',', 'she', 'said', '.', 'As', 'of', 'Friday', ',', 'the', 'CDC', 'reported', 'that', 'just', '55.1', 'percent', 'of', 'the', 'U.S.', 'population', 'had', 'been', 'fully', 'vaccinated', 'against', 'Covid-19', '.', 'Follow', 'NBC', 'HEALTH', 'on', 'Twitter', '&', 'Facebook', '.', 'Erika', 'Edwards', 'is', 'a', 'health', 'and', 'medical', 'news', 'writer', 'and', 'reporter', 'for', 'NBC', 'News', 'and', 'TODAY', '.', '©', '2022', 'NBC', 'UNIVERSAL']\n",
            "['Health', 'care', 'workers', ',', 'teachers', 'essential', 'personnel', 'among', 'hardest', 'hit', 'Covid-19', 'qualify', 'vaccine', 'booster', 'shot', '—', 'despite', 'lack', 'robust', 'evidence', 'need', 'third', 'dose', 'protect', 'severe', 'disease', ',', 'head', 'Centers', 'Disease', 'Control', 'Prevention', 'said', 'Friday', '.', '“', 'In', 'pandemic', ',', 'must', 'often', 'take', 'steps', 'intention', 'greatest', 'good', ',', 'even', 'uncertain', 'environment', ',', '”', 'Dr.', 'Rochelle', 'Walensky', 'said', 'Friday', 'White', 'House', 'Covid-19', 'task', 'force', 'briefing', '.', 'Full', 'coverage', 'Covid-19', 'pandemic', 'Walensky', 'cited', 'disproportionate', 'impact', 'pandemic', 'racial', 'ethnic', 'minority', 'communities', 'reason', 'recommended', 'booster', 'dose', 'people', '18', 'older', 'high', 'risk', 'Covid', 'occupational', 'institutional', 'exposure', 'guidance', 'CDC', \"'s\", 'advisers', '.', 'Withholding', 'access', 'boosters', 'people', 'communities', 'worsens', 'inequities', 'I', 'committed', 'fight', ',', 'said', '.', 'Walensky', \"'s\", 'decision', 'allow', 'millions', 'Americans', 'age', '18', 'opportunity', 'get', 'booster', 'unusual', 'move', '.', 'She', 'overruled', 'agency', \"'s\", 'Advisory', 'Committee', 'Immunization', 'Practices', ',', 'voted', 'limit', 'boosters', 'elderly', 'people', 'older', 'people', 'underlying', 'health', 'conditions', '.', 'For', 'two', 'groups', ',', 'CDC', 'clear', ':', 'People', 'ages', '65', 'older', 'long-term', 'care', 'settings', 'people', 'ages', '50', '64', 'underlying', 'medical', 'conditions', 'get', 'third', 'shot', 'Pfizer', '’', 'Covid-19', 'vaccine', 'least', 'six', 'months', 'first', 'two', 'shots', '.', 'Underlying', 'medical', 'conditions', 'include', 'cancer', ',', 'diabetes', ',', 'obesity', ',', 'pregnancy', 'kidney', 'disease', '.', 'The', 'recommendations', 'apply', 'received', 'first', 'two', 'doses', 'Pfizer-BioNTech', '’', 'vaccine', ',', 'vaccine', 'booster', 'authorized', 'Food', 'Drug', 'Administration', '.', 'Booster', 'shot', 'data', 'got', 'Moderna', 'Johnson', '&', 'Johnson', 'shots', 'forthcoming', ',', 'CDC', 'said', '.', 'The', 'guidance', 'FDA', 'CDC', 'comes', 'data', 'Pfizer', 'found', 'vaccine', '’', 'immunity', 'started', 'decline', 'six', 'months', '.', 'Evidence', 'strongest', 'booster', 'dose', 'people', 'ages', '65', 'older', '.', 'There', 'little', 'data', 'risks', 'severe', 'illness', 'younger', 'people', 'fully', 'vaccinated', 'even', 'less', 'evidence', 'showing', 'safety', 'third', 'dose', '.', 'This', 'sticking', 'point', 'many', 'experts', 'CDC', 'advisory', 'panel', \"'s\", 'meeting', '.', '“', 'What', 'worried', 'younger', 'age', 'limit', 'potential', 'harm', 'good', ',', '”', 'said', 'Dr.', 'Paul', 'Offit', ',', 'director', 'Vaccine', 'Education', 'Center', 'Children', '’', 'Hospital', 'Philadelphia', ',', 'CDC', 'group', '’', 'recommendation', '.', 'Researchers', 'previously', 'reported', 'higher-than-usual', 'number', 'cases', 'type', 'heart', 'inflammation', 'called', 'myocarditis', 'among', 'young', 'people', 'following', 'second', 'dose', 'mRNA', 'vaccine', '.', 'This', 'may', 'gray', 'areas', 'CDC', 'booster', 'shot', 'guidance', '.', 'The', 'agency', 'provide', 'strong', 'recommendation', 'two', 'major', 'groups', '.', 'Adults', 'age', '50', 'underlying', 'conditions', 'well', 'adults', 'age', '65', 'whose', 'jobs', 'could', 'put', 'risk', 'Covid-19', 'exposure', 'may', 'get', 'booster', 'want', '.', 'Those', 'occupations', 'include', 'areas', 'people', 'variety', 'backgrounds', 'congregate', ':', 'schools', ',', 'health', 'care', 'settings', ',', 'jails', 'homeless', 'shelters', '.', 'The', 'difference', 'language', '—', '“', '”', 'vs.', '“', 'may', '”', '—', 'frustrated', 'physicians', 'faced', 'interpreting', 'CDC', 'guidance', '.', '“', 'The', 'problem', ',', 'I', '’', 'know', 'implement', '‘', 'may', '’', 'recommendation', ',', '”', 'said', 'Dr.', 'Hugh', 'Cassiere', ',', 'director', 'critical', 'care', 'services', 'Sandra', 'Atlas', 'Bass', 'Heart', 'Hospital', 'North', 'Shore', 'University', 'Hospital', ',', 'part', 'Northwell', 'Health', ',', 'Long', 'Island', ',', 'New', 'York', '.', '“', 'The', 'reason', 'said', '‘', 'may', '’', 'data', 'weak', ',', '”', 'said', '.', '“', 'Why', 'even', 'mention', '?', '”', 'The', 'guidance', ',', 'however', ',', 'could', 'interpreted', 'differently', 'depending', 'level', 'transmission', 'within', 'specific', 'communities', '.', 'You', 'could', 'teacher', 'school', 'district', \"'s\", 'little', 'Covid', 'circulating', ',', '’', 'really', 'risk', 'result', 'occupation', ',', 'said', 'Glen', 'Nowak', ',', 'co-director', 'University', 'Georgia', '’', 'Center', 'Health', 'Risk', 'Communication', '.', 'Conversely', ',', 'said', ',', 'educators', 'high-risk', 'areas', 'may', 'fit', 'requirements', 'third', 'dose', '.', 'Your', 'risk', 'situation', 'change', 'quickly', 'unpredictably', ',', 'Nowak', 'said', '.', 'On', 'Thursday', 'alone', ',', 'agency', 'logged', '120,000', 'daily', 'cases', ',', 'nearly', '10,000', 'hospitalizations', 'almost', '2,000', 'Covid-19-related', 'deaths', '.', 'Download', 'NBC', 'News', 'app', 'full', 'coverage', 'Covid-19', 'pandemic', 'On', 'Friday', ',', 'Walensky', 'said', 'people', 'still', 'consider', 'fully', 'vaccinated', 'getting', 'two', 'doses', 'Pfizer', 'Moderna', 'vaccine', 'one-dose', 'Johnson', '&', 'Johnson', 'vaccine', '.', 'Outside', 'experts', 'stressed', 'fully', 'vaccinated', 'individuals', 'immediate', 'risk', 'infection', '.', 'Israeli', 'data', 'Pfizer', 'shots', 'showed', 'despite', 'drop', 'protection', 'overall', 'infection', ',', 'vaccines', 'remained', '93', 'percent', 'effective', 'preventing', 'severe', 'illness', '.', 'This', 'emergency', ',', 'said', 'Dr.', 'Jesse', 'Goodman', ',', 'infectious', 'disease', 'specialist', 'Georgetown', 'University', 'Medical', 'Center', 'former', 'chief', 'scientist', 'Food', 'Drug', 'Administration', '.', 'People', 'received', 'Pfizer', 'doses', 'still', 'afforded', 'significant', 'protection', '.', 'Indeed', ',', 'unvaccinated', 'population', 'makes', 'vast', 'majority', 'severely', 'ill', 'Covid', 'patients', 'hospitals', 'intensive', 'care', 'units', '.', 'Infections', 'among', 'unvaccinated', 'continue', 'fuel', 'pandemic', 'resulting', 'rising', 'numbers', 'cases', ',', 'hospitalizations', 'deaths', ',', 'Walensky', 'said', 'Friday', '.', 'The', 'administration', \"'s\", 'focus', ',', 'added', ',', 'getting', 'vaccine', 'received', 'single', 'shot', '.', 'We', 'boost', 'way', 'pandemic', ',', 'said', '.', 'As', 'Friday', ',', 'CDC', 'reported', '55.1', 'percent', 'U.S.', 'population', 'fully', 'vaccinated', 'Covid-19', '.', 'Follow', 'NBC', 'HEALTH', 'Twitter', '&', 'Facebook', '.', 'Erika', 'Edwards', 'health', 'medical', 'news', 'writer', 'reporter', 'NBC', 'News', 'TODAY', '.', '©', '2022', 'NBC', 'UNIVERSAL']\n",
            "['Health', 'care', 'workers', ',', 'teachers', 'essential', 'personnel', 'among', 'hardest', 'hit', 'Covid-19', 'qualify', 'vaccine', 'booster', 'shot', '—', 'despite', 'lack', 'robust', 'evidence', 'need', 'third', 'dose', 'protect', 'severe', 'disease', ',', 'head', 'Centers', 'Disease', 'Control', 'Prevention', 'said', 'Friday', '“', 'In', 'pandemic', ',', 'must', 'often', 'take', 'steps', 'intention', 'greatest', 'good', ',', 'even', 'uncertain', 'environment', ',', '”', 'Dr.', 'Rochelle', 'Walensky', 'said', 'Friday', 'White', 'House', 'Covid-19', 'task', 'force', 'briefing', 'Full', 'coverage', 'Covid-19', 'pandemic', 'Walensky', 'cited', 'disproportionate', 'impact', 'pandemic', 'racial', 'ethnic', 'minority', 'communities', 'reason', 'recommended', 'booster', 'dose', 'people', '18', 'older', 'high', 'risk', 'Covid', 'occupational', 'institutional', 'exposure', 'guidance', 'CDC', 'advisers', 'Withholding', 'access', 'boosters', 'people', 'communities', 'worsens', 'inequities', 'I', 'committed', 'fight', ',', 'said', 'Walensky', 'decision', 'allow', 'millions', 'Americans', 'age', '18', 'opportunity', 'get', 'booster', 'unusual', 'move', 'She', 'overruled', 'agency', 'Advisory', 'Committee', 'Immunization', 'Practices', ',', 'voted', 'limit', 'boosters', 'elderly', 'people', 'older', 'people', 'underlying', 'health', 'conditions', 'For', 'two', 'groups', ',', 'CDC', 'clear', ':', 'People', 'ages', '65', 'older', 'long-term', 'care', 'settings', 'people', 'ages', '50', '64', 'underlying', 'medical', 'conditions', 'get', 'third', 'shot', 'Pfizer', '’', 'Covid-19', 'vaccine', 'least', 'six', 'months', 'first', 'two', 'shots', 'Underlying', 'medical', 'conditions', 'include', 'cancer', ',', 'diabetes', ',', 'obesity', ',', 'pregnancy', 'kidney', 'disease', 'The', 'recommendations', 'apply', 'received', 'first', 'two', 'doses', 'Pfizer-BioNTech', '’', 'vaccine', ',', 'vaccine', 'booster', 'authorized', 'Food', 'Drug', 'Administration', 'Booster', 'shot', 'data', 'got', 'Moderna', 'Johnson', '&', 'Johnson', 'shots', 'forthcoming', ',', 'CDC', 'said', 'The', 'guidance', 'FDA', 'CDC', 'comes', 'data', 'Pfizer', 'found', 'vaccine', '’', 'immunity', 'started', 'decline', 'six', 'months', 'Evidence', 'strongest', 'booster', 'dose', 'people', 'ages', '65', 'older', 'There', 'little', 'data', 'risks', 'severe', 'illness', 'younger', 'people', 'fully', 'vaccinated', 'even', 'less', 'evidence', 'showing', 'safety', 'third', 'dose', 'This', 'sticking', 'point', 'many', 'experts', 'CDC', 'advisory', 'panel', 'meeting', '“', 'What', 'worried', 'younger', 'age', 'limit', 'potential', 'harm', 'good', ',', '”', 'said', 'Dr.', 'Paul', 'Offit', ',', 'director', 'Vaccine', 'Education', 'Center', 'Children', '’', 'Hospital', 'Philadelphia', ',', 'CDC', 'group', '’', 'recommendation', 'Researchers', 'previously', 'reported', 'higher-than-usual', 'number', 'cases', 'type', 'heart', 'inflammation', 'called', 'myocarditis', 'among', 'young', 'people', 'following', 'second', 'dose', 'mRNA', 'vaccine', 'This', 'may', 'gray', 'areas', 'CDC', 'booster', 'shot', 'guidance', 'The', 'agency', 'provide', 'strong', 'recommendation', 'two', 'major', 'groups', 'Adults', 'age', '50', 'underlying', 'conditions', 'well', 'adults', 'age', '65', 'whose', 'jobs', 'could', 'put', 'risk', 'Covid-19', 'exposure', 'may', 'get', 'booster', 'want', 'Those', 'occupations', 'include', 'areas', 'people', 'variety', 'backgrounds', 'congregate', ':', 'schools', ',', 'health', 'care', 'settings', ',', 'jails', 'homeless', 'shelters', 'The', 'difference', 'language', '—', '“', '”', 'vs.', '“', 'may', '”', '—', 'frustrated', 'physicians', 'faced', 'interpreting', 'CDC', 'guidance', '“', 'The', 'problem', ',', 'I', '’', 'know', 'implement', '‘', 'may', '’', 'recommendation', ',', '”', 'said', 'Dr.', 'Hugh', 'Cassiere', ',', 'director', 'critical', 'care', 'services', 'Sandra', 'Atlas', 'Bass', 'Heart', 'Hospital', 'North', 'Shore', 'University', 'Hospital', ',', 'part', 'Northwell', 'Health', ',', 'Long', 'Island', ',', 'New', 'York', '“', 'The', 'reason', 'said', '‘', 'may', '’', 'data', 'weak', ',', '”', 'said', '“', 'Why', 'even', 'mention', '?', '”', 'The', 'guidance', ',', 'however', ',', 'could', 'interpreted', 'differently', 'depending', 'level', 'transmission', 'within', 'specific', 'communities', 'You', 'could', 'teacher', 'school', 'district', 'little', 'Covid', 'circulating', ',', '’', 'really', 'risk', 'result', 'occupation', ',', 'said', 'Glen', 'Nowak', ',', 'co-director', 'University', 'Georgia', '’', 'Center', 'Health', 'Risk', 'Communication', 'Conversely', ',', 'said', ',', 'educators', 'high-risk', 'areas', 'may', 'fit', 'requirements', 'third', 'dose', 'Your', 'risk', 'situation', 'change', 'quickly', 'unpredictably', ',', 'Nowak', 'said', 'On', 'Thursday', 'alone', ',', 'agency', 'logged', '120,000', 'daily', 'cases', ',', 'nearly', '10,000', 'hospitalizations', 'almost', '2,000', 'Covid-19-related', 'deaths', 'Download', 'NBC', 'News', 'app', 'full', 'coverage', 'Covid-19', 'pandemic', 'On', 'Friday', ',', 'Walensky', 'said', 'people', 'still', 'consider', 'fully', 'vaccinated', 'getting', 'two', 'doses', 'Pfizer', 'Moderna', 'vaccine', 'one-dose', 'Johnson', '&', 'Johnson', 'vaccine', 'Outside', 'experts', 'stressed', 'fully', 'vaccinated', 'individuals', 'immediate', 'risk', 'infection', 'Israeli', 'data', 'Pfizer', 'shots', 'showed', 'despite', 'drop', 'protection', 'overall', 'infection', ',', 'vaccines', 'remained', '93', 'percent', 'effective', 'preventing', 'severe', 'illness', 'This', 'emergency', ',', 'said', 'Dr.', 'Jesse', 'Goodman', ',', 'infectious', 'disease', 'specialist', 'Georgetown', 'University', 'Medical', 'Center', 'former', 'chief', 'scientist', 'Food', 'Drug', 'Administration', 'People', 'received', 'Pfizer', 'doses', 'still', 'afforded', 'significant', 'protection', 'Indeed', ',', 'unvaccinated', 'population', 'makes', 'vast', 'majority', 'severely', 'ill', 'Covid', 'patients', 'hospitals', 'intensive', 'care', 'units', 'Infections', 'among', 'unvaccinated', 'continue', 'fuel', 'pandemic', 'resulting', 'rising', 'numbers', 'cases', ',', 'hospitalizations', 'deaths', ',', 'Walensky', 'said', 'Friday', 'The', 'administration', 'focus', ',', 'added', ',', 'getting', 'vaccine', 'received', 'single', 'shot', 'We', 'boost', 'way', 'pandemic', ',', 'said', 'As', 'Friday', ',', 'CDC', 'reported', '55.1', 'percent', 'U.S.', 'population', 'fully', 'vaccinated', 'Covid-19', 'Follow', 'NBC', 'HEALTH', 'Twitter', '&', 'Facebook', 'Erika', 'Edwards', 'health', 'medical', 'news', 'writer', 'reporter', 'NBC', 'News', 'TODAY', '©', '2022', 'NBC', 'UNIVERSAL']\n"
          ]
        }
      ],
      "source": [
        "#sometime you need to define your stopwords\n",
        "#for example I define user_stopwords as below\n",
        "user_stopwords = [\"'s\",\".\",\"ca\"]\n",
        "#then remove these stopwords\n",
        "filtered_tokens_2 = [word for word in filtered_tokens if not word in user_stopwords]\n",
        "print(text1_tokens)\n",
        "print(filtered_tokens)\n",
        "print(filtered_tokens_2)"
      ]
    },
    {
      "cell_type": "markdown",
      "metadata": {
        "id": "6Ea7rngmpsfp"
      },
      "source": [
        "# 8.Term Frequency"
      ]
    },
    {
      "cell_type": "code",
      "execution_count": 108,
      "metadata": {
        "colab": {
          "base_uri": "https://localhost:8080/"
        },
        "id": "VO4aDFkONBDq",
        "outputId": "81ef5c3d-7970-490a-f7b3-a84b53dc4c46"
      },
      "outputs": [
        {
          "output_type": "stream",
          "name": "stdout",
          "text": [
            "['this', 'is', 'a', 'good', 'sample']\n",
            "['this', 'is', 'another', 'example', 'another', 'example', 'example']\n"
          ]
        }
      ],
      "source": [
        "doc1=\"this is a good sample\"\n",
        "doc2= \"this is another example another example example\"\n",
        "\n",
        "doc1_tokens = doc1.split()\n",
        "doc2_tokens = doc2.split()\n",
        "print(doc1_tokens)\n",
        "print(doc2_tokens)"
      ]
    },
    {
      "cell_type": "code",
      "execution_count": 109,
      "metadata": {
        "id": "4Lig6G7m3tfp",
        "colab": {
          "base_uri": "https://localhost:8080/"
        },
        "outputId": "6c5924a6-f5f3-4dd9-a99f-115466556164"
      },
      "outputs": [
        {
          "output_type": "execute_result",
          "data": {
            "text/plain": [
              "0.2"
            ]
          },
          "metadata": {},
          "execution_count": 109
        }
      ],
      "source": [
        "# create tf function\n",
        "def tf(term, token_doc):\n",
        "    tf = token_doc.count(term)/len(token_doc)\n",
        "    return tf\n",
        "\n",
        "#test tf function\n",
        "tf(\"this\",doc1_tokens)"
      ]
    },
    {
      "cell_type": "code",
      "execution_count": 71,
      "metadata": {
        "colab": {
          "base_uri": "https://localhost:8080/"
        },
        "id": "kAV6ZlDSeKU-",
        "outputId": "5de5a1d8-ba75-454c-e376-70b277cd4ae7"
      },
      "outputs": [
        {
          "output_type": "stream",
          "name": "stdout",
          "text": [
            "{'this': 0.2, 'is': 0.2, 'a': 0.2, 'good': 0.2, 'sample': 0.2}\n"
          ]
        }
      ],
      "source": [
        "#calculate term frequency in doc1:\n",
        "doc1_tf ={} # defien doc1_tf is dictionary structure\n",
        "for word in doc1_tokens:\n",
        "  doc1_tf[word]=tf(word,doc1_tokens)\n",
        "print(doc1_tf)"
      ]
    },
    {
      "cell_type": "code",
      "execution_count": 72,
      "metadata": {
        "colab": {
          "base_uri": "https://localhost:8080/"
        },
        "id": "YlZ_UsyBeuzS",
        "outputId": "1e85a227-8062-4a07-b0f1-8ef1165be884"
      },
      "outputs": [
        {
          "output_type": "stream",
          "name": "stdout",
          "text": [
            "{'this': 0.14285714285714285, 'is': 0.14285714285714285, 'another': 0.2857142857142857, 'example': 0.42857142857142855}\n"
          ]
        }
      ],
      "source": [
        "#calculate term frequency in doc2:\n",
        "doc2_tf ={} # defien doc1_tf is dictionary structure\n",
        "for word in doc2_tokens:\n",
        "  doc2_tf[word]=tf(word,doc2_tokens)\n",
        "print(doc2_tf)"
      ]
    },
    {
      "cell_type": "code",
      "execution_count": 73,
      "metadata": {
        "colab": {
          "base_uri": "https://localhost:8080/",
          "height": 112
        },
        "id": "nw7bb-kjfK6F",
        "outputId": "b1ba4b17-3ef6-4fa6-96ed-e9b605bef752"
      },
      "outputs": [
        {
          "output_type": "execute_result",
          "data": {
            "text/html": [
              "\n",
              "  <div id=\"df-9586d881-d6b5-49c6-8672-5833464eec6c\">\n",
              "    <div class=\"colab-df-container\">\n",
              "      <div>\n",
              "<style scoped>\n",
              "    .dataframe tbody tr th:only-of-type {\n",
              "        vertical-align: middle;\n",
              "    }\n",
              "\n",
              "    .dataframe tbody tr th {\n",
              "        vertical-align: top;\n",
              "    }\n",
              "\n",
              "    .dataframe thead th {\n",
              "        text-align: right;\n",
              "    }\n",
              "</style>\n",
              "<table border=\"1\" class=\"dataframe\">\n",
              "  <thead>\n",
              "    <tr style=\"text-align: right;\">\n",
              "      <th></th>\n",
              "      <th>this</th>\n",
              "      <th>is</th>\n",
              "      <th>a</th>\n",
              "      <th>good</th>\n",
              "      <th>sample</th>\n",
              "      <th>another</th>\n",
              "      <th>example</th>\n",
              "    </tr>\n",
              "  </thead>\n",
              "  <tbody>\n",
              "    <tr>\n",
              "      <th>doc1</th>\n",
              "      <td>0.200000</td>\n",
              "      <td>0.200000</td>\n",
              "      <td>0.2</td>\n",
              "      <td>0.2</td>\n",
              "      <td>0.2</td>\n",
              "      <td>NaN</td>\n",
              "      <td>NaN</td>\n",
              "    </tr>\n",
              "    <tr>\n",
              "      <th>doc2</th>\n",
              "      <td>0.142857</td>\n",
              "      <td>0.142857</td>\n",
              "      <td>NaN</td>\n",
              "      <td>NaN</td>\n",
              "      <td>NaN</td>\n",
              "      <td>0.285714</td>\n",
              "      <td>0.428571</td>\n",
              "    </tr>\n",
              "  </tbody>\n",
              "</table>\n",
              "</div>\n",
              "      <button class=\"colab-df-convert\" onclick=\"convertToInteractive('df-9586d881-d6b5-49c6-8672-5833464eec6c')\"\n",
              "              title=\"Convert this dataframe to an interactive table.\"\n",
              "              style=\"display:none;\">\n",
              "        \n",
              "  <svg xmlns=\"http://www.w3.org/2000/svg\" height=\"24px\"viewBox=\"0 0 24 24\"\n",
              "       width=\"24px\">\n",
              "    <path d=\"M0 0h24v24H0V0z\" fill=\"none\"/>\n",
              "    <path d=\"M18.56 5.44l.94 2.06.94-2.06 2.06-.94-2.06-.94-.94-2.06-.94 2.06-2.06.94zm-11 1L8.5 8.5l.94-2.06 2.06-.94-2.06-.94L8.5 2.5l-.94 2.06-2.06.94zm10 10l.94 2.06.94-2.06 2.06-.94-2.06-.94-.94-2.06-.94 2.06-2.06.94z\"/><path d=\"M17.41 7.96l-1.37-1.37c-.4-.4-.92-.59-1.43-.59-.52 0-1.04.2-1.43.59L10.3 9.45l-7.72 7.72c-.78.78-.78 2.05 0 2.83L4 21.41c.39.39.9.59 1.41.59.51 0 1.02-.2 1.41-.59l7.78-7.78 2.81-2.81c.8-.78.8-2.07 0-2.86zM5.41 20L4 18.59l7.72-7.72 1.47 1.35L5.41 20z\"/>\n",
              "  </svg>\n",
              "      </button>\n",
              "      \n",
              "  <style>\n",
              "    .colab-df-container {\n",
              "      display:flex;\n",
              "      flex-wrap:wrap;\n",
              "      gap: 12px;\n",
              "    }\n",
              "\n",
              "    .colab-df-convert {\n",
              "      background-color: #E8F0FE;\n",
              "      border: none;\n",
              "      border-radius: 50%;\n",
              "      cursor: pointer;\n",
              "      display: none;\n",
              "      fill: #1967D2;\n",
              "      height: 32px;\n",
              "      padding: 0 0 0 0;\n",
              "      width: 32px;\n",
              "    }\n",
              "\n",
              "    .colab-df-convert:hover {\n",
              "      background-color: #E2EBFA;\n",
              "      box-shadow: 0px 1px 2px rgba(60, 64, 67, 0.3), 0px 1px 3px 1px rgba(60, 64, 67, 0.15);\n",
              "      fill: #174EA6;\n",
              "    }\n",
              "\n",
              "    [theme=dark] .colab-df-convert {\n",
              "      background-color: #3B4455;\n",
              "      fill: #D2E3FC;\n",
              "    }\n",
              "\n",
              "    [theme=dark] .colab-df-convert:hover {\n",
              "      background-color: #434B5C;\n",
              "      box-shadow: 0px 1px 3px 1px rgba(0, 0, 0, 0.15);\n",
              "      filter: drop-shadow(0px 1px 2px rgba(0, 0, 0, 0.3));\n",
              "      fill: #FFFFFF;\n",
              "    }\n",
              "  </style>\n",
              "\n",
              "      <script>\n",
              "        const buttonEl =\n",
              "          document.querySelector('#df-9586d881-d6b5-49c6-8672-5833464eec6c button.colab-df-convert');\n",
              "        buttonEl.style.display =\n",
              "          google.colab.kernel.accessAllowed ? 'block' : 'none';\n",
              "\n",
              "        async function convertToInteractive(key) {\n",
              "          const element = document.querySelector('#df-9586d881-d6b5-49c6-8672-5833464eec6c');\n",
              "          const dataTable =\n",
              "            await google.colab.kernel.invokeFunction('convertToInteractive',\n",
              "                                                     [key], {});\n",
              "          if (!dataTable) return;\n",
              "\n",
              "          const docLinkHtml = 'Like what you see? Visit the ' +\n",
              "            '<a target=\"_blank\" href=https://colab.research.google.com/notebooks/data_table.ipynb>data table notebook</a>'\n",
              "            + ' to learn more about interactive tables.';\n",
              "          element.innerHTML = '';\n",
              "          dataTable['output_type'] = 'display_data';\n",
              "          await google.colab.output.renderOutput(dataTable, element);\n",
              "          const docLink = document.createElement('div');\n",
              "          docLink.innerHTML = docLinkHtml;\n",
              "          element.appendChild(docLink);\n",
              "        }\n",
              "      </script>\n",
              "    </div>\n",
              "  </div>\n",
              "  "
            ],
            "text/plain": [
              "          this        is    a  good  sample   another   example\n",
              "doc1  0.200000  0.200000  0.2   0.2     0.2       NaN       NaN\n",
              "doc2  0.142857  0.142857  NaN   NaN     NaN  0.285714  0.428571"
            ]
          },
          "metadata": {},
          "execution_count": 73
        }
      ],
      "source": [
        "#convert to pandas frame\n",
        "import pandas as pd\n",
        "tf_dict = {\"doc1\":doc1_tf,\"doc2\":doc2_tf}\n",
        "tf_dataframe = pd.DataFrame(tf_dict).transpose()\n",
        "tf_dataframe"
      ]
    }
  ],
  "metadata": {
    "colab": {
      "collapsed_sections": [],
      "name": "week3_text_to_numerical_vector.ipynb",
      "provenance": []
    },
    "kernelspec": {
      "display_name": "Python 3",
      "name": "python3"
    }
  },
  "nbformat": 4,
  "nbformat_minor": 0
}